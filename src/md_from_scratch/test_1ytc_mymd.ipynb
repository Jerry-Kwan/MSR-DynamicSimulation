{
 "cells": [
  {
   "cell_type": "code",
   "execution_count": 1,
   "metadata": {},
   "outputs": [
    {
     "data": {
      "application/vnd.jupyter.widget-view+json": {
       "model_id": "e12174e90adf48979a59d3a9e5f48869",
       "version_major": 2,
       "version_minor": 0
      },
      "text/plain": []
     },
     "metadata": {},
     "output_type": "display_data"
    }
   ],
   "source": [
    "import os\n",
    "import numpy as np\n",
    "import torch\n",
    "import random\n",
    "import parmed\n",
    "import nglview as ng\n",
    "import MDAnalysis as md\n",
    "from MDAnalysis.analysis import dihedrals\n",
    "import matplotlib.pyplot as plt\n",
    "\n",
    "import mymd"
   ]
  },
  {
   "cell_type": "code",
   "execution_count": 2,
   "metadata": {},
   "outputs": [
    {
     "data": {
      "text/plain": [
       "<torch._C.Generator at 0x127998ef0>"
      ]
     },
     "execution_count": 2,
     "metadata": {},
     "output_type": "execute_result"
    }
   ],
   "source": [
    "seed = 1\n",
    "random.seed(seed)\n",
    "np.random.seed(seed)\n",
    "torch.manual_seed(seed)"
   ]
  },
  {
   "cell_type": "code",
   "execution_count": 3,
   "metadata": {},
   "outputs": [],
   "source": [
    "data_path = '../../data/md_from_scratch/1ytc'\n",
    "csv_path = '../../data/md_from_scratch/1ytc/rslt_mymd'\n",
    "dcd_path = '../../data/md_from_scratch/1ytc/rslt_mymd'\n",
    "\n",
    "old_pdb_file = os.path.join(data_path, '1ytc_fixed.pdb')\n",
    "psf_file = os.path.join(data_path, '1ytc_fixed_mymd.psf')\n",
    "prmtop_file = os.path.join(data_path, '1ytc_fixed_mymd.prmtop')\n",
    "pdb_file = os.path.join(data_path, '1ytc_fixed_mymd.pdb')\n",
    "coor_file = None\n",
    "xsc_file = None\n",
    "\n",
    "cutoff = None\n",
    "T = 300.15\n",
    "dt_fs = 2\n",
    "dcd_interval = 100\n",
    "csv_interval = 50\n",
    "# steps = 50000\n",
    "steps = 500\n",
    "# min_energy_max_iter = 500\n",
    "min_energy_max_iter = 10\n",
    "box_size = 100  # can not be too small, e.g. 20 do not work, 100 is good\n",
    "device = 'cpu'\n",
    "precision = torch.float\n",
    "use_centered = True"
   ]
  },
  {
   "cell_type": "code",
   "execution_count": 4,
   "metadata": {},
   "outputs": [],
   "source": [
    "# mymd.gen_files_from_pdb(old_pdb_file=old_pdb_file,\n",
    "#                         psf_file=psf_file,\n",
    "#                         prmtop_file=prmtop_file,\n",
    "#                         new_pdb_file=pdb_file,\n",
    "#                         other_ff_file='amber14/tip3pfb.xml')"
   ]
  },
  {
   "cell_type": "code",
   "execution_count": 5,
   "metadata": {},
   "outputs": [
    {
     "name": "stderr",
     "output_type": "stream",
     "text": [
      "2023-05-11 17:53:40,315 - numexpr.utils - INFO - NumExpr defaulting to 8 threads.\n"
     ]
    },
    {
     "name": "stdout",
     "output_type": "stream",
     "text": [
      "---coords---\n",
      "[[[-1.787]\n",
      "  [ 4.614]\n",
      "  [-1.979]]\n",
      "\n",
      " [[-2.232]\n",
      "  [ 4.031]\n",
      "  [-2.935]]]\n",
      "-----box-----\n",
      "[[0.]\n",
      " [0.]\n",
      " [0.]]\n",
      "---charge---\n",
      "[0.1414 0.1997 0.1997]\n",
      "---masses---\n",
      "[14.00672   1.007947  1.007947]\n",
      "----bonds----\n",
      "[[ 4  5]\n",
      " [ 8  9]\n",
      " [ 8 10]\n",
      " [ 8 11]]\n",
      "---bonds.shape---\n",
      "(2000, 2)\n"
     ]
    }
   ],
   "source": [
    "mol = mymd.get_molecule(prmtop_file=prmtop_file, pdb_file=pdb_file, coor_file=coor_file, xsc_file=xsc_file)\n",
    "\n",
    "print('---coords---')\n",
    "print(mol.coords[:2])\n",
    "print('-----box-----')\n",
    "print(mol.box)\n",
    "print('---charge---')\n",
    "print(mol.charge[:3])\n",
    "print('---masses---')\n",
    "print(mol.masses[:3])\n",
    "print('----bonds----')\n",
    "print(mol.bonds[:4])\n",
    "print('---bonds.shape---')\n",
    "print(mol.bonds.shape)"
   ]
  },
  {
   "cell_type": "code",
   "execution_count": 6,
   "metadata": {},
   "outputs": [
    {
     "name": "stdout",
     "output_type": "stream",
     "text": [
      "False causes error, use True.\n",
      "['N1' 'H1' 'H1' 'H1' 'C1' 'H2' 'C2' 'O1' 'C1' 'H3']\n",
      "[ 0.1414  0.1997  0.1997  0.1997  0.0962  0.0889  0.6163 -0.5722 -0.0597\n",
      "  0.03  ]\n",
      "{'O1', 'H3', 'H6', 'H7', 'N1', 'O3', 'H1', 'H4', 'H2', 'C2', 'H5', 'C1', 'H8', 'S1', 'O2'}\n",
      "{'O1', 'H3', 'H6', 'H7', 'N1', 'O3', 'H1', 'H4', 'H2', 'C2', 'H5', 'C1', 'H8', 'S1', 'O2'}\n"
     ]
    }
   ],
   "source": [
    "try:\n",
    "    ff = mymd.PrmtopMolForceField(mol, prmtop_file, allow_unequal_duplicates=False)\n",
    "except:\n",
    "    print('False causes error, use True.')\n",
    "    ff = mymd.PrmtopMolForceField(mol, prmtop_file, allow_unequal_duplicates=True)\n",
    "\n",
    "print(ff.mol.atomtype[:10])\n",
    "print(ff.mol.charge[:10])\n",
    "print(set(ff.mol.atomtype))\n",
    "print(set(ff.params.atom_types))"
   ]
  },
  {
   "cell_type": "code",
   "execution_count": 7,
   "metadata": {},
   "outputs": [
    {
     "name": "stdout",
     "output_type": "stream",
     "text": [
      "tensor([[434.0000,   1.0100],\n",
      "        [434.0000,   1.0100],\n",
      "        [434.0000,   1.0100],\n",
      "        [367.0000,   1.4710],\n",
      "        [340.0000,   1.0900]])\n",
      "tensor([[10.5000,  3.1416,  2.0000],\n",
      "        [ 1.1000,  3.1416,  2.0000],\n",
      "        [10.5000,  3.1416,  2.0000],\n",
      "        [ 1.1000,  3.1416,  2.0000],\n",
      "        [10.5000,  3.1416,  2.0000]])\n",
      "[ True  True  True  True  True  True  True  True  True  True  True  True\n",
      "  True  True  True]\n",
      "[ True  True  True  True  True  True]\n",
      "tensor([100, 100, 100]) [[0.]\n",
      " [0.]\n",
      " [0.]]\n",
      "None\n",
      "None\n",
      "[[0 1]\n",
      " [0 2]\n",
      " [0 3]]\n",
      "True\n"
     ]
    }
   ],
   "source": [
    "system = mymd.System(mol, ff, cutoff=cutoff)\n",
    "system.set_periodic_box_manual(np.array([box_size, box_size, box_size]).reshape(3, 1))\n",
    "\n",
    "print(system.bond_params[:5])\n",
    "print(system.improper_params[0]['params'][:5])\n",
    "print(system.uni_atom_types == np.unique(mol.atomtype))\n",
    "print(system.uni_atom_types[system.mapped_atom_types[:6]] == mol.atomtype[:6])\n",
    "print(system.box, mol.box)\n",
    "print(system.cutoff)\n",
    "print(system.external)\n",
    "print(np.array(system.get_exclusions(types=['bonds']))[:3])\n",
    "print(np.all(np.vstack((np.array(system.bonds), np.array(system.angles[:, [0, 2]]))) == np.array(system.get_exclusions(types=['bonds', 'angles']))))"
   ]
  },
  {
   "cell_type": "code",
   "execution_count": 8,
   "metadata": {},
   "outputs": [
    {
     "name": "stdout",
     "output_type": "stream",
     "text": [
      "0.04090965899549196 2\n"
     ]
    }
   ],
   "source": [
    "integrator = mymd.VelocityVerletIntegrator(dt_fs)\n",
    "print(integrator.dt, integrator.dt_fs)"
   ]
  },
  {
   "cell_type": "code",
   "execution_count": 9,
   "metadata": {},
   "outputs": [
    {
     "name": "stdout",
     "output_type": "stream",
     "text": [
      "Remove the original csv file.\n",
      "tensor(0.4110)\n",
      "torch.Size([2098, 3])\n",
      "tensor([[-315.1233, -171.3560,  -36.8644],\n",
      "        [  86.8119,   87.0813,  119.6202],\n",
      "        [  64.7976,  127.1715,  -85.7573],\n",
      "        [ 160.9893,  -58.1740,   -7.8573],\n",
      "        [   8.5384,  -19.2624,   51.8338]])\n",
      "tensor([[ 141.9062,  105.8601,  141.3273],\n",
      "        [-158.6487,  -23.4577,   35.6042],\n",
      "        [  23.0708,  -87.7474, -160.4683]])\n",
      "{'bonds': 9543.9296875, 'angles': 4640.02392578125, 'dihedrals': 2241.162109375, 'impropers': 68.10431671142578, 'lj': 237.96629333496094, 'electrostatics': -455.9336853027344}\n",
      "16275.252647399902\n"
     ]
    }
   ],
   "source": [
    "simulation = mymd.Simulation(mol, system, integrator, device, precision, use_centered=use_centered)\n",
    "simulation.set_positions(mol.coords)\n",
    "simulation.set_velocities_to_temperature(T=T)\n",
    "simulation.update_potentials_and_forces()\n",
    "\n",
    "csv_reporter = mymd.CSVReporter(csv_path, csv_interval)\n",
    "simulation.add_reporter(csv_reporter)\n",
    "\n",
    "print(torch.abs(simulation.vel).mean())\n",
    "print(simulation.forces.shape)\n",
    "print(simulation.forces[:5])\n",
    "print(simulation.forces[-3:])\n",
    "print(simulation.potentials)\n",
    "print(simulation.potentials_sum)"
   ]
  },
  {
   "cell_type": "code",
   "execution_count": 10,
   "metadata": {},
   "outputs": [
    {
     "name": "stdout",
     "output_type": "stream",
     "text": [
      "tensor([[-1.7870,  4.6140, -1.9790],\n",
      "        [-2.2320,  4.0310, -2.9350],\n",
      "        [-2.0720,  3.7220, -1.2290],\n",
      "        [-2.7530,  5.3160, -1.8730],\n",
      "        [-0.3750,  4.9820, -2.0950]])\n",
      "num_fun_eval\tE_pot    \tnorm_F_max\trms      \tmax_abs_f_1d\n",
      "     0      \t16275.252647\t393.896279\t77.616347\t392.359009\n",
      "     1      \t11137.180679\t239.741846\t52.684587\t226.678299\n",
      "     2      \t5421.629616\t105.942107\t17.455346\t94.465836\n",
      "     3      \t4385.033199\t94.869501\t14.870279\t74.645523\n",
      "     4      \t3065.223221\t179.394562\t18.733471\t144.910400\n",
      "     5      \t2479.131329\t115.418825\t15.637045\t104.355934\n",
      "     6      \t2146.091038\t62.547415\t8.635792\t52.778023\n",
      "     7      \t1747.105171\t67.256120\t6.649239\t56.488068\n",
      "     8      \t1484.253304\t65.538343\t7.175730\t53.795944\n",
      "     9      \t1248.849564\t254.796145\t13.149290\t201.917999\n",
      "     10     \t1026.681389\t108.385188\t6.548044\t84.860443\n",
      "tensor([[-1.8466,  4.4624, -2.0687],\n",
      "        [-2.1816,  4.0449, -2.9359],\n",
      "        [-1.9824,  3.8356, -1.2841],\n",
      "        [-2.3636,  5.3134, -1.8802],\n",
      "        [-0.4296,  4.8443, -2.1440]])\n",
      "tensor([[-10.0396,  -2.8511,   3.3508],\n",
      "        [  5.4072,   3.4813,   4.7910],\n",
      "        [ -0.9476,  -0.6114,  -1.4098],\n",
      "        [ -3.3494,  -2.7864,  -1.8974],\n",
      "        [  3.3856,   2.6164,   1.1858]])\n",
      "{'bonds': 215.54522705078125, 'angles': 600.904052734375, 'dihedrals': 1837.41259765625, 'impropers': 37.95183563232422, 'lj': -358.72705078125, 'electrostatics': -1306.4052734375}\n",
      "1026.6813888549805\n"
     ]
    }
   ],
   "source": [
    "print(simulation.pos[:5])\n",
    "simulation.minimize_energy(min_energy_max_iter)\n",
    "print(simulation.pos[:5])\n",
    "\n",
    "print(simulation.forces[:5])\n",
    "print(simulation.potentials)\n",
    "print(simulation.potentials_sum)"
   ]
  },
  {
   "cell_type": "code",
   "execution_count": 11,
   "metadata": {},
   "outputs": [
    {
     "name": "stderr",
     "output_type": "stream",
     "text": [
      "100%|██████████| 500/500 [10:11<00:00,  1.22s/it]\n"
     ]
    }
   ],
   "source": [
    "simulation.step(steps, dcd_path, dcd_interval)"
   ]
  },
  {
   "cell_type": "code",
   "execution_count": 12,
   "metadata": {},
   "outputs": [
    {
     "name": "stderr",
     "output_type": "stream",
     "text": [
      "2023-05-11 18:04:48,557 - MDAnalysis.topology.PSF - WARNING - Guessing that this is actually a NAMD-type PSF file... continuing with fingers crossed!\n"
     ]
    },
    {
     "data": {
      "application/vnd.jupyter.widget-view+json": {
       "model_id": "64ef35039cdd45b58ac6550c9de3454a",
       "version_major": 2,
       "version_minor": 0
      },
      "text/plain": [
       "NGLWidget(max_frame=5)"
      ]
     },
     "metadata": {},
     "output_type": "display_data"
    },
    {
     "data": {
      "application/vnd.jupyter.widget-view+json": {
       "model_id": "b855f70c98214751b9b2b89f8c40e485",
       "version_major": 2,
       "version_minor": 0
      },
      "text/plain": [
       "Tab(children=(Box(children=(Box(children=(Box(children=(Label(value='step'), IntSlider(value=1, min=-100)), la…"
      ]
     },
     "metadata": {},
     "output_type": "display_data"
    }
   ],
   "source": [
    "u = md.Universe(psf_file, os.path.join(dcd_path, 'traj.dcd'))\n",
    "ng.show_mdanalysis(u, gui=True)"
   ]
  }
 ],
 "metadata": {
  "kernelspec": {
   "display_name": "temp",
   "language": "python",
   "name": "python3"
  },
  "language_info": {
   "codemirror_mode": {
    "name": "ipython",
    "version": 3
   },
   "file_extension": ".py",
   "mimetype": "text/x-python",
   "name": "python",
   "nbconvert_exporter": "python",
   "pygments_lexer": "ipython3",
   "version": "3.9.7"
  },
  "orig_nbformat": 4
 },
 "nbformat": 4,
 "nbformat_minor": 2
}
