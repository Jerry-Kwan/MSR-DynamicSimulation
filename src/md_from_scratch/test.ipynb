{
 "cells": [
  {
   "cell_type": "code",
   "execution_count": 1,
   "metadata": {},
   "outputs": [],
   "source": [
    "import os\n",
    "import numpy as np\n",
    "import torch\n",
    "import parmed\n",
    "import random\n",
    "\n",
    "import mymd"
   ]
  },
  {
   "cell_type": "code",
   "execution_count": 2,
   "metadata": {},
   "outputs": [
    {
     "data": {
      "text/plain": [
       "<torch._C.Generator at 0x12ee2ef10>"
      ]
     },
     "execution_count": 2,
     "metadata": {},
     "output_type": "execute_result"
    }
   ],
   "source": [
    "seed = 1\n",
    "random.seed(seed)\n",
    "np.random.seed(seed)\n",
    "torch.manual_seed(seed)"
   ]
  },
  {
   "cell_type": "code",
   "execution_count": 3,
   "metadata": {},
   "outputs": [],
   "source": [
    "data_path = '../../data/md_from_scratch/'\n",
    "\n",
    "# ala15 in openmm\n",
    "old_pdb_file = os.path.join(data_path, 'ala15.pdb')\n",
    "pdb_file = os.path.join(data_path, 'ala15_new.pdb')\n",
    "prmtop_file = os.path.join(data_path, 'ala15.prmtop')\n",
    "coor_file = None\n",
    "xsc_file = None\n",
    "cutoff = None\n",
    "T = 300.15\n",
    "\n",
    "# structure: prod_alanine_dipeptide_amber\n",
    "# prmtop_file = os.path.join(data_path, 'structure.prmtop')\n",
    "# coor_file = os.path.join(data_path, 'input.coor')\n",
    "# xsc_file = os.path.join(data_path, 'input.xsc')\n",
    "# pdb_file = None\n",
    "# cutoff = 9\n",
    "# T = 300"
   ]
  },
  {
   "cell_type": "code",
   "execution_count": 4,
   "metadata": {},
   "outputs": [],
   "source": [
    "# for ala15 in openmm\n",
    "# mymd.gen_files_from_pdb(old_pdb_file=old_pdb_file,\n",
    "#                         psf_file=psf_file,\n",
    "#                         prmtop_file=prmtop_file,\n",
    "#                         new_pdb_file=pdb_file)"
   ]
  },
  {
   "cell_type": "code",
   "execution_count": 5,
   "metadata": {},
   "outputs": [
    {
     "name": "stderr",
     "output_type": "stream",
     "text": [
      "2023-05-09 00:05:14,876 - numexpr.utils - INFO - NumExpr defaulting to 8 threads.\n"
     ]
    },
    {
     "name": "stdout",
     "output_type": "stream",
     "text": [
      "---coords---\n",
      "[[[ 3.326]\n",
      "  [ 1.548]\n",
      "  [-0.   ]]\n",
      "\n",
      " [[ 4.046]\n",
      "  [ 0.84 ]\n",
      "  [-0.   ]]]\n",
      "-----box-----\n",
      "[[0.]\n",
      " [0.]\n",
      " [0.]]\n",
      "---charge---\n",
      "[0.1414 0.1997 0.1997]\n",
      "---masses---\n",
      "[14.00672   1.007947  1.007947]\n",
      "----bonds----\n",
      "[[4 5]\n",
      " [6 7]\n",
      " [6 8]\n",
      " [6 9]]\n",
      "---bonds.shape---\n",
      "(152, 2)\n"
     ]
    }
   ],
   "source": [
    "mol = mymd.get_molecule(prmtop_file=prmtop_file, pdb_file=pdb_file, coor_file=coor_file, xsc_file=xsc_file)\n",
    "print('---coords---')\n",
    "print(mol.coords[:2])\n",
    "print('-----box-----')\n",
    "print(mol.box)\n",
    "print('---charge---')\n",
    "print(mol.charge[:3])\n",
    "print('---masses---')\n",
    "print(mol.masses[:3])\n",
    "print('----bonds----')\n",
    "print(mol.bonds[:4])\n",
    "print('---bonds.shape---')\n",
    "print(mol.bonds.shape)"
   ]
  },
  {
   "cell_type": "code",
   "execution_count": 6,
   "metadata": {},
   "outputs": [
    {
     "name": "stdout",
     "output_type": "stream",
     "text": [
      "False causes error, use True.\n",
      "['N1' 'H1' 'H1' 'H1' 'C1' 'H2' 'C1' 'H3' 'H3' 'H3']\n",
      "[ 0.1414  0.1997  0.1997  0.1997  0.0962  0.0889 -0.0597  0.03    0.03\n",
      "  0.03  ]\n",
      "{'C1', 'H1', 'O1', 'H2', 'N1', 'C2', 'H4', 'H3'}\n",
      "{'C1', 'H1', 'O1', 'H2', 'N1', 'C2', 'H4', 'H3'}\n"
     ]
    }
   ],
   "source": [
    "try:\n",
    "    ff = mymd.PrmtopMolForceField(mol, prmtop_file, allow_unequal_duplicates=False)\n",
    "except:\n",
    "    print('False causes error, use True.')\n",
    "    ff = mymd.PrmtopMolForceField(mol, prmtop_file, allow_unequal_duplicates=True)\n",
    "\n",
    "print(ff.mol.atomtype[:10])\n",
    "print(ff.mol.charge[:10])  # same atomtype can have different charge ('C1') in ala15 in openmm\n",
    "print(set(ff.mol.atomtype))\n",
    "print(set(ff.params.atom_types))"
   ]
  },
  {
   "cell_type": "code",
   "execution_count": 7,
   "metadata": {},
   "outputs": [
    {
     "name": "stdout",
     "output_type": "stream",
     "text": [
      "tensor([[434.0000,   1.0100],\n",
      "        [434.0000,   1.0100],\n",
      "        [434.0000,   1.0100],\n",
      "        [367.0000,   1.4710],\n",
      "        [340.0000,   1.0900]])\n",
      "tensor([[10.5000,  3.1416,  2.0000],\n",
      "        [ 1.1000,  3.1416,  2.0000],\n",
      "        [10.5000,  3.1416,  2.0000],\n",
      "        [ 1.1000,  3.1416,  2.0000],\n",
      "        [10.5000,  3.1416,  2.0000]])\n",
      "[ True  True  True  True  True  True  True  True]\n",
      "[ True  True  True  True  True  True]\n",
      "None [[0.]\n",
      " [0.]\n",
      " [0.]]\n",
      "None\n",
      "None\n",
      "[[0 1]\n",
      " [0 2]\n",
      " [0 3]]\n",
      "True\n"
     ]
    }
   ],
   "source": [
    "system = mymd.System(mol, ff, cutoff=cutoff)\n",
    "print(system.bond_params[:5])\n",
    "print(system.improper_params[0]['params'][:5])\n",
    "print(system.uni_atom_types == np.unique(mol.atomtype))\n",
    "print(system.uni_atom_types[system.mapped_atom_types[:6]] == mol.atomtype[:6])\n",
    "print(system.box, mol.box)\n",
    "print(system.cutoff)\n",
    "print(system.external)\n",
    "print(np.array(system.get_exclusions(types=['bonds']))[:3])\n",
    "print(np.all(np.vstack((np.array(system.bonds), np.array(system.angles[:, [0, 2]]))) == np.array(system.get_exclusions(types=['bonds', 'angles']))))"
   ]
  },
  {
   "cell_type": "code",
   "execution_count": 8,
   "metadata": {},
   "outputs": [
    {
     "name": "stdout",
     "output_type": "stream",
     "text": [
      "0.02045482949774598 1\n"
     ]
    }
   ],
   "source": [
    "integrator = mymd.VelocityVerletIntegrator(1)\n",
    "print(integrator.dt, integrator.dt_fs)"
   ]
  },
  {
   "cell_type": "code",
   "execution_count": 9,
   "metadata": {},
   "outputs": [
    {
     "name": "stdout",
     "output_type": "stream",
     "text": [
      "Remove the original csv file.\n",
      "tensor(0.3993)\n",
      "torch.Size([153, 3])\n",
      "tensor([[  6.9732,  -0.3641,  -2.7632],\n",
      "        [  2.6895,  -4.3001,   0.1842],\n",
      "        [-13.9122,  -9.6849,   8.2776],\n",
      "        [-13.6734,  -9.2669,  -7.9898],\n",
      "        [ 14.9448,  17.1064,   3.2955]])\n",
      "tensor([[ 43.5949,   1.8483, -11.5043],\n",
      "        [ -3.8238, -12.0503,  -0.0770],\n",
      "        [ -7.4217,   7.7774,  -3.1221]])\n",
      "{'bonds': 2.678370475769043, 'angles': 22.301218032836914, 'dihedrals': 114.44686889648438, 'impropers': 0.0, 'lj': 133.90985107421875, 'electrostatics': 205.76014709472656}\n",
      "479.09645557403564\n"
     ]
    }
   ],
   "source": [
    "simulation = mymd.Simulation(mol, system, integrator, 'cpu', torch.float)\n",
    "simulation.set_positions(mol.coords)\n",
    "simulation.set_velocities_to_temperature(T=T)\n",
    "simulation.update_potentials_and_forces()\n",
    "\n",
    "csv_reporter = mymd.CSVReporter('../tmp/', 1)\n",
    "simulation.add_reporter(csv_reporter)\n",
    "\n",
    "print(torch.abs(simulation.vel).mean())\n",
    "print(simulation.forces.shape)\n",
    "print(simulation.forces[:5])\n",
    "print(simulation.forces[-3:])\n",
    "print(simulation.potentials)\n",
    "print(simulation.potentials_sum)"
   ]
  },
  {
   "cell_type": "code",
   "execution_count": 10,
   "metadata": {},
   "outputs": [
    {
     "name": "stdout",
     "output_type": "stream",
     "text": [
      "tensor([[ 3.3260,  1.5480, -0.0000],\n",
      "        [ 4.0460,  0.8400, -0.0000],\n",
      "        [ 2.8230,  1.5000, -0.8750],\n",
      "        [ 2.8230,  1.5000,  0.8750],\n",
      "        [ 3.9700,  2.8460, -0.0000]])\n",
      "num_fun_eval\tE_pot    \tnorm_F_max\trms      \tmax_abs_f_1d\n",
      "     0      \t479.096456\t61.219425\t12.796298\t58.670746\n",
      "     1      \t1190.801353\t501.836630\t96.684789\t480.253967\n",
      "     2      \t459.773098\t32.192961\t7.469886\t31.148647\n",
      "     3      \t451.183983\t20.136731\t6.126632\t15.518658\n",
      "     4      \t422.591838\t26.790928\t6.002363\t25.174839\n",
      "     5      \t410.263694\t35.369729\t9.517760\t32.013763\n",
      "     6      \t399.536301\t16.971471\t4.112849\t15.793540\n",
      "     7      \t395.130934\t14.789280\t3.962099\t13.693330\n",
      "     8      \t383.513289\t23.959368\t4.222301\t23.861177\n",
      "     9      \t389.111876\t120.437953\t14.270097\t102.365448\n",
      "     10     \t380.068186\t39.721246\t5.374799\t37.130669\n",
      "     11     \t375.555071\t25.226465\t3.605046\t21.634840\n",
      "     12     \t369.711062\t10.205680\t2.804824\t8.739100\n",
      "     13     \t366.445753\t44.420729\t4.409495\t40.467106\n",
      "     14     \t363.482757\t18.717156\t2.468933\t17.483955\n",
      "     15     \t361.240997\t12.737523\t2.024625\t10.491558\n",
      "     16     \t359.489068\t19.892038\t2.500539\t19.146158\n",
      "     17     \t357.785708\t30.273225\t2.670562\t28.810459\n",
      "     18     \t356.228517\t12.445568\t1.858440\t11.991817\n",
      "     19     \t354.173994\t12.515491\t1.983255\t11.984447\n",
      "     20     \t352.321225\t16.133442\t2.452798\t13.340262\n",
      "     21     \t349.655923\t19.676580\t2.566823\t19.296940\n",
      "     22     \t347.564060\t23.663100\t3.638033\t21.217945\n",
      "     23     \t345.312402\t16.455483\t2.168518\t14.442464\n",
      "     24     \t343.383778\t9.626101\t1.788621\t8.118055\n",
      "     25     \t341.855133\t11.645539\t2.102173\t11.166002\n",
      "     26     \t340.804803\t18.816775\t2.849395\t17.684374\n",
      "     27     \t339.744915\t8.426868\t1.316672\t6.511008\n",
      "     28     \t339.221536\t7.276166\t1.228982\t6.150790\n",
      "     29     \t338.410427\t8.010626\t1.602045\t7.085716\n",
      "     30     \t337.776191\t16.604375\t2.627099\t15.332395\n",
      "     31     \t337.051678\t6.845455\t1.183961\t6.798307\n",
      "     32     \t336.573766\t5.505060\t1.049381\t5.063871\n",
      "     33     \t336.093258\t9.517755\t1.274370\t6.706392\n",
      "     34     \t335.350988\t13.867179\t1.868784\t11.417057\n",
      "     35     \t334.961375\t20.148399\t1.805057\t18.580606\n",
      "     36     \t334.558090\t4.177154\t0.711684\t3.772004\n",
      "     37     \t334.353164\t3.653408\t0.662516\t3.407807\n",
      "     38     \t334.120826\t6.929149\t0.821695\t6.063924\n",
      "     39     \t333.902693\t16.374253\t1.891873\t14.724174\n",
      "     40     \t333.523988\t4.426310\t0.753300\t3.798373\n",
      "     41     \t333.309482\t4.695654\t0.733841\t4.536624\n",
      "     42     \t333.026922\t6.037120\t0.885435\t5.781196\n",
      "     43     \t332.691493\t14.349594\t1.590682\t14.265591\n",
      "     44     \t332.273824\t5.095567\t0.866629\t4.864999\n",
      "     45     \t332.014346\t3.334260\t0.645131\t2.960883\n",
      "     46     \t331.742055\t8.630615\t0.877999\t7.534167\n",
      "     47     \t331.594696\t10.097269\t1.189704\t9.552930\n",
      "     48     \t331.423976\t4.930131\t0.694987\t4.681463\n",
      "     49     \t331.197596\t3.675014\t0.659114\t3.137142\n",
      "     50     \t331.031313\t6.189386\t0.810560\t5.115599\n",
      "     51     \t330.740167\t16.232348\t2.104889\t15.563820\n",
      "     52     \t330.302106\t5.596966\t0.853337\t4.253431\n",
      "     53     \t330.090028\t3.098254\t0.657625\t3.051462\n",
      "     54     \t329.855177\t5.605713\t0.698707\t5.484892\n",
      "     55     \t329.742184\t14.885152\t1.563145\t11.177278\n",
      "     56     \t329.542415\t3.261386\t0.564795\t3.097384\n",
      "     57     \t329.471143\t1.785627\t0.389838\t1.423181\n",
      "     58     \t329.405609\t3.533032\t0.461529\t2.750164\n",
      "     59     \t329.295473\t4.243576\t0.528511\t3.513313\n",
      "     60     \t329.331886\t16.486347\t1.775806\t13.965560\n",
      "     61     \t329.228970\t9.049416\t0.867188\t6.304032\n",
      "     62     \t329.116458\t3.156305\t0.445851\t2.554058\n",
      "     63     \t329.051475\t1.482114\t0.289322\t1.413083\n",
      "     64     \t328.994772\t3.069300\t0.383901\t2.291538\n",
      "     65     \t328.957670\t3.365350\t0.472697\t3.032112\n",
      "     66     \t328.921226\t1.539011\t0.306123\t1.417318\n",
      "     67     \t328.872080\t1.819265\t0.284112\t1.489631\n",
      "     68     \t328.843756\t3.412852\t0.370733\t2.600510\n",
      "     69     \t328.808896\t1.378923\t0.256314\t1.114702\n",
      "     70     \t328.780875\t2.167139\t0.291998\t2.069436\n",
      "     71     \t328.753757\t1.468875\t0.260480\t1.005059\n",
      "     72     \t328.728221\t1.499828\t0.258382\t1.191554\n",
      "     73     \t328.701488\t3.731330\t0.456589\t3.475965\n",
      "     74     \t328.674243\t1.331928\t0.221324\t0.951233\n",
      "     75     \t328.660641\t1.024649\t0.198855\t0.854496\n",
      "     76     \t328.640296\t1.409637\t0.221665\t1.116618\n",
      "     77     \t328.638943\t4.240895\t0.555515\t3.835491\n",
      "     78     \t328.629302\t2.354670\t0.282334\t2.060735\n",
      "     79     \t328.616289\t1.322359\t0.186789\t1.013044\n",
      "     80     \t328.599530\t0.880681\t0.167552\t0.638608\n",
      "     81     \t328.585742\t2.091983\t0.252504\t1.606720\n",
      "     82     \t328.569814\t1.430525\t0.196269\t1.035598\n",
      "     83     \t328.556316\t0.918639\t0.171489\t0.763666\n",
      "     84     \t328.543048\t1.097407\t0.191527\t0.952581\n",
      "     85     \t328.530117\t1.417448\t0.192045\t1.162257\n",
      "     86     \t328.511585\t1.170472\t0.193216\t0.878147\n",
      "     87     \t328.496186\t4.030192\t0.379551\t3.803252\n",
      "     88     \t328.477518\t1.476964\t0.222157\t1.138004\n",
      "     89     \t328.456382\t1.256669\t0.213955\t1.120920\n",
      "     90     \t328.429314\t2.636300\t0.283483\t2.450486\n",
      "     91     \t328.403770\t5.168894\t0.600427\t4.617859\n",
      "     92     \t328.363937\t2.088138\t0.303055\t1.554323\n",
      "     93     \t328.330031\t1.637686\t0.260520\t1.548126\n",
      "     94     \t328.294688\t1.977515\t0.339240\t1.885891\n",
      "     95     \t328.242765\t4.006557\t0.570747\t3.158996\n",
      "     96     \t328.173484\t3.076350\t0.464718\t2.969919\n",
      "     97     \t328.085950\t2.482150\t0.398281\t2.423193\n",
      "     98     \t328.064751\t8.423233\t0.978724\t7.632738\n",
      "     99     \t328.012639\t3.352429\t0.483665\t2.854749\n",
      "    100     \t327.892006\t4.489253\t0.695267\t4.312360\n",
      "    101     \t327.877906\t7.320869\t1.111006\t5.540624\n",
      "    102     \t327.828687\t3.521447\t0.603711\t3.139616\n",
      "    103     \t327.752178\t3.400335\t0.539509\t2.888121\n",
      "    104     \t327.651301\t4.129188\t0.737145\t3.921613\n",
      "    105     \t327.557912\t3.203390\t0.567214\t2.721156\n",
      "    106     \t327.451451\t2.940902\t0.510801\t2.727728\n",
      "tensor([[ 3.1565,  1.4169,  0.1591],\n",
      "        [ 3.7621,  0.7247, -0.2663],\n",
      "        [ 2.2619,  1.4383, -0.3104],\n",
      "        [ 3.0362,  1.1639,  1.1298],\n",
      "        [ 3.8155,  2.7439,  0.0762]])\n",
      "tensor([[ 1.7231,  1.5076, -1.3004],\n",
      "        [-2.1627, -0.7464, -0.7099],\n",
      "        [-0.8870, -1.0321,  1.6006],\n",
      "        [-0.1571, -1.0386,  0.8490],\n",
      "        [ 0.3314, -1.6645,  0.8827]])\n",
      "{'bonds': 7.494525909423828, 'angles': 14.724924087524414, 'dihedrals': 98.64159393310547, 'impropers': 0.08891721069812775, 'lj': 13.460184097290039, 'electrostatics': 193.0413055419922}\n",
      "327.45145078003407\n"
     ]
    }
   ],
   "source": [
    "print(simulation.pos[:5])\n",
    "simulation.minimize_energy(100)\n",
    "print(simulation.pos[:5])\n",
    "print(simulation.forces[:5])\n",
    "print(simulation.potentials)\n",
    "print(simulation.potentials_sum)"
   ]
  },
  {
   "cell_type": "code",
   "execution_count": 11,
   "metadata": {},
   "outputs": [
    {
     "name": "stderr",
     "output_type": "stream",
     "text": [
      "100%|██████████| 600/600 [00:06<00:00, 88.04it/s]\n"
     ]
    }
   ],
   "source": [
    "simulation.step(600, '../tmp/')"
   ]
  }
 ],
 "metadata": {
  "kernelspec": {
   "display_name": "temp",
   "language": "python",
   "name": "python3"
  },
  "language_info": {
   "codemirror_mode": {
    "name": "ipython",
    "version": 3
   },
   "file_extension": ".py",
   "mimetype": "text/x-python",
   "name": "python",
   "nbconvert_exporter": "python",
   "pygments_lexer": "ipython3",
   "version": "3.9.7"
  },
  "orig_nbformat": 4
 },
 "nbformat": 4,
 "nbformat_minor": 2
}
