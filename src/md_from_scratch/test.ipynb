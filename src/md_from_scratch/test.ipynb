{
 "cells": [
  {
   "cell_type": "code",
   "execution_count": 1,
   "metadata": {},
   "outputs": [],
   "source": [
    "import os\n",
    "import numpy as np\n",
    "import torch\n",
    "import parmed\n",
    "import random\n",
    "\n",
    "import mymd"
   ]
  },
  {
   "cell_type": "code",
   "execution_count": 2,
   "metadata": {},
   "outputs": [
    {
     "data": {
      "text/plain": [
       "<torch._C.Generator at 0x109602ef0>"
      ]
     },
     "execution_count": 2,
     "metadata": {},
     "output_type": "execute_result"
    }
   ],
   "source": [
    "seed = 1\n",
    "random.seed(seed)\n",
    "np.random.seed(seed)\n",
    "torch.manual_seed(seed)"
   ]
  },
  {
   "cell_type": "code",
   "execution_count": 3,
   "metadata": {},
   "outputs": [],
   "source": [
    "data_path = '../../data/md_from_scratch/'\n",
    "\n",
    "old_pdb_file = os.path.join(data_path, 'ala15.pdb')\n",
    "new_pdb_file = os.path.join(data_path, 'ala15_new.pdb')\n",
    "psf_file = os.path.join(data_path, 'ala15.psf')\n",
    "prmtop_file = os.path.join(data_path, 'ala15.prmtop')"
   ]
  },
  {
   "cell_type": "code",
   "execution_count": 4,
   "metadata": {},
   "outputs": [],
   "source": [
    "# mymd.gen_files_from_pdb(old_pdb_file=old_pdb_file,\n",
    "#                         psf_file=psf_file,\n",
    "#                         prmtop_file=prmtop_file,\n",
    "#                         new_pdb_file=new_pdb_file)"
   ]
  },
  {
   "cell_type": "code",
   "execution_count": 5,
   "metadata": {},
   "outputs": [
    {
     "name": "stderr",
     "output_type": "stream",
     "text": [
      "2023-05-08 17:53:32,347 - numexpr.utils - INFO - NumExpr defaulting to 8 threads.\n"
     ]
    },
    {
     "name": "stdout",
     "output_type": "stream",
     "text": [
      "---coords---\n",
      "[[[ 3.326]\n",
      "  [ 1.548]\n",
      "  [-0.   ]]\n",
      "\n",
      " [[ 4.046]\n",
      "  [ 0.84 ]\n",
      "  [-0.   ]]]\n",
      "-----box-----\n",
      "[[0.]\n",
      " [0.]\n",
      " [0.]]\n",
      "---charge---\n",
      "[0.1414 0.1997 0.1997]\n",
      "---masses---\n",
      "[14.00672   1.007947  1.007947]\n",
      "----bonds----\n",
      "[[4 5]\n",
      " [6 7]\n",
      " [6 8]\n",
      " [6 9]]\n",
      "---bonds.shape---\n",
      "(152, 2)\n"
     ]
    }
   ],
   "source": [
    "mol = mymd.get_molecule(prmtop_file=prmtop_file, pdb_file=new_pdb_file)\n",
    "print('---coords---')\n",
    "print(mol.coords[:2])\n",
    "print('-----box-----')\n",
    "print(mol.box)\n",
    "print('---charge---')\n",
    "print(mol.charge[:3])\n",
    "print('---masses---')\n",
    "print(mol.masses[:3])\n",
    "print('----bonds----')\n",
    "print(mol.bonds[:4])\n",
    "print('---bonds.shape---')\n",
    "print(mol.bonds.shape)"
   ]
  },
  {
   "cell_type": "code",
   "execution_count": 6,
   "metadata": {},
   "outputs": [
    {
     "name": "stdout",
     "output_type": "stream",
     "text": [
      "<BondType; k=367.000, req=1.471>\n",
      "\n",
      "<BondType; k=367.000, req=1.471>\n",
      "<BondType; k=337.000, req=1.449>\n",
      "<BondType; k=337.000, req=1.449>\n",
      "<BondType; k=337.000, req=1.449>\n",
      "<BondType; k=337.000, req=1.449>\n",
      "<BondType; k=337.000, req=1.449>\n",
      "<BondType; k=337.000, req=1.449>\n",
      "<BondType; k=337.000, req=1.449>\n",
      "<BondType; k=337.000, req=1.449>\n",
      "<BondType; k=337.000, req=1.449>\n",
      "<BondType; k=337.000, req=1.449>\n",
      "<BondType; k=337.000, req=1.449>\n",
      "<BondType; k=337.000, req=1.449>\n",
      "<BondType; k=337.000, req=1.449>\n",
      "<BondType; k=337.000, req=1.449>\n",
      "\n",
      "['N1' 'H1' 'H1' 'H1' 'C1' 'H2' 'C1' 'H3' 'H3' 'H3']\n",
      "[ 0.1414  0.1997  0.1997  0.1997  0.0962  0.0889 -0.0597  0.03    0.03\n",
      "  0.03  ]\n",
      "{'H4', 'O1', 'H2', 'C1', 'C2', 'H1', 'N1', 'H3'}\n",
      "{'H4', 'O1', 'H2', 'C1', 'C2', 'H1', 'N1', 'H3'}\n"
     ]
    }
   ],
   "source": [
    "ff = mymd.PrmtopMolForceField(mol, prmtop_file, allow_unequal_duplicates=True)\n",
    "print(ff.params.bond_types[('C1', 'N1')], end='\\n\\n')\n",
    "\n",
    "struct = parmed.amber.AmberParm(prmtop_file)\n",
    "for bond in struct.bonds:\n",
    "    key = (bond.atom1.type, bond.atom2.type)\n",
    "    if key[0] == 'C1' and key[1] == 'N1' or key[0] == 'N1' and key[1] == 'C1':\n",
    "        print(bond.type)\n",
    "\n",
    "print()\n",
    "print(ff.mol.atomtype[:10])\n",
    "print(ff.mol.charge[:10])  # same atomtype can have different charge ('C1')\n",
    "print(set(ff.mol.atomtype))\n",
    "print(set(ff.params.atom_types))"
   ]
  },
  {
   "cell_type": "code",
   "execution_count": 7,
   "metadata": {},
   "outputs": [
    {
     "name": "stdout",
     "output_type": "stream",
     "text": [
      "tensor([[434.0000,   1.0100],\n",
      "        [434.0000,   1.0100],\n",
      "        [434.0000,   1.0100],\n",
      "        [367.0000,   1.4710],\n",
      "        [340.0000,   1.0900]])\n",
      "tensor([[10.5000,  3.1416,  2.0000],\n",
      "        [ 1.1000,  3.1416,  2.0000],\n",
      "        [10.5000,  3.1416,  2.0000],\n",
      "        [ 1.1000,  3.1416,  2.0000],\n",
      "        [10.5000,  3.1416,  2.0000]])\n",
      "[ True  True  True  True  True  True  True  True]\n",
      "[ True  True  True  True  True  True]\n",
      "None [[0.]\n",
      " [0.]\n",
      " [0.]]\n",
      "None\n",
      "None\n",
      "[[0 1]\n",
      " [0 2]\n",
      " [0 3]]\n",
      "True\n"
     ]
    }
   ],
   "source": [
    "system = mymd.System(mol, ff, cutoff=None)\n",
    "# system.set_periodic_box_manual(np.array([[20], [20], [20]]))\n",
    "print(system.bond_params[:5])\n",
    "print(system.improper_params[0]['params'][:5])\n",
    "print(system.uni_atom_types == np.unique(mol.atomtype))\n",
    "print(system.uni_atom_types[system.mapped_atom_types[:6]] == mol.atomtype[:6])\n",
    "print(system.box, mol.box)\n",
    "print(system.cutoff)\n",
    "print(system.external)\n",
    "print(np.array(system.get_exclusions(types=['bonds']))[:3])\n",
    "print(np.all(np.vstack((np.array(system.bonds), np.array(system.angles[:, [0, 2]]))) == np.array(system.get_exclusions(types=['bonds', 'angles']))))"
   ]
  },
  {
   "cell_type": "code",
   "execution_count": 8,
   "metadata": {},
   "outputs": [
    {
     "name": "stdout",
     "output_type": "stream",
     "text": [
      "tensor([[340.0000,   1.0900],\n",
      "        [340.0000,   1.0900],\n",
      "        [340.0000,   1.0900],\n",
      "        [317.0000,   1.5220],\n",
      "        [570.0000,   1.2290]])\n",
      "tensor([[10.5000,  3.1416,  2.0000],\n",
      "        [ 1.1000,  3.1416,  2.0000],\n",
      "        [10.5000,  3.1416,  2.0000],\n",
      "        [ 1.1000,  3.1416,  2.0000]])\n",
      "[ True  True  True  True  True  True  True  True  True  True]\n",
      "[ True  True  True  True  True  True]\n",
      "tensor([19.8388, 19.6193, 19.6342]) [[19.83881]\n",
      " [19.6193 ]\n",
      " [19.6342 ]]\n",
      "9\n",
      "None\n",
      "[[0 1]\n",
      " [1 2]\n",
      " [1 3]]\n",
      "True\n"
     ]
    }
   ],
   "source": [
    "prmtop_file2 = os.path.join(data_path, 'structure.prmtop')\n",
    "coor_file2 = os.path.join(data_path, 'input.coor')\n",
    "xsc_file2 = os.path.join(data_path, 'input.xsc')\n",
    "mol2 = mymd.get_molecule(prmtop_file=prmtop_file2, coor_file=coor_file2, xsc_file=xsc_file2)\n",
    "ff2 = mymd.PrmtopMolForceField(mol2, prmtop_file2, allow_unequal_duplicates=False)\n",
    "\n",
    "# test set_device_and_dtype whem terms are incomplete\n",
    "system2 = mymd.System(mol2, ff2, cutoff=9, terms=['bonds', 'angles', 'dihedrals', 'impropers'])\n",
    "system2.set_device_and_dtype('cpu', torch.float)\n",
    "\n",
    "system2 = mymd.System(mol2, ff2, cutoff=9, external=None)\n",
    "print(system2.bond_params[:5])\n",
    "print(system2.improper_params[0]['params'][:5])\n",
    "print(system2.uni_atom_types == np.unique(mol2.atomtype))\n",
    "print(system2.uni_atom_types[system2.mapped_atom_types[:6]] == mol2.atomtype[:6])\n",
    "print(system2.box, mol2.box)\n",
    "print(system2.cutoff)\n",
    "print(system2.external)\n",
    "print(np.array(system2.get_exclusions(types=['bonds']))[:3])\n",
    "print(np.all(np.vstack((np.array(system2.bonds), np.array(system2.angles[:, [0, 2]]))) == np.array(system2.get_exclusions(types=['bonds', 'angles']))))"
   ]
  },
  {
   "cell_type": "code",
   "execution_count": 9,
   "metadata": {},
   "outputs": [
    {
     "name": "stdout",
     "output_type": "stream",
     "text": [
      "tensor(0.3993)\n",
      "torch.Size([153, 3])\n",
      "tensor([[  6.9732,  -0.3641,  -2.7632],\n",
      "        [  2.6895,  -4.3001,   0.1842],\n",
      "        [-13.9122,  -9.6849,   8.2776],\n",
      "        [-13.6734,  -9.2669,  -7.9898],\n",
      "        [ 14.9448,  17.1064,   3.2955]])\n",
      "{'bonds': 2.678370475769043, 'angles': 22.301218032836914, 'dihedrals': 114.44686889648438, 'impropers': 0.0, 'lj': 133.90985107421875, 'electrostatics': 205.76014709472656}\n",
      "479.09645557403564\n"
     ]
    }
   ],
   "source": [
    "simulation = mymd.Simulation(mol, system, None, 'cpu', torch.float)\n",
    "simulation.set_positions(mol.coords)\n",
    "simulation.set_velocities_to_temperature(T=300.15)\n",
    "print(torch.abs(simulation.vel).mean())\n",
    "simulation.update_potentials_and_forces()\n",
    "print(simulation.forces.shape)\n",
    "print(simulation.forces[:5])\n",
    "print(simulation.potentials)\n",
    "print(simulation.potentials_sum)"
   ]
  },
  {
   "cell_type": "code",
   "execution_count": 10,
   "metadata": {},
   "outputs": [
    {
     "name": "stdout",
     "output_type": "stream",
     "text": [
      "tensor(0.4410)\n",
      "torch.Size([688, 3])\n",
      "tensor([[  2.1204,   1.6945,   3.8852],\n",
      "        [-14.4477, -15.9356,   2.9400],\n",
      "        [  2.2896,   2.8798,  -3.1538],\n",
      "        [  1.4504,   9.1638,  -0.7600],\n",
      "        [-16.9996,  23.9501, -24.9862]])\n",
      "tensor([[  7.0493,   8.3412,   2.5373],\n",
      "        [ 14.0954,   6.2962,   6.8365],\n",
      "        [-28.8178,   7.0773,  34.4423],\n",
      "        [  1.8655,  -8.3980, -16.7160],\n",
      "        [ 20.7306,  -3.3352,  -9.9856]])\n",
      "{'bonds': 3.957749366760254, 'angles': 2.8445701599121094, 'dihedrals': 10.579872131347656, 'impropers': 1.2417112588882446, 'lj': 358.54205322265625, 'electrostatics': -2686.371337890625}\n",
      "-2309.2053817510605\n"
     ]
    }
   ],
   "source": [
    "simulation2 = mymd.Simulation(mol2, system2, None, 'cpu', torch.float)\n",
    "simulation2.set_positions(mol2.coords)\n",
    "simulation2.set_velocities_to_temperature(T=300)\n",
    "print(torch.abs(simulation2.vel).mean())\n",
    "simulation2.update_potentials_and_forces()\n",
    "print(simulation2.forces.shape)\n",
    "print(simulation2.forces[:5])\n",
    "print(simulation2.forces[-5:])\n",
    "print(simulation2.potentials)\n",
    "print(simulation2.potentials_sum)"
   ]
  },
  {
   "cell_type": "code",
   "execution_count": 11,
   "metadata": {},
   "outputs": [
    {
     "name": "stdout",
     "output_type": "stream",
     "text": [
      "tensor([[ 8.4876,  8.8906, 13.1865],\n",
      "        [ 8.6384,  9.8404, 12.6734],\n",
      "        [ 8.3185, 10.6384, 13.3434],\n",
      "        [ 8.0228,  9.7510, 11.7783],\n",
      "        [10.0775,  9.9498, 12.2872]])\n",
      "num_fun_eval\tE_pot    \tnorm_F_max\trms      \tmax_abs_f_1d\n",
      "     0      \t-2309.205382\t64.178003\t14.611752\t62.617146\n",
      "     1      \t-1631.939162\t160.349691\t37.092344\t130.381134\n",
      "     2      \t-2561.768508\t42.287161\t9.231950\t41.672520\n",
      "     3      \t-2339.988267\t25.866915\t5.810489\t23.489002\n",
      "     4      \t-2529.503574\t39.209721\t8.682197\t38.655632\n",
      "     5      \t-2543.182295\t42.131685\t9.202882\t41.520260\n",
      "     6      \t-2561.771691\t42.286224\t9.231783\t41.671604\n",
      "     7      \t-2530.127932\t42.183849\t9.211232\t41.571285\n",
      "     8      \t-2561.773317\t42.285812\t9.231745\t41.671238\n",
      "     9      \t-2561.773656\t42.285812\t9.231732\t41.671238\n",
      "     10     \t-2561.989436\t42.235690\t9.222435\t41.622070\n",
      "     11     \t-2530.055249\t42.201907\t9.214392\t41.588936\n",
      "     12     \t-2561.989464\t42.235690\t9.222433\t41.622070\n",
      "     13     \t-2536.421184\t42.212627\t9.217343\t41.599491\n",
      "     14     \t-2561.989939\t42.235690\t9.222431\t41.622070\n",
      "     15     \t-2561.989939\t42.235690\t9.222431\t41.622070\n",
      "     16     \t-2536.373994\t42.224219\t9.219361\t41.610828\n",
      "     17     \t-2561.989939\t42.235690\t9.222431\t41.622070\n",
      "     18     \t-2561.989934\t42.235125\t9.222428\t41.621574\n",
      "     19     \t-2561.989939\t42.235690\t9.222431\t41.622070\n",
      "     20     \t-2079.572963\t22.895132\t4.893567\t17.182976\n",
      "     21     \t-2443.876591\t38.849506\t8.576294\t38.264366\n",
      "     22     \t-2543.149714\t42.159223\t9.207171\t41.546482\n",
      "     23     \t-2536.328374\t42.234171\t9.221346\t41.620632\n",
      "     24     \t-2561.989939\t42.235690\t9.222431\t41.622070\n",
      "     25     \t-2561.989939\t42.235690\t9.222431\t41.622070\n",
      "     26     \t-2561.989939\t42.235690\t9.222431\t41.622070\n",
      "     27     \t-2561.989939\t42.235690\t9.222431\t41.622070\n",
      "     28     \t-2561.989939\t42.235690\t9.222431\t41.622070\n",
      "     29     \t-2561.989939\t42.235690\t9.222431\t41.622070\n",
      "     30     \t-2561.989939\t42.235690\t9.222431\t41.622070\n",
      "     31     \t-2561.989939\t42.235690\t9.222431\t41.622070\n",
      "tensor([[ 8.4882,  8.8910, 13.1875],\n",
      "        [ 8.6347,  9.8363, 12.6742],\n",
      "        [ 8.3191, 10.6392, 13.3426],\n",
      "        [ 8.0232,  9.7533, 11.7781],\n",
      "        [10.0732,  9.9560, 12.2808]])\n",
      "tensor([[  1.7206,  -1.0589,   4.9590],\n",
      "        [-11.0344,  -7.5046,   1.8536],\n",
      "        [  1.8685,   1.7439,  -3.5410],\n",
      "        [  0.1614,   8.6510,  -1.0664],\n",
      "        [ -4.7462,  -0.9472, -17.4423]])\n",
      "{'bonds': 28.386192321777344, 'angles': 2.778073787689209, 'dihedrals': 10.445865631103516, 'impropers': 1.0824850797653198, 'lj': 352.61480712890625, 'electrostatics': -2957.29736328125}\n",
      "-2561.9899393320084\n"
     ]
    }
   ],
   "source": [
    "print(simulation2.pos[:5])\n",
    "simulation2.minimize_energy(100, False)\n",
    "print(simulation2.pos[:5])\n",
    "print(simulation2.forces[:5])\n",
    "print(simulation2.potentials)\n",
    "print(simulation2.potentials_sum)"
   ]
  }
 ],
 "metadata": {
  "kernelspec": {
   "display_name": "temp",
   "language": "python",
   "name": "python3"
  },
  "language_info": {
   "codemirror_mode": {
    "name": "ipython",
    "version": 3
   },
   "file_extension": ".py",
   "mimetype": "text/x-python",
   "name": "python",
   "nbconvert_exporter": "python",
   "pygments_lexer": "ipython3",
   "version": "3.9.7"
  },
  "orig_nbformat": 4
 },
 "nbformat": 4,
 "nbformat_minor": 2
}
