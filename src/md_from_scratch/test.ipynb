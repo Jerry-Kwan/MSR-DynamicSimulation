{
 "cells": [
  {
   "cell_type": "code",
   "execution_count": 1,
   "metadata": {},
   "outputs": [],
   "source": [
    "import os\n",
    "\n",
    "import mymd"
   ]
  },
  {
   "cell_type": "code",
   "execution_count": 2,
   "metadata": {},
   "outputs": [],
   "source": [
    "data_path = '../../data/md_from_scratch/'"
   ]
  },
  {
   "cell_type": "code",
   "execution_count": 3,
   "metadata": {},
   "outputs": [],
   "source": [
    "old_pdb_file = os.path.join(data_path, 'ala15.pdb')\n",
    "new_pdb_file = os.path.join(data_path, 'ala15_new.pdb')\n",
    "psf_file = os.path.join(data_path, 'ala15.psf')\n",
    "prmtop_file = os.path.join(data_path, 'ala15.prmtop')\n",
    "mymd.gen_files_from_pdb(old_pdb_file=old_pdb_file,\n",
    "                        psf_file=psf_file,\n",
    "                        prmtop_file=prmtop_file,\n",
    "                        new_pdb_file=new_pdb_file)"
   ]
  },
  {
   "cell_type": "code",
   "execution_count": 9,
   "metadata": {},
   "outputs": [
    {
     "name": "stdout",
     "output_type": "stream",
     "text": [
      "[[[ 3.326]\n",
      "  [ 1.548]\n",
      "  [-0.   ]]\n",
      "\n",
      " [[ 4.046]\n",
      "  [ 0.84 ]\n",
      "  [-0.   ]]]\n",
      "--------------\n",
      "[[0.]\n",
      " [0.]\n",
      " [0.]]\n",
      "--------------\n",
      "[0.1414 0.1997]\n",
      "--------------\n",
      "[14.0067  1.0079]\n",
      "--------------\n",
      "[[10  4]\n",
      " [10 11]\n",
      " [ 4  6]\n",
      " [ 4  5]]\n",
      "--------------\n",
      "(152, 2)\n",
      "--------------\n"
     ]
    }
   ],
   "source": [
    "mol = mymd.get_molecule(psf_file=psf_file, pdb_file=new_pdb_file)\n",
    "print(mol.coords[:2])\n",
    "print('--------------')\n",
    "print(mol.box)\n",
    "print('--------------')\n",
    "print(mol.charge[:2])\n",
    "print('--------------')\n",
    "print(mol.masses[:2])\n",
    "print('--------------')\n",
    "print(mol.bonds[:4])\n",
    "print('--------------')\n",
    "print(mol.bonds.shape)\n",
    "print('--------------')"
   ]
  }
 ],
 "metadata": {
  "kernelspec": {
   "display_name": "temp",
   "language": "python",
   "name": "python3"
  },
  "language_info": {
   "codemirror_mode": {
    "name": "ipython",
    "version": 3
   },
   "file_extension": ".py",
   "mimetype": "text/x-python",
   "name": "python",
   "nbconvert_exporter": "python",
   "pygments_lexer": "ipython3",
   "version": "3.9.7"
  },
  "orig_nbformat": 4
 },
 "nbformat": 4,
 "nbformat_minor": 2
}
