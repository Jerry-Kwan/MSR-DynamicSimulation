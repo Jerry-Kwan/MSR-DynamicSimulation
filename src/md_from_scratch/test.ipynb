{
 "cells": [
  {
   "cell_type": "code",
   "execution_count": 1,
   "metadata": {},
   "outputs": [],
   "source": [
    "import os\n",
    "import numpy as np\n",
    "import parmed\n",
    "\n",
    "import mymd"
   ]
  },
  {
   "cell_type": "code",
   "execution_count": 2,
   "metadata": {},
   "outputs": [],
   "source": [
    "data_path = '../../data/md_from_scratch/'\n",
    "\n",
    "old_pdb_file = os.path.join(data_path, 'ala15.pdb')\n",
    "new_pdb_file = os.path.join(data_path, 'ala15_new.pdb')\n",
    "psf_file = os.path.join(data_path, 'ala15.psf')\n",
    "prmtop_file = os.path.join(data_path, 'ala15.prmtop')"
   ]
  },
  {
   "cell_type": "code",
   "execution_count": 3,
   "metadata": {},
   "outputs": [],
   "source": [
    "mymd.gen_files_from_pdb(old_pdb_file=old_pdb_file,\n",
    "                        psf_file=psf_file,\n",
    "                        prmtop_file=prmtop_file,\n",
    "                        new_pdb_file=new_pdb_file)"
   ]
  },
  {
   "cell_type": "code",
   "execution_count": 4,
   "metadata": {},
   "outputs": [
    {
     "name": "stderr",
     "output_type": "stream",
     "text": [
      "2023-05-04 11:29:39,840 - numexpr.utils - INFO - NumExpr defaulting to 8 threads.\n"
     ]
    },
    {
     "name": "stdout",
     "output_type": "stream",
     "text": [
      "---coords---\n",
      "[[[ 3.326]\n",
      "  [ 1.548]\n",
      "  [-0.   ]]\n",
      "\n",
      " [[ 4.046]\n",
      "  [ 0.84 ]\n",
      "  [-0.   ]]]\n",
      "-----box-----\n",
      "[[0.]\n",
      " [0.]\n",
      " [0.]]\n",
      "---charge---\n",
      "[0.1414 0.1997 0.1997]\n",
      "---masses---\n",
      "[14.00672   1.007947  1.007947]\n",
      "----bonds----\n",
      "[[4 5]\n",
      " [6 7]\n",
      " [6 8]\n",
      " [6 9]]\n",
      "---bonds.shape---\n",
      "(152, 2)\n"
     ]
    }
   ],
   "source": [
    "mol = mymd.get_molecule(prmtop_file=prmtop_file, pdb_file=new_pdb_file)\n",
    "print('---coords---')\n",
    "print(mol.coords[:2])\n",
    "print('-----box-----')\n",
    "print(mol.box)\n",
    "print('---charge---')\n",
    "print(mol.charge[:3])\n",
    "print('---masses---')\n",
    "print(mol.masses[:3])\n",
    "print('----bonds----')\n",
    "print(mol.bonds[:4])\n",
    "print('---bonds.shape---')\n",
    "print(mol.bonds.shape)"
   ]
  },
  {
   "cell_type": "code",
   "execution_count": 5,
   "metadata": {},
   "outputs": [
    {
     "name": "stdout",
     "output_type": "stream",
     "text": [
      "<BondType; k=367.000, req=1.471>\n",
      "\n",
      "<BondType; k=367.000, req=1.471>\n",
      "<BondType; k=337.000, req=1.449>\n",
      "<BondType; k=337.000, req=1.449>\n",
      "<BondType; k=337.000, req=1.449>\n",
      "<BondType; k=337.000, req=1.449>\n",
      "<BondType; k=337.000, req=1.449>\n",
      "<BondType; k=337.000, req=1.449>\n",
      "<BondType; k=337.000, req=1.449>\n",
      "<BondType; k=337.000, req=1.449>\n",
      "<BondType; k=337.000, req=1.449>\n",
      "<BondType; k=337.000, req=1.449>\n",
      "<BondType; k=337.000, req=1.449>\n",
      "<BondType; k=337.000, req=1.449>\n",
      "<BondType; k=337.000, req=1.449>\n",
      "<BondType; k=337.000, req=1.449>\n",
      "\n",
      "['N1' 'H1' 'H1' 'H1' 'C1' 'H2' 'C1' 'H3' 'H3' 'H3']\n",
      "[ 0.1414  0.1997  0.1997  0.1997  0.0962  0.0889 -0.0597  0.03    0.03\n",
      "  0.03  ]\n",
      "{'N1', 'O1', 'H1', 'H4', 'H2', 'H3', 'C2', 'C1'}\n",
      "{'N1', 'O1', 'H1', 'H4', 'H2', 'H3', 'C2', 'C1'}\n"
     ]
    }
   ],
   "source": [
    "ff = mymd.PrmtopMolForceField(mol, prmtop_file, allow_unequal_duplicates=True)\n",
    "print(ff.params.bond_types[('C1', 'N1')], end='\\n\\n')\n",
    "\n",
    "struct = parmed.amber.AmberParm(prmtop_file)\n",
    "for bond in struct.bonds:\n",
    "    key = (bond.atom1.type, bond.atom2.type)\n",
    "    if key[0] == 'C1' and key[1] == 'N1' or key[0] == 'N1' and key[1] == 'C1':\n",
    "        print(bond.type)\n",
    "\n",
    "print()\n",
    "print(ff.mol.atomtype[:10])\n",
    "print(ff.mol.charge[:10])  # same atomtype can have different charge ('C1')\n",
    "print(set(ff.mol.atomtype))\n",
    "print(set(ff.params.atom_types))"
   ]
  }
 ],
 "metadata": {
  "kernelspec": {
   "display_name": "temp",
   "language": "python",
   "name": "python3"
  },
  "language_info": {
   "codemirror_mode": {
    "name": "ipython",
    "version": 3
   },
   "file_extension": ".py",
   "mimetype": "text/x-python",
   "name": "python",
   "nbconvert_exporter": "python",
   "pygments_lexer": "ipython3",
   "version": "3.9.7"
  },
  "orig_nbformat": 4
 },
 "nbformat": 4,
 "nbformat_minor": 2
}
