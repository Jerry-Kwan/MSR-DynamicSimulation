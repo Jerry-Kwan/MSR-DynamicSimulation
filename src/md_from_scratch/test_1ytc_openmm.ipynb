{
 "cells": [
  {
   "cell_type": "code",
   "execution_count": 1,
   "metadata": {},
   "outputs": [
    {
     "data": {
      "application/vnd.jupyter.widget-view+json": {
       "model_id": "5ff044f6131a4e71b27cd6bad2cf257a",
       "version_major": 2,
       "version_minor": 0
      },
      "text/plain": []
     },
     "metadata": {},
     "output_type": "display_data"
    }
   ],
   "source": [
    "import os\n",
    "from openmm import Platform, LangevinMiddleIntegrator, XmlSerializer\n",
    "import openmm.app as app\n",
    "from openmm.unit import picosecond, kelvin\n",
    "import parmed\n",
    "import MDAnalysis as md\n",
    "from MDAnalysis.analysis import dihedrals\n",
    "import nglview as ng\n",
    "import numpy as np\n",
    "import matplotlib.pyplot as plt\n",
    "import sys\n",
    "from pdbfixer import PDBFixer"
   ]
  },
  {
   "cell_type": "code",
   "execution_count": 2,
   "metadata": {},
   "outputs": [],
   "source": [
    "data_path = '../../data/md_from_scratch/1ytc'\n",
    "rslt_path = '../../data/md_from_scratch/1ytc/rslt_openmm'\n",
    "file_name = '1ytc.pdb'\n",
    "fixed_file_name = '1ytc_fixed.pdb'"
   ]
  },
  {
   "cell_type": "code",
   "execution_count": 3,
   "metadata": {},
   "outputs": [],
   "source": [
    "# use pdbfixer to fix pdb\n",
    "# https://htmlpreview.github.io/?https://github.com/openmm/pdbfixer/blob/master/Manual.html\n",
    "fixer = PDBFixer(filename=os.path.join(data_path, file_name))\n",
    "fixer.findMissingResidues()\n",
    "fixer.findNonstandardResidues()\n",
    "fixer.replaceNonstandardResidues()\n",
    "fixer.removeHeterogens(True)\n",
    "fixer.findMissingAtoms()\n",
    "fixer.addMissingAtoms()\n",
    "fixer.addMissingHydrogens(7.0)\n",
    "app.PDBFile.writeFile(fixer.topology, fixer.positions, open(os.path.join(data_path, fixed_file_name), 'w'))"
   ]
  },
  {
   "cell_type": "code",
   "execution_count": 4,
   "metadata": {},
   "outputs": [
    {
     "name": "stdout",
     "output_type": "stream",
     "text": [
      "<Topology; 2 chains, 228 residues, 2098 atoms, 2000 bonds>\n"
     ]
    }
   ],
   "source": [
    "# Input and options\n",
    "pdbfile = fixed_file_name\n",
    "psffile = '1ytc_fixed.psf'\n",
    "pdb = app.PDBFile(os.path.join(data_path, pdbfile))\n",
    "print(pdb.topology)\n",
    "\n",
    "# 感觉用 amber14/protein.ff14SB.xml 似乎会更好\n",
    "# 但实际上看过 amber14-all 就知道它包含了 amber14/protein.ff14SB.xml\n",
    "# forcefield = app.ForceField('amber14-all.xml')\n",
    "forcefield = app.ForceField('amber14-all.xml', 'amber14/tip3pfb.xml')\n",
    "\n",
    "nonbondedMethod = app.NoCutoff\n",
    "constraints = None\n",
    "rigidWater = False\n",
    "\n",
    "dt = 0.002*picosecond\n",
    "temperature = 300.15*kelvin\n",
    "friction = 1/picosecond\n",
    "\n",
    "steps = 50000\n",
    "logInterval = 100\n",
    "platform = Platform.getPlatformByName('OpenCL')\n",
    "# platform = Platform.getPlatformByName('CPU')\n",
    "# platformProperties = {'Precision': 'mixed'} # use this for CUDA\n",
    "platformProperties = dict() # use this for CPU"
   ]
  },
  {
   "cell_type": "code",
   "execution_count": 5,
   "metadata": {},
   "outputs": [
    {
     "name": "stdout",
     "output_type": "stream",
     "text": [
      "Building system...\n",
      "(Vec3(x=3.666, y=0.0, z=0.0), Vec3(x=0.0, y=3.666, z=0.0), Vec3(x=0.0, y=0.0, z=13.892)) nm\n",
      "[Quantity(value=Vec3(x=3.666, y=0.0, z=0.0), unit=nanometer), Quantity(value=Vec3(x=0.0, y=3.666, z=0.0), unit=nanometer), Quantity(value=Vec3(x=0.0, y=0.0, z=13.892), unit=nanometer)]\n",
      "<openmm.openmm.HarmonicBondForce; proxy of <Swig Object of type 'OpenMM::HarmonicBondForce *' at 0x15b5b4ae0> >\n",
      "<openmm.openmm.NonbondedForce; proxy of <Swig Object of type 'OpenMM::NonbondedForce *' at 0x15b5b4b40> >\n",
      "<openmm.openmm.PeriodicTorsionForce; proxy of <Swig Object of type 'OpenMM::PeriodicTorsionForce *' at 0x15b5b4b10> >\n",
      "['__class__', '__copy__', '__deepcopy__', '__delattr__', '__dict__', '__dir__', '__doc__', '__eq__', '__format__', '__ge__', '__getattribute__', '__getstate__', '__gt__', '__hash__', '__init__', '__init_subclass__', '__le__', '__lt__', '__module__', '__ne__', '__new__', '__reduce__', '__reduce_ex__', '__repr__', '__setattr__', '__setstate__', '__sizeof__', '__str__', '__subclasshook__', '__swig_destroy__', '__weakref__', 'addBond', 'getBondParameters', 'getForceGroup', 'getName', 'getNumBonds', 'setBondParameters', 'setForceGroup', 'setName', 'setUsesPeriodicBoundaryConditions', 'this', 'thisown', 'updateParametersInContext', 'usesPeriodicBoundaryConditions']\n",
      "[6, 4, Quantity(value=0.1522, unit=nanometer), Quantity(value=265265.6, unit=kilojoule/(nanometer**2*mole))]\n"
     ]
    }
   ],
   "source": [
    "# Prepare the Simulation\n",
    "print('Building system...')\n",
    "topology = pdb.topology\n",
    "print(topology.getPeriodicBoxVectors())\n",
    "positions = pdb.positions\n",
    "system = forcefield.createSystem(topology, nonbondedMethod=nonbondedMethod, constraints=constraints, rigidWater=rigidWater)\n",
    "print(system.getDefaultPeriodicBoxVectors())\n",
    "print(system.getForce(0))\n",
    "print(system.getForce(1))\n",
    "print(system.getForce(2))\n",
    "print(dir(system.getForce(0)))\n",
    "print(system.getForce(0).getBondParameters(0))\n",
    "\n",
    "# modified by jk\n",
    "# from openmm import unit\n",
    "# edge = 1e20 * unit.nanometers\n",
    "# system.setDefaultPeriodicBoxVectors([edge,0,0], [0,edge,0], [0,0,edge])\n",
    "# print(system.getDefaultPeriodicBoxVectors())\n",
    "\n",
    "# save the system\n",
    "integrator = LangevinMiddleIntegrator(temperature, friction, dt)\n",
    "simulation = app.Simulation(topology, system, integrator, platform, platformProperties)\n",
    "# save the topology and the contex\n",
    "simulation.context.setPositions(positions)\n",
    "simulation.context.setVelocitiesToTemperature(temperature, 2023)\n",
    "\n",
    "# save psf file for future visualization\n",
    "parmed_structure = parmed.openmm.load_topology(topology, system, positions)\n",
    "parmed_structure.save(os.path.join(data_path, psffile), overwrite=True)"
   ]
  },
  {
   "cell_type": "code",
   "execution_count": 6,
   "metadata": {},
   "outputs": [],
   "source": [
    "with open(os.path.join(rslt_path, 'state_before_min.xml'), 'w') as f:\n",
    "    f.write(\n",
    "        XmlSerializer.serialize(\n",
    "            simulation.context.getState(getPositions=True,\n",
    "                                        getVelocities=True,\n",
    "                                        getForces=True,\n",
    "                                        getEnergy=True,\n",
    "                                        getParameters=True,\n",
    "                                        getParameterDerivatives=True,\n",
    "                                        getIntegratorParameters=True,\n",
    "                                        enforcePeriodicBox=True)))"
   ]
  },
  {
   "cell_type": "code",
   "execution_count": 7,
   "metadata": {},
   "outputs": [
    {
     "name": "stdout",
     "output_type": "stream",
     "text": [
      "\n",
      "Initial system energy\n",
      "59711.796875 kJ/mol\n",
      "Performing energy minimization...\n",
      "\n",
      "Minimized system energy\n",
      "-15200.65234375 kJ/mol\n"
     ]
    }
   ],
   "source": [
    "# Minimize\n",
    "print(\"\\nInitial system energy\")\n",
    "print(simulation.context.getState(getEnergy=True).getPotentialEnergy())\n",
    "print('Performing energy minimization...')\n",
    "simulation.minimizeEnergy()\n",
    "print(\"\\nMinimized system energy\")\n",
    "print(simulation.context.getState(getEnergy=True).getPotentialEnergy())"
   ]
  },
  {
   "cell_type": "code",
   "execution_count": 8,
   "metadata": {},
   "outputs": [],
   "source": [
    "# save file for future use\n",
    "with open(os.path.join(rslt_path, 'system.xml'), 'w') as f:\n",
    "    f.write(XmlSerializer.serialize(system))\n",
    "with open(os.path.join(rslt_path, 'state.xml'), 'w') as f:\n",
    "    f.write(XmlSerializer.serialize(\n",
    "            simulation.context.getState(\n",
    "            getPositions=True, getVelocities=True, getForces=True, \n",
    "            getEnergy=True, getParameters=True, getParameterDerivatives=True, \n",
    "            getIntegratorParameters=True, enforcePeriodicBox=True)))"
   ]
  },
  {
   "cell_type": "code",
   "execution_count": 9,
   "metadata": {},
   "outputs": [],
   "source": [
    "# topology from pdbfile, system and state from xml\n",
    "# use the following code to load simulation to run\n",
    "\n",
    "# integrator = LangevinMiddleIntegrator(temperature, friction, dt)\n",
    "# system = XmlSerializer.deserialize(open('system.xml').read())\n",
    "# simulation = app.Simulation(topology, system, integrator, platform, platformProperties)\n",
    "# simulation.context.setState(XmlSerializer.deserialize(open('state.xml').read()))"
   ]
  },
  {
   "cell_type": "code",
   "execution_count": 10,
   "metadata": {},
   "outputs": [
    {
     "name": "stdout",
     "output_type": "stream",
     "text": [
      "Simulating...\n",
      "#\"Progress (%)\"\t\"Step\"\t\"Time (ps)\"\t\"Potential Energy (kJ/mole)\"\t\"Temperature (K)\"\t\"Speed (ns/day)\"\t\"Elapsed Time (s)\"\t\"Time Remaining\"\n",
      "2.0%\t1000\t2.0000000000000013\t-6595.69091796875\t341.4713037072065\t0\t7.987022399902344e-05\t--\n",
      "4.0%\t2000\t3.999999999999781\t-7944.66357421875\t300.53998273519966\t339\t0.5105118751525879\t0:24\n",
      "6.0%\t3000\t5.999999999999561\t-8643.787109375\t299.8286951781408\t342\t1.0118069648742676\t0:23\n",
      "8.0%\t4000\t7.999999999999341\t-8546.31640625\t309.03282836006525\t340\t1.5226738452911377\t0:23\n",
      "10.0%\t5000\t10.000000000000009\t-8717.66015625\t305.4448996482399\t340\t2.0316836833953857\t0:22\n",
      "12.0%\t6000\t12.000000000000677\t-8704.0673828125\t294.8051189068399\t340\t2.539174795150757\t0:22\n",
      "14.0%\t7000\t14.000000000001345\t-8557.6611328125\t307.837637676639\t340\t3.0496997833251953\t0:21\n",
      "16.0%\t8000\t16.00000000000201\t-8647.37109375\t305.97075502385417\t340\t3.558032751083374\t0:21\n",
      "18.0%\t9000\t18.000000000000902\t-8622.240234375\t292.38357282429\t340\t4.066107749938965\t0:20\n",
      "20.0%\t10000\t19.999999999999794\t-8492.9140625\t301.344063054555\t336\t4.622876882553101\t0:20\n",
      "22.0%\t11000\t21.999999999998685\t-8421.3291015625\t308.0529094822057\t336\t5.1362996101379395\t0:20\n",
      "24.0%\t12000\t23.999999999997577\t-8652.14453125\t295.1344043146808\t336\t5.648896932601929\t0:19\n",
      "26.0%\t13000\t25.99999999999647\t-8520.931640625\t308.6186524972847\t337\t6.153844833374023\t0:18\n",
      "28.0%\t14000\t27.99999999999536\t-8849.1875\t291.54569345196285\t337\t6.663003921508789\t0:18\n",
      "30.0%\t15000\t29.99999999999425\t-8737.96484375\t303.5764929285859\t337\t7.173374891281128\t0:17\n",
      "32.0%\t16000\t31.999999999993143\t-8679.267578125\t300.75566148187266\t337\t7.685016870498657\t0:17\n",
      "34.0%\t17000\t33.99999999999559\t-8676.7060546875\t295.80890986374135\t338\t8.186694860458374\t0:16\n",
      "36.0%\t18000\t35.99999999999803\t-8830.255859375\t294.1215888108929\t336\t8.741446733474731\t0:16\n",
      "38.0%\t19000\t38.000000000000476\t-8863.01171875\t297.8350544640984\t336\t9.24883484840393\t0:15\n",
      "40.0%\t20000\t40.00000000000292\t-8720.267578125\t298.38822016603024\t337\t9.754617691040039\t0:15\n",
      "42.0%\t21000\t42.000000000005365\t-8757.501953125\t295.625905966996\t337\t10.257821798324585\t0:14\n",
      "44.0%\t22000\t44.00000000000781\t-8989.9150390625\t303.28051842115724\t337\t10.762511730194092\t0:14\n",
      "46.0%\t23000\t46.00000000001025\t-9060.365234375\t305.6866304201892\t337\t11.270291805267334\t0:13\n",
      "48.0%\t24000\t48.0000000000127\t-8907.51171875\t299.08216831611355\t336\t11.820024728775024\t0:13\n",
      "50.0%\t25000\t50.00000000001514\t-8662.4677734375\t303.3603984521007\t336\t12.33139681816101\t0:12\n",
      "52.0%\t26000\t52.000000000017586\t-8864.365234375\t305.1312342971058\t336\t12.839314937591553\t0:12\n",
      "54.0%\t27000\t54.00000000002003\t-8806.091796875\t297.99638235188667\t337\t13.348952770233154\t0:11\n",
      "56.0%\t28000\t56.000000000022474\t-8867.490234375\t305.57080105652904\t337\t13.857545852661133\t0:11\n",
      "58.0%\t29000\t58.00000000002492\t-8948.068359375\t300.00770391612366\t336\t14.406831741333008\t0:10\n",
      "60.0%\t30000\t60.00000000002736\t-8976.1025390625\t294.90944396784664\t336\t14.929034948348999\t0:10\n",
      "62.0%\t31000\t62.00000000002981\t-9034.197265625\t292.1582060403161\t336\t15.436951637268066\t0:09\n",
      "64.0%\t32000\t64.00000000003224\t-9105.205078125\t301.9765628741425\t336\t15.941669702529907\t0:09\n",
      "66.0%\t33000\t66.00000000002758\t-9142.6318359375\t304.6213118394901\t335\t16.495036840438843\t0:08\n",
      "68.0%\t34000\t68.00000000002292\t-8924.20703125\t292.39125662919\t335\t17.003314971923828\t0:08\n",
      "70.0%\t35000\t70.00000000001826\t-9026.326171875\t299.6202772352958\t336\t17.508837938308716\t0:07\n",
      "72.0%\t36000\t72.0000000000136\t-8973.484375\t290.8519903304379\t336\t18.0174458026886\t0:07\n",
      "74.0%\t37000\t74.00000000000894\t-8945.333984375\t297.1394174592313\t336\t18.526843786239624\t0:06\n",
      "76.0%\t38000\t76.00000000000428\t-9023.6279296875\t298.9894924624217\t336\t19.03339171409607\t0:06\n",
      "78.0%\t39000\t77.99999999999962\t-9175.05859375\t294.1673697166299\t336\t19.540284872055054\t0:05\n",
      "80.0%\t40000\t79.99999999999496\t-9161.3681640625\t302.0882517226972\t336\t20.04926586151123\t0:05\n",
      "82.0%\t41000\t81.9999999999903\t-9146.828125\t300.14544150234474\t336\t20.557061910629272\t0:04\n",
      "84.0%\t42000\t83.99999999998563\t-9033.86328125\t303.89514853974646\t336\t21.063453912734985\t0:04\n",
      "86.0%\t43000\t85.99999999998097\t-9067.4677734375\t301.0553643275019\t336\t21.569207668304443\t0:03\n",
      "88.0%\t44000\t87.99999999997631\t-9023.818359375\t291.2690801203169\t337\t22.070499658584595\t0:03\n",
      "90.0%\t45000\t89.99999999997165\t-8813.6015625\t301.0444682830497\t337\t22.574883699417114\t0:02\n",
      "92.0%\t46000\t91.99999999996699\t-9212.87109375\t305.55809099798165\t337\t23.081772804260254\t0:02\n",
      "94.0%\t47000\t93.99999999996233\t-8996.1953125\t304.9875125087201\t337\t23.592476844787598\t0:01\n",
      "96.0%\t48000\t95.99999999995767\t-8986.921875\t296.70342263056284\t337\t24.101078748703003\t0:01\n",
      "98.0%\t49000\t97.999999999953\t-9024.16796875\t296.67644047150696\t337\t24.626121997833252\t0:00\n",
      "100.0%\t50000\t99.99999999994834\t-9326.6240234375\t297.35183727212575\t337\t25.134857892990112\t0:00\n"
     ]
    }
   ],
   "source": [
    "print('Simulating...')\n",
    "simulation.currentStep = 0\n",
    "dcdReporter = app.DCDReporter(os.path.join(rslt_path, 'traj-nocutoff.dcd'), logInterval)\n",
    "dataReporter = app.StateDataReporter(os.path.join(rslt_path, 'traj-nocutoff.log'), logInterval, totalSteps=steps,\n",
    "    step=True, time=True, speed=True, progress=True, elapsedTime=True, remainingTime=True, potentialEnergy=True, temperature=True, separator='\\t')\n",
    "stdoutReporter = app.StateDataReporter(sys.stdout, logInterval*10, totalSteps=steps,\n",
    "    step=True, time=True, speed=True, progress=True, elapsedTime=True, remainingTime=True, potentialEnergy=True, temperature=True, separator='\\t')\n",
    "simulation.reporters.append(dataReporter)\n",
    "simulation.reporters.append(stdoutReporter)\n",
    "simulation.reporters.append(dcdReporter)\n",
    "simulation.step(steps)\n",
    "\n",
    "# Write file with final simulation state\n",
    "simulation.saveState(os.path.join(rslt_path, 'final_state_nocutoff.xml'))"
   ]
  },
  {
   "cell_type": "code",
   "execution_count": 11,
   "metadata": {},
   "outputs": [
    {
     "data": {
      "application/vnd.jupyter.widget-view+json": {
       "model_id": "151dea252cce43bd9bb190d3c7738027",
       "version_major": 2,
       "version_minor": 0
      },
      "text/plain": [
       "NGLWidget(max_frame=499)"
      ]
     },
     "metadata": {},
     "output_type": "display_data"
    },
    {
     "data": {
      "application/vnd.jupyter.widget-view+json": {
       "model_id": "dee3e04e893c4480a5a3ce34a022d249",
       "version_major": 2,
       "version_minor": 0
      },
      "text/plain": [
       "Tab(children=(Box(children=(Box(children=(Box(children=(Label(value='step'), IntSlider(value=1, min=-100)), la…"
      ]
     },
     "metadata": {},
     "output_type": "display_data"
    }
   ],
   "source": [
    "u = md.Universe(os.path.join(data_path, psffile), os.path.join(rslt_path, 'traj-nocutoff.dcd'))\n",
    "ng.show_mdanalysis(u, gui=True)"
   ]
  }
 ],
 "metadata": {
  "kernelspec": {
   "display_name": "md",
   "language": "python",
   "name": "python3"
  },
  "language_info": {
   "codemirror_mode": {
    "name": "ipython",
    "version": 3
   },
   "file_extension": ".py",
   "mimetype": "text/x-python",
   "name": "python",
   "nbconvert_exporter": "python",
   "pygments_lexer": "ipython3",
   "version": "3.9.7"
  },
  "orig_nbformat": 4
 },
 "nbformat": 4,
 "nbformat_minor": 2
}
