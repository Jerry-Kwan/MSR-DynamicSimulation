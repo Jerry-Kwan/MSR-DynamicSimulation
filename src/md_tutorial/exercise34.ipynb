{
 "cells": [
  {
   "cell_type": "code",
   "execution_count": 1,
   "metadata": {},
   "outputs": [
    {
     "data": {
      "application/vnd.jupyter.widget-view+json": {
       "model_id": "5babaf4de7e645d0a2d01645c02c5c49",
       "version_major": 2,
       "version_minor": 0
      },
      "text/plain": []
     },
     "metadata": {},
     "output_type": "display_data"
    }
   ],
   "source": [
    "from openmm.app import *\n",
    "from openmm import *\n",
    "from simtk.unit import *\n",
    "import MDAnalysis as md\n",
    "import nglview as ng\n",
    "from sys import stdout\n",
    "import numpy as np\n",
    "import matplotlib.pyplot as plt"
   ]
  },
  {
   "cell_type": "code",
   "execution_count": 2,
   "metadata": {},
   "outputs": [],
   "source": [
    "pdb0_file = '../../data/md_tutorial/villin_water.pdb'\n",
    "pdb1_file = '../../data/md_tutorial/polyALA.pdb'\n",
    "pdb2_file = '../../data/md_tutorial/polyGLY.pdb'\n",
    "pdb3_file = '../../data/md_tutorial/polyGV.pdb'"
   ]
  },
  {
   "cell_type": "code",
   "execution_count": 3,
   "metadata": {},
   "outputs": [
    {
     "data": {
      "application/vnd.jupyter.widget-view+json": {
       "model_id": "c4e8f28bf8d04d2abe60a7fb7d736a5b",
       "version_major": 2,
       "version_minor": 0
      },
      "text/plain": [
       "NGLWidget()"
      ]
     },
     "metadata": {},
     "output_type": "display_data"
    },
    {
     "data": {
      "application/vnd.jupyter.widget-view+json": {
       "model_id": "9edf3aa037954e7aabcb6bc199ae6b34",
       "version_major": 2,
       "version_minor": 0
      },
      "text/plain": [
       "Tab(children=(Box(children=(Box(children=(Box(children=(Label(value='step'), IntSlider(value=1, min=-100)), la…"
      ]
     },
     "metadata": {},
     "output_type": "display_data"
    }
   ],
   "source": [
    "# show original polyGV\n",
    "ng.show_mdanalysis(md.Universe(pdb2_file), gui=True)"
   ]
  },
  {
   "cell_type": "code",
   "execution_count": 4,
   "metadata": {},
   "outputs": [
    {
     "name": "stdout",
     "output_type": "stream",
     "text": [
      "#\"Progress (%)\",\"Step\",\"Potential Energy (kJ/mole)\",\"Temperature (K)\"\n",
      "1.0%,5000,3423.07177734375,96.26082379384738\n",
      "2.0%,10000,3449.5595703125,100.32192778081853\n",
      "3.0%,15000,3425.396728515625,98.98208133298138\n",
      "4.0%,20000,3404.910400390625,100.36437025522405\n",
      "5.0%,25000,3423.5263671875,101.23264152455542\n",
      "6.0%,30000,3410.3056640625,105.32812839417996\n",
      "7.0%,35000,3396.416015625,103.20923371979124\n",
      "8.0%,40000,3407.94140625,113.44180168280367\n",
      "9.0%,45000,3396.39013671875,99.30442486593753\n",
      "10.0%,50000,3432.27783203125,96.83788879169084\n",
      "11.0%,55000,3418.2646484375,96.31582425863719\n",
      "12.0%,60000,3423.123779296875,97.1087394406134\n",
      "13.0%,65000,3392.33984375,104.00660121206003\n",
      "14.0%,70000,3448.026123046875,104.03263708557556\n",
      "15.0%,75000,3430.192626953125,106.75677292214039\n",
      "16.0%,80000,3407.115234375,112.35530016288313\n",
      "17.0%,85000,3432.30810546875,107.25308788948794\n",
      "18.0%,90000,3413.9912109375,99.40842771804066\n",
      "19.0%,95000,3438.136962890625,107.25087199813328\n",
      "20.0%,100000,3395.299072265625,100.65213951838294\n",
      "21.0%,105000,3457.56103515625,100.61068841621962\n",
      "22.0%,110000,3434.934326171875,98.80569078095462\n",
      "23.0%,115000,3455.66357421875,99.39586842654104\n",
      "24.0%,120000,3413.2763671875,101.43200335818288\n",
      "25.0%,125000,3415.72509765625,91.81220234776633\n",
      "26.0%,130000,3431.483154296875,103.19355973162415\n",
      "27.0%,135000,3428.4375,97.56559360468245\n",
      "28.0%,140000,3416.692626953125,104.22765376149437\n",
      "29.0%,145000,3438.60791015625,101.25289699246153\n",
      "30.0%,150000,3419.43017578125,107.92951892727758\n",
      "31.0%,155000,3416.45068359375,98.36880256638315\n",
      "32.0%,160000,3422.699951171875,97.88710717626097\n",
      "33.0%,165000,3403.40966796875,111.00329228807166\n",
      "34.0%,170000,3420.197509765625,99.02709803619359\n",
      "35.0%,175000,3461.4375,106.98942057249802\n",
      "36.0%,180000,3442.53173828125,93.67273455122826\n",
      "37.0%,185000,3444.635986328125,104.0698441554633\n",
      "38.0%,190000,3457.705078125,99.48195089168092\n",
      "39.0%,195000,3419.44384765625,105.37563554875908\n",
      "40.0%,200000,3446.045166015625,103.83839316520444\n",
      "41.0%,205000,3425.30517578125,102.2881404838818\n",
      "42.0%,210000,3419.044677734375,97.99624355922312\n",
      "43.0%,215000,3397.30078125,93.09568163911756\n",
      "44.0%,220000,3415.14111328125,106.7807022114883\n",
      "45.0%,225000,3410.42822265625,108.38320657831021\n",
      "46.0%,230000,3423.5400390625,104.63163075503358\n",
      "47.0%,235000,3410.548828125,106.37682476824789\n",
      "48.0%,240000,3418.252197265625,93.81995604575908\n",
      "49.0%,245000,3427.08544921875,106.31519113826431\n",
      "50.0%,250000,3419.97119140625,92.99075965514997\n",
      "51.0%,255000,3401.94677734375,112.47517727661106\n",
      "52.0%,260000,3422.51953125,104.5449232645146\n",
      "53.0%,265000,3420.266357421875,89.53790705978182\n",
      "54.0%,270000,3403.4228515625,103.71979270211136\n",
      "55.0%,275000,3394.5791015625,107.95396903317298\n",
      "56.0%,280000,3410.416259765625,103.82833554107388\n",
      "57.0%,285000,3427.65380859375,105.77054596154503\n",
      "58.0%,290000,3405.24755859375,87.06293945157559\n",
      "59.0%,295000,3405.55419921875,103.75184278604735\n",
      "60.0%,300000,3422.697021484375,105.21488236571763\n",
      "61.0%,305000,3424.27392578125,98.68097512861556\n",
      "62.0%,310000,3418.079345703125,96.55006035816135\n",
      "63.0%,315000,3418.540283203125,96.03682054523073\n",
      "64.0%,320000,3408.2822265625,108.82475452559402\n",
      "65.0%,325000,3397.59619140625,98.60501194650755\n",
      "66.0%,330000,3385.336181640625,98.20458829277733\n",
      "67.0%,335000,3407.724853515625,106.74622758243298\n",
      "68.0%,340000,3386.67236328125,107.1640974628381\n",
      "69.0%,345000,3407.9013671875,100.67446475783733\n",
      "70.0%,350000,3394.36181640625,100.66670685017503\n",
      "71.0%,355000,3398.84716796875,94.56975233916936\n",
      "72.0%,360000,3382.6328125,88.52587311944666\n",
      "73.0%,365000,3407.57470703125,98.1650063566755\n",
      "74.0%,370000,3425.00390625,105.2975739910276\n",
      "75.0%,375000,3438.167236328125,98.37736618506372\n",
      "76.0%,380000,3431.464111328125,92.36195480816983\n",
      "77.0%,385000,3419.74365234375,97.72480050815199\n",
      "78.0%,390000,3428.332763671875,97.09873077727498\n",
      "79.0%,395000,3432.95263671875,95.20176721989004\n",
      "80.0%,400000,3428.3740234375,113.94547223557603\n",
      "81.0%,405000,3403.45361328125,96.71059070854028\n",
      "82.0%,410000,3430.09814453125,100.93758799683556\n",
      "83.0%,415000,3405.68603515625,94.26748704862841\n",
      "84.0%,420000,3419.76611328125,92.69078914135332\n",
      "85.0%,425000,3394.84814453125,97.20793563480575\n",
      "86.0%,430000,3436.987548828125,104.47548751679287\n",
      "87.0%,435000,3407.5478515625,102.61456801192972\n",
      "88.0%,440000,3409.93359375,104.03693902254537\n",
      "89.0%,445000,3411.00146484375,87.52890858869038\n",
      "90.0%,450000,3383.69775390625,99.68400351658099\n",
      "91.0%,455000,3430.78369140625,103.65551677587837\n",
      "92.0%,460000,3393.04638671875,89.94527958648989\n",
      "93.0%,465000,3399.150390625,106.22120907889821\n",
      "94.0%,470000,3404.837890625,102.97165364252693\n",
      "95.0%,475000,3397.040283203125,105.34272564403025\n",
      "96.0%,480000,3411.78759765625,98.43738144191612\n",
      "97.0%,485000,3393.34326171875,94.30784391871794\n",
      "98.0%,490000,3393.8154296875,97.62181467089445\n",
      "99.0%,495000,3446.716064453125,101.79318162380068\n",
      "100.0%,500000,3439.369384765625,101.55629325555202\n"
     ]
    }
   ],
   "source": [
    "### 1.loading initial coordinates\n",
    "pdb = PDBFile(pdb2_file)\n",
    "\n",
    "### 2.choosing a forcefield parameters\n",
    "ff = ForceField('amber10.xml')\n",
    "system = ff.createSystem(pdb.topology, nonbondedMethod=CutoffNonPeriodic)\n",
    "\n",
    "### 3. Choose parameters of the experiment: temperature, pressure, box size, solvation, boundary conditions, etc\n",
    "temperature = 100 * kelvin\n",
    "frictionCoeff = 1 / picosecond\n",
    "time_step = 0.002 * picoseconds\n",
    "total_steps = 1000 * picoseconds / time_step\n",
    "\n",
    "### 4. Choose an algorithm (integrator)\n",
    "integrator = LangevinIntegrator(temperature, frictionCoeff, time_step)\n",
    "\n",
    "### 5. Run simulation, saving coordinates time to time:\n",
    "\n",
    "### 5a. Create a simulation object\n",
    "simulation = Simulation(pdb.topology, system, integrator)\n",
    "simulation.context.setPositions(pdb.positions)\n",
    "\n",
    "### 5b. Minimize energy\n",
    "simulation.minimizeEnergy()\n",
    "\n",
    "### 5c. Save coordinates to dcd file and energies to a standard output console:\n",
    "simulation.reporters.append(DCDReporter('../../data/md_tutorial/output/polyGLY_traj_100K.dcd', 1000))\n",
    "simulation.reporters.append(StateDataReporter(stdout, 5000, step=True, potentialEnergy=True,\\\n",
    "                                              temperature=True, progress=True, totalSteps = total_steps))\n",
    "\n",
    "### 5d. Run!\n",
    "simulation.step(total_steps)"
   ]
  },
  {
   "cell_type": "code",
   "execution_count": 5,
   "metadata": {},
   "outputs": [
    {
     "name": "stdout",
     "output_type": "stream",
     "text": [
      "#\"Progress (%)\",\"Step\",\"Potential Energy (kJ/mole)\",\"Temperature (K)\"\n",
      "1.0%,5000,4509.2705078125,477.18106765776724\n",
      "2.0%,10000,4191.89208984375,461.17331770047946\n",
      "3.0%,15000,4167.3056640625,505.2447960682237\n",
      "4.0%,20000,3979.7177734375,481.47931355412265\n",
      "5.0%,25000,4052.04736328125,448.0913633117081\n",
      "6.0%,30000,4014.829833984375,474.75708699676056\n",
      "7.0%,35000,3838.390380859375,493.4622279391935\n",
      "8.0%,40000,3738.4638671875,472.8086230735071\n",
      "9.0%,45000,3698.5234375,459.83364231386736\n",
      "10.0%,50000,3525.9423828125,561.8127174503493\n",
      "11.0%,55000,3588.351806640625,458.3912053695393\n",
      "12.0%,60000,3598.68896484375,493.8455722470691\n",
      "13.0%,65000,3726.90234375,511.48454071209915\n",
      "14.0%,70000,3648.41455078125,475.81608039068453\n",
      "15.0%,75000,3726.044189453125,497.9842429652558\n",
      "16.0%,80000,3572.318359375,470.63206793485267\n",
      "17.0%,85000,3652.55126953125,473.63082364087313\n",
      "18.0%,90000,3666.589111328125,556.7398179946138\n",
      "19.0%,95000,3689.50830078125,501.9082058549309\n",
      "20.0%,100000,3607.326904296875,514.8721209629513\n",
      "21.0%,105000,3664.935546875,520.1663692865872\n",
      "22.0%,110000,3638.674072265625,487.98665489589746\n",
      "23.0%,115000,3597.2177734375,440.3005997977132\n",
      "24.0%,120000,3676.88330078125,549.8030318211312\n",
      "25.0%,125000,3710.16015625,490.15516355098805\n",
      "26.0%,130000,3793.31005859375,522.0763104389829\n",
      "27.0%,135000,3619.063720703125,463.9584879325473\n",
      "28.0%,140000,3534.575439453125,543.7163699621324\n",
      "29.0%,145000,3464.51025390625,483.5790412524148\n",
      "30.0%,150000,3678.7470703125,507.5509879578983\n",
      "31.0%,155000,3684.525146484375,490.58815829273277\n",
      "32.0%,160000,3632.55419921875,486.07089550682537\n",
      "33.0%,165000,3567.30859375,549.0980098087646\n",
      "34.0%,170000,3637.88330078125,504.46573654255724\n",
      "35.0%,175000,3759.662109375,476.57150885917156\n",
      "36.0%,180000,3575.244873046875,496.43172994223517\n",
      "37.0%,185000,3613.768310546875,552.1373677767418\n",
      "38.0%,190000,3610.1015625,477.6802378366085\n",
      "39.0%,195000,3521.21044921875,538.2604018915248\n",
      "40.0%,200000,3475.40869140625,515.8028888468282\n",
      "41.0%,205000,3580.974609375,522.29916129854\n",
      "42.0%,210000,3549.94091796875,537.173413935046\n",
      "43.0%,215000,3591.93359375,505.43984515811445\n",
      "44.0%,220000,3623.56884765625,502.7919733557763\n",
      "45.0%,225000,3595.167724609375,464.694871399014\n",
      "46.0%,230000,3526.02734375,548.1573553318169\n",
      "47.0%,235000,3610.01123046875,522.4347582681249\n",
      "48.0%,240000,3520.96337890625,468.8896912238042\n",
      "49.0%,245000,3573.897216796875,474.3603932659995\n",
      "50.0%,250000,3608.40478515625,463.2362617921358\n",
      "51.0%,255000,3511.13232421875,503.91296534548303\n",
      "52.0%,260000,3531.83984375,505.4065234396301\n",
      "53.0%,265000,3622.66943359375,466.5371152650376\n",
      "54.0%,270000,3535.160400390625,517.5130282236601\n",
      "55.0%,275000,3657.77294921875,531.3422066274424\n",
      "56.0%,280000,3648.368896484375,461.07709915298517\n",
      "57.0%,285000,3677.131591796875,473.16220433985364\n",
      "58.0%,290000,3595.470458984375,460.7319479292095\n",
      "59.0%,295000,3487.4736328125,481.19256254870356\n",
      "60.0%,300000,3559.7568359375,526.1167017830838\n",
      "61.0%,305000,3449.1611328125,499.31069668298085\n",
      "62.0%,310000,3727.78662109375,536.8780786804215\n",
      "63.0%,315000,3633.55419921875,497.4622322875758\n",
      "64.0%,320000,3457.685302734375,570.6992588086883\n",
      "65.0%,325000,3536.95263671875,517.6508232073429\n",
      "66.0%,330000,3669.513671875,505.70822948473557\n",
      "67.0%,335000,3578.6669921875,515.8047492898481\n",
      "68.0%,340000,3751.515380859375,527.2516895761797\n",
      "69.0%,345000,3514.326904296875,500.64443337258933\n",
      "70.0%,350000,3602.858154296875,459.75048406320974\n",
      "71.0%,355000,3603.296142578125,542.0610709116525\n",
      "72.0%,360000,3426.7607421875,486.7245674777068\n",
      "73.0%,365000,3528.076416015625,536.8679062604983\n",
      "74.0%,370000,3604.956787109375,485.8323504897043\n",
      "75.0%,375000,3545.862060546875,477.70586727865725\n",
      "76.0%,380000,3551.587646484375,540.6836034696566\n",
      "77.0%,385000,3593.3447265625,502.1843281657804\n",
      "78.0%,390000,3551.341064453125,486.6132705208308\n",
      "79.0%,395000,3523.162841796875,516.1972088707348\n",
      "80.0%,400000,3461.52490234375,514.9304993104201\n",
      "81.0%,405000,3507.01220703125,471.9570432210645\n",
      "82.0%,410000,3545.94189453125,465.14074504760725\n",
      "83.0%,415000,3459.103271484375,503.10288572538565\n",
      "84.0%,420000,3573.54638671875,443.41222863102774\n",
      "85.0%,425000,3600.931396484375,469.8111445665812\n",
      "86.0%,430000,3724.32958984375,513.1130127603249\n",
      "87.0%,435000,3610.957275390625,454.69767203405905\n",
      "88.0%,440000,3639.41552734375,482.8783959978989\n",
      "89.0%,445000,3646.812744140625,504.9867143304347\n",
      "90.0%,450000,3586.332275390625,506.06948617883387\n",
      "91.0%,455000,3527.862548828125,491.53610867508894\n",
      "92.0%,460000,3555.13623046875,472.38839109677144\n",
      "93.0%,465000,3563.983154296875,502.920095257977\n",
      "94.0%,470000,3637.940673828125,558.1268922983255\n",
      "95.0%,475000,3540.84033203125,492.2829228573387\n",
      "96.0%,480000,3522.177001953125,495.8853314071553\n",
      "97.0%,485000,3501.35400390625,528.0203801139439\n",
      "98.0%,490000,3655.370849609375,536.1580521707983\n",
      "99.0%,495000,3589.9111328125,523.5047602974786\n",
      "100.0%,500000,3705.48828125,495.03778925136265\n"
     ]
    }
   ],
   "source": [
    "### 1.loading initial coordinates\n",
    "pdb = PDBFile(pdb2_file)\n",
    "\n",
    "### 2.choosing a forcefield parameters\n",
    "ff = ForceField('amber10.xml')\n",
    "system = ff.createSystem(pdb.topology, nonbondedMethod=CutoffNonPeriodic)\n",
    "\n",
    "### 3. Choose parameters of the experiment: temperature, pressure, box size, solvation, boundary conditions, etc\n",
    "temperature = 500 * kelvin\n",
    "frictionCoeff = 1 / picosecond\n",
    "time_step = 0.002 * picoseconds\n",
    "total_steps = 1000 * picoseconds / time_step\n",
    "\n",
    "### 4. Choose an algorithm (integrator)\n",
    "integrator = LangevinIntegrator(temperature, frictionCoeff, time_step)\n",
    "\n",
    "### 5. Run simulation, saving coordinates time to time:\n",
    "\n",
    "### 5a. Create a simulation object\n",
    "simulation = Simulation(pdb.topology, system, integrator)\n",
    "simulation.context.setPositions(pdb.positions)\n",
    "\n",
    "### 5b. Minimize energy\n",
    "simulation.minimizeEnergy()\n",
    "\n",
    "### 5c. Save coordinates to dcd file and energies to a standard output console:\n",
    "simulation.reporters.append(DCDReporter('../../data/md_tutorial/output/polyGLY_traj_500K.dcd', 1000))\n",
    "simulation.reporters.append(StateDataReporter(stdout, 5000, step=True, potentialEnergy=True,\\\n",
    "                                              temperature=True, progress=True, totalSteps = total_steps))\n",
    "\n",
    "### 5d. Run!\n",
    "simulation.step(total_steps)"
   ]
  },
  {
   "cell_type": "code",
   "execution_count": 6,
   "metadata": {},
   "outputs": [],
   "source": [
    "### 6. Visualization\n",
    "sys_100 = md.Universe(pdb2_file, '../../data/md_tutorial/output/polyGLY_traj_100K.dcd')\n",
    "sys_500 = md.Universe(pdb2_file, '../../data/md_tutorial/output/polyGLY_traj_500K.dcd')"
   ]
  },
  {
   "cell_type": "code",
   "execution_count": 7,
   "metadata": {},
   "outputs": [
    {
     "data": {
      "application/vnd.jupyter.widget-view+json": {
       "model_id": "b9e3d6e343ab42808e19d3b0b62ed2c2",
       "version_major": 2,
       "version_minor": 0
      },
      "text/plain": [
       "NGLWidget(max_frame=499)"
      ]
     },
     "metadata": {},
     "output_type": "display_data"
    },
    {
     "data": {
      "application/vnd.jupyter.widget-view+json": {
       "model_id": "33e91b457b354b3b82c6141be11bfbd3",
       "version_major": 2,
       "version_minor": 0
      },
      "text/plain": [
       "Tab(children=(Box(children=(Box(children=(Box(children=(Label(value='step'), IntSlider(value=1, min=-100)), la…"
      ]
     },
     "metadata": {},
     "output_type": "display_data"
    }
   ],
   "source": [
    "ng.show_mdanalysis(sys_100, gui=True)"
   ]
  },
  {
   "cell_type": "code",
   "execution_count": 8,
   "metadata": {},
   "outputs": [
    {
     "data": {
      "application/vnd.jupyter.widget-view+json": {
       "model_id": "31c16f2ca77f4b6491a607c04d2acadb",
       "version_major": 2,
       "version_minor": 0
      },
      "text/plain": [
       "NGLWidget(max_frame=499)"
      ]
     },
     "metadata": {},
     "output_type": "display_data"
    },
    {
     "data": {
      "application/vnd.jupyter.widget-view+json": {
       "model_id": "61ab5e1f6aad46c1989929e3790279ce",
       "version_major": 2,
       "version_minor": 0
      },
      "text/plain": [
       "Tab(children=(Box(children=(Box(children=(Box(children=(Label(value='step'), IntSlider(value=1, min=-100)), la…"
      ]
     },
     "metadata": {},
     "output_type": "display_data"
    }
   ],
   "source": [
    "ng.show_mdanalysis(sys_500, gui=True)"
   ]
  },
  {
   "cell_type": "code",
   "execution_count": 10,
   "metadata": {},
   "outputs": [
    {
     "name": "stdout",
     "output_type": "stream",
     "text": [
      "frame = 0: d = 90.32058715820312 Angstroem, Rgyr = 26.509120385467586 Angstroem\n",
      "frame = 1: d = 89.85751342773438 Angstroem, Rgyr = 26.358582319494143 Angstroem\n",
      "frame = 2: d = 89.25735473632812 Angstroem, Rgyr = 26.36098207955085 Angstroem\n",
      "frame = 3: d = 89.4045181274414 Angstroem, Rgyr = 26.283980549540797 Angstroem\n",
      "frame = 4: d = 88.72502899169922 Angstroem, Rgyr = 26.10731167450005 Angstroem\n",
      "frame = 5: d = 88.73888397216797 Angstroem, Rgyr = 26.096582999825927 Angstroem\n",
      "frame = 6: d = 88.33118438720703 Angstroem, Rgyr = 26.097825048312828 Angstroem\n",
      "frame = 7: d = 88.29304504394531 Angstroem, Rgyr = 26.04643593507066 Angstroem\n",
      "frame = 8: d = 88.01324462890625 Angstroem, Rgyr = 26.08331822345356 Angstroem\n",
      "frame = 9: d = 87.57808685302734 Angstroem, Rgyr = 26.10997093374612 Angstroem\n",
      "frame = 10: d = 87.35286712646484 Angstroem, Rgyr = 26.00241499941342 Angstroem\n"
     ]
    }
   ],
   "source": [
    "# ref: https://docs.mdanalysis.org/stable/documentation_pages/overview.html\n",
    "nterm = sys_100.select_atoms('resid 1 and name N')[0]\n",
    "cterm = sys_100.select_atoms('resid 25 and name C')[-1]\n",
    "bb = sys_100.select_atoms('protein and backbone')\n",
    "\n",
    "cnt = 0\n",
    "\n",
    "for ts in sys_100.trajectory:  # iterate through all frames\n",
    "    r = cterm.position - nterm.position  # end-to-end vector from atom positions\n",
    "    d = numpy.linalg.norm(r)  # end-to-end distance\n",
    "    rgyr = bb.radius_of_gyration()  # method of a AtomGroup; updates with each frame\n",
    "    print(f\"frame = {ts.frame}: d = {d} Angstroem, Rgyr = {rgyr} Angstroem\")\n",
    "\n",
    "    cnt += 1\n",
    "    if cnt > 10:\n",
    "        break"
   ]
  },
  {
   "cell_type": "code",
   "execution_count": 11,
   "metadata": {},
   "outputs": [
    {
     "name": "stdout",
     "output_type": "stream",
     "text": [
      "frame = 0: d = 84.92760467529297 Angstroem, Rgyr = 25.184518001590707 Angstroem\n",
      "frame = 1: d = 81.20256042480469 Angstroem, Rgyr = 25.06320611726763 Angstroem\n",
      "frame = 2: d = 74.4247055053711 Angstroem, Rgyr = 24.279671984314355 Angstroem\n",
      "frame = 3: d = 64.74686431884766 Angstroem, Rgyr = 22.854336650411522 Angstroem\n",
      "frame = 4: d = 64.5752182006836 Angstroem, Rgyr = 21.449067449559656 Angstroem\n",
      "frame = 5: d = 63.429325103759766 Angstroem, Rgyr = 20.522772674114282 Angstroem\n",
      "frame = 6: d = 59.87381362915039 Angstroem, Rgyr = 19.610517439349742 Angstroem\n",
      "frame = 7: d = 57.8121337890625 Angstroem, Rgyr = 19.22957172234446 Angstroem\n",
      "frame = 8: d = 49.84945297241211 Angstroem, Rgyr = 16.916080221145474 Angstroem\n",
      "frame = 9: d = 46.32750701904297 Angstroem, Rgyr = 15.430768470287708 Angstroem\n",
      "frame = 10: d = 42.82093048095703 Angstroem, Rgyr = 15.080101354932506 Angstroem\n"
     ]
    }
   ],
   "source": [
    "# ref: https://docs.mdanalysis.org/stable/documentation_pages/overview.html\n",
    "nterm = sys_500.select_atoms('resid 1 and name N')[0]\n",
    "cterm = sys_500.select_atoms('resid 25 and name C')[-1]\n",
    "bb = sys_500.select_atoms('protein and backbone')\n",
    "\n",
    "cnt = 0\n",
    "\n",
    "for ts in sys_500.trajectory:  # iterate through all frames\n",
    "    r = cterm.position - nterm.position  # end-to-end vector from atom positions\n",
    "    d = numpy.linalg.norm(r)  # end-to-end distance\n",
    "    rgyr = bb.radius_of_gyration()  # method of a AtomGroup; updates with each frame\n",
    "    print(f\"frame = {ts.frame}: d = {d} Angstroem, Rgyr = {rgyr} Angstroem\")\n",
    "\n",
    "    cnt += 1\n",
    "    if cnt > 10:\n",
    "        break"
   ]
  }
 ],
 "metadata": {
  "kernelspec": {
   "display_name": "temp",
   "language": "python",
   "name": "python3"
  },
  "language_info": {
   "codemirror_mode": {
    "name": "ipython",
    "version": 3
   },
   "file_extension": ".py",
   "mimetype": "text/x-python",
   "name": "python",
   "nbconvert_exporter": "python",
   "pygments_lexer": "ipython3",
   "version": "3.9.7"
  },
  "orig_nbformat": 4
 },
 "nbformat": 4,
 "nbformat_minor": 2
}
