{
 "cells": [
  {
   "cell_type": "code",
   "execution_count": 6,
   "metadata": {},
   "outputs": [],
   "source": [
    "import os\n",
    "import numpy as np\n",
    "import torch\n",
    "from moleculekit.molecule import Molecule\n",
    "import parmed\n",
    "import nglview as ng\n",
    "import MDAnalysis as md\n",
    "\n",
    "import openmm.app as app\n",
    "from openmm import Platform, LangevinMiddleIntegrator, XmlSerializer\n",
    "from openmm.unit import picosecond, kelvin\n",
    "from openmm import unit\n",
    "import openmm\n",
    "\n",
    "import mymd"
   ]
  },
  {
   "cell_type": "code",
   "execution_count": 11,
   "metadata": {},
   "outputs": [],
   "source": [
    "data_path = '/Users/jerrykwan/Downloads/'\n",
    "pdb_file = os.path.join(data_path, 'aspirin.pdb')\n",
    "prmtop_file = os.path.join(data_path, 'aspirin.prmtop')\n",
    "inpcrd_file = os.path.join(data_path, 'aspirin.inpcrd')\n",
    "\n",
    "cutoff = 9\n",
    "box = np.array([20., 20., 20.])\n",
    "T = 300\n",
    "device = 'cpu'\n",
    "precision = torch.float\n",
    "use_centered = True"
   ]
  },
  {
   "cell_type": "code",
   "execution_count": 9,
   "metadata": {},
   "outputs": [
    {
     "data": {
      "application/vnd.jupyter.widget-view+json": {
       "model_id": "05838aa0ca3b4934bfdf361b8372c92e",
       "version_major": 2,
       "version_minor": 0
      },
      "text/plain": [
       "NGLWidget()"
      ]
     },
     "metadata": {},
     "output_type": "display_data"
    },
    {
     "data": {
      "application/vnd.jupyter.widget-view+json": {
       "model_id": "1f836e9988144ad3bfb31c8c949ba537",
       "version_major": 2,
       "version_minor": 0
      },
      "text/plain": [
       "Tab(children=(Box(children=(Box(children=(Box(children=(Label(value='step'), IntSlider(value=1, min=-100)), la…"
      ]
     },
     "metadata": {},
     "output_type": "display_data"
    }
   ],
   "source": [
    "u = md.Universe(pdb_file)\n",
    "ng.show_mdanalysis(u, gui=True)"
   ]
  },
  {
   "cell_type": "code",
   "execution_count": 10,
   "metadata": {},
   "outputs": [],
   "source": [
    "mol = mymd.get_molecule(prmtop_file=prmtop_file, pdb_file=pdb_file)"
   ]
  },
  {
   "cell_type": "code",
   "execution_count": 12,
   "metadata": {},
   "outputs": [
    {
     "name": "stderr",
     "output_type": "stream",
     "text": [
      "2023-05-15 14:41:23,624 - parmed.structure - INFO - Adding bonds...\n",
      "2023-05-15 14:41:23,625 - parmed.structure - INFO - Adding angles...\n",
      "2023-05-15 14:41:23,625 - parmed.structure - INFO - Adding dihedrals...\n",
      "2023-05-15 14:41:23,625 - parmed.structure - INFO - Adding Ryckaert-Bellemans torsions...\n",
      "2023-05-15 14:41:23,626 - parmed.structure - INFO - Adding Urey-Bradleys...\n",
      "2023-05-15 14:41:23,626 - parmed.structure - INFO - Adding improper torsions...\n",
      "2023-05-15 14:41:23,626 - parmed.structure - INFO - Adding CMAP torsions...\n",
      "2023-05-15 14:41:23,627 - parmed.structure - INFO - Adding trigonal angle terms...\n",
      "2023-05-15 14:41:23,627 - parmed.structure - INFO - Adding out-of-plane bends...\n",
      "2023-05-15 14:41:23,627 - parmed.structure - INFO - Adding pi-torsions...\n",
      "2023-05-15 14:41:23,627 - parmed.structure - INFO - Adding stretch-bends...\n",
      "2023-05-15 14:41:23,628 - parmed.structure - INFO - Adding torsion-torsions...\n",
      "2023-05-15 14:41:23,628 - parmed.structure - INFO - Adding Nonbonded force...\n"
     ]
    },
    {
     "name": "stdout",
     "output_type": "stream",
     "text": [
      "True\n"
     ]
    },
    {
     "data": {
      "text/plain": [
       "{'bond': 3.0544656640484957,\n",
       " 'angle': 1.706726350474312,\n",
       " 'dihedral': 5.671557687208711,\n",
       " 'nonbonded': -88.74841401955365,\n",
       " 'total': -78.31567651227145}"
      ]
     },
     "execution_count": 12,
     "metadata": {},
     "output_type": "execute_result"
    }
   ],
   "source": [
    "class MyAmberParameterSet(parmed.amber.AmberParameterSet):\n",
    "    \"\"\"Inherited from AmberParameterSet to modify from_structure method.\"\"\"\n",
    "\n",
    "    @classmethod\n",
    "    def my_from_structure(cls, struct):\n",
    "        return super(parmed.amber.AmberParameterSet, cls).from_structure(struct, allow_unequal_duplicates=True)\n",
    "\n",
    "\n",
    "structure = parmed.load_file(prmtop_file)\n",
    "try:\n",
    "    prm = parmed.amber.AmberParameterSet().from_structure(structure)\n",
    "except:\n",
    "    print('wrong')\n",
    "    prm = MyAmberParameterSet.my_from_structure(structure)\n",
    "print(isinstance(structure, parmed.amber.AmberParm))\n",
    "\n",
    "a = unit.Quantity((box[0] * unit.angstrom, 0 * unit.angstrom, 0 * unit.angstrom))\n",
    "b = unit.Quantity((0 * unit.angstrom, box[1] * unit.angstrom, 0 * unit.angstrom))\n",
    "c = unit.Quantity((0 * unit.angstrom, 0 * unit.angstrom, box[2] * unit.angstrom))\n",
    "structure.box_vectors = (a, b, c)\n",
    "\n",
    "\n",
    "def disableDispersionCorrection(system):\n",
    "    # According to openMM:\n",
    "    # The long range dispersion correction is primarily useful when running simulations at constant pressure, since it\n",
    "    # produces a more accurate variation in system energy with respect to volume.\n",
    "    # So I will disable it to avoid implementing it for now.\n",
    "    from openmm import NonbondedForce\n",
    "\n",
    "    for f in system.getForces():\n",
    "        if isinstance(f, NonbondedForce):\n",
    "            f.setUseDispersionCorrection(False)\n",
    "\n",
    "\n",
    "system = structure.createSystem(nonbondedMethod=app.CutoffPeriodic,\n",
    "                                nonbondedCutoff=cutoff * unit.angstrom,\n",
    "                                switchDistance=0)\n",
    "system.setDefaultPeriodicBoxVectors(a, b, c)\n",
    "disableDispersionCorrection(system)\n",
    "\n",
    "integrator = openmm.LangevinIntegrator(T * unit.kelvin, 1 / unit.picoseconds, 2 * unit.femtoseconds)\n",
    "platform = openmm.Platform.getPlatformByName('OpenCL')\n",
    "properties = dict()\n",
    "\n",
    "context = openmm.Context(system, integrator, platform, properties)\n",
    "context.setPositions(mol.coords * unit.angstrom)\n",
    "energies = parmed.openmm.energy_decomposition(structure, context)\n",
    "energies"
   ]
  },
  {
   "cell_type": "code",
   "execution_count": 35,
   "metadata": {},
   "outputs": [
    {
     "name": "stdout",
     "output_type": "stream",
     "text": [
      "{'bonds': 3.0544779300689697, 'angles': 1.7067383527755737, 'dihedrals': 5.644763469696045, 'impropers': 0.026793889701366425, 'lj': 18.051368713378906, 'electrostatics': -95.05093383789062}\n",
      "-66.56679148226976\n",
      "tensor(72.0845)\n"
     ]
    }
   ],
   "source": [
    "try:\n",
    "    ff = mymd.PrmtopMolForceField(mol, prmtop_file, allow_unequal_duplicates=False)\n",
    "except:\n",
    "    print('False causes error, use True.')\n",
    "    ff = mymd.PrmtopMolForceField(mol, prmtop_file, allow_unequal_duplicates=True)\n",
    "\n",
    "system = mymd.System(mol, ff, cutoff=cutoff)\n",
    "system.set_periodic_box_manual(box.reshape(3, 1))\n",
    "integrator = mymd.VelocityVerletIntegrator(2)\n",
    "\n",
    "simulation = mymd.Simulation(mol, system, integrator, device, precision, use_centered=use_centered)\n",
    "simulation.set_positions(mol.coords)\n",
    "simulation.set_velocities_to_temperature(T=T)\n",
    "simulation.update_potentials_and_forces()\n",
    "\n",
    "print(simulation.potentials)\n",
    "print(simulation.potentials_sum)\n",
    "print(torch.max(torch.abs(simulation.forces)))"
   ]
  },
  {
   "cell_type": "code",
   "execution_count": 18,
   "metadata": {},
   "outputs": [
    {
     "name": "stdout",
     "output_type": "stream",
     "text": [
      "['O' 'C' 'C' 'O' 'C' 'C' 'C' 'C' 'C' 'C' 'C' 'O' 'O' 'H' 'H' 'H' 'H' 'H'\n",
      " 'H' 'H' 'H']\n"
     ]
    }
   ],
   "source": [
    "print(mol.element)"
   ]
  },
  {
   "cell_type": "code",
   "execution_count": 37,
   "metadata": {},
   "outputs": [
    {
     "name": "stdout",
     "output_type": "stream",
     "text": [
      "[6, 6, 6, 6, 6, 6, 6, 8, 8, 8, 6, 6, 8, 1, 1, 1, 1, 1, 1, 1, 1]\n",
      "[[ 2.2393 -0.3791  0.263 ]\n",
      " [ 0.8424  1.9231 -0.4249]\n",
      " [ 2.8709  0.8456  0.2722]\n",
      " [ 2.1751  1.9935 -0.0703]\n",
      " [-3.4838  0.4953 -0.0896]\n",
      " [ 0.891  -0.4647 -0.0939]\n",
      " [ 0.1908  0.6991 -0.4402]\n",
      " [-0.9633 -1.8425 -0.4185]\n",
      " [-1.6531  0.8889  1.3406]\n",
      " [ 0.8857 -2.8883  0.2267]\n",
      " [ 0.209  -1.772  -0.1069]\n",
      " [-2.0185  0.6853  0.2071]\n",
      " [-1.1189  0.6285 -0.7886]\n",
      " [ 0.3962 -3.7219  0.2035]\n",
      " [ 2.7867 -1.2719  0.5268]\n",
      " [ 0.3069  2.8224 -0.6911]\n",
      " [ 3.913   0.9108  0.5482]\n",
      " [ 2.6781  2.9492 -0.0604]\n",
      " [-3.736  -0.5623 -0.012 ]\n",
      " [-4.0763  1.0637  0.6273]\n",
      " [-3.6988  0.8471 -1.0986]]\n",
      "[[-406757.59126402]\n",
      " [-406757.03429293]\n",
      " [-406755.65420705]\n",
      " [-406753.83377324]\n",
      " [-406752.02145762]\n",
      " [-406750.54737373]\n",
      " [-406749.51483279]\n",
      " [-406748.80367635]\n",
      " [-406748.1725602 ]\n",
      " [-406747.38329599]\n",
      " [-406746.26498811]\n",
      " [-406744.73929505]\n",
      " [-406742.85736811]\n",
      " [-406740.84565851]\n",
      " [-406739.05751445]]\n"
     ]
    }
   ],
   "source": [
    "xyz = np.load(os.path.join(data_path, 'md17_aspirin.npz'))\n",
    "print(list(xyz['z']))\n",
    "print(xyz['R'][0])\n",
    "print(xyz['E'][:15])\n",
    "# print(np.max(np.abs(xyz['F'][0])))\n",
    "np.save(os.path.join(data_path, 'xyz.npy'), xyz['R'][0])"
   ]
  }
 ],
 "metadata": {
  "kernelspec": {
   "display_name": "temp",
   "language": "python",
   "name": "python3"
  },
  "language_info": {
   "codemirror_mode": {
    "name": "ipython",
    "version": 3
   },
   "file_extension": ".py",
   "mimetype": "text/x-python",
   "name": "python",
   "nbconvert_exporter": "python",
   "pygments_lexer": "ipython3",
   "version": "3.9.7"
  },
  "orig_nbformat": 4
 },
 "nbformat": 4,
 "nbformat_minor": 2
}
