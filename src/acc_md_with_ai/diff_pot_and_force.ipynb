{
 "cells": [
  {
   "cell_type": "code",
   "execution_count": 1,
   "metadata": {},
   "outputs": [
    {
     "data": {
      "application/vnd.jupyter.widget-view+json": {
       "model_id": "1145f1f4c6ae41659c006ca891f143e3",
       "version_major": 2,
       "version_minor": 0
      },
      "text/plain": []
     },
     "metadata": {},
     "output_type": "display_data"
    }
   ],
   "source": [
    "import os\n",
    "import numpy as np\n",
    "import torch\n",
    "from moleculekit.molecule import Molecule\n",
    "import parmed\n",
    "import nglview as ng\n",
    "import MDAnalysis as md\n",
    "\n",
    "import openmm.app as app\n",
    "from openmm import Platform, LangevinMiddleIntegrator, XmlSerializer\n",
    "from openmm.unit import picosecond, kelvin\n",
    "from openmm import unit\n",
    "import openmm\n",
    "\n",
    "import mymd"
   ]
  },
  {
   "cell_type": "code",
   "execution_count": 2,
   "metadata": {},
   "outputs": [],
   "source": [
    "data_path = '../../data/acc_md_with_ai/aspirin/'\n",
    "pdb_file = os.path.join(data_path, 'aspirin.pdb')\n",
    "prmtop_file = os.path.join(data_path, 'aspirin.prmtop')\n",
    "\n",
    "cutoff = 5\n",
    "box = np.array([20., 20., 20.])\n",
    "T = 300\n",
    "device = 'cpu'\n",
    "precision = torch.float\n",
    "use_centered = True"
   ]
  },
  {
   "cell_type": "code",
   "execution_count": 3,
   "metadata": {},
   "outputs": [
    {
     "name": "stderr",
     "output_type": "stream",
     "text": [
      "2023-05-15 22:10:21,835 - numexpr.utils - INFO - NumExpr defaulting to 8 threads.\n"
     ]
    }
   ],
   "source": [
    "mol = mymd.get_molecule(prmtop_file=prmtop_file, pdb_file=pdb_file)"
   ]
  },
  {
   "cell_type": "code",
   "execution_count": 4,
   "metadata": {},
   "outputs": [
    {
     "name": "stderr",
     "output_type": "stream",
     "text": [
      "2023-05-15 22:10:21,981 - parmed.structure - INFO - Adding bonds...\n",
      "2023-05-15 22:10:21,982 - parmed.structure - INFO - Adding angles...\n",
      "2023-05-15 22:10:21,982 - parmed.structure - INFO - Adding dihedrals...\n",
      "2023-05-15 22:10:21,982 - parmed.structure - INFO - Adding Ryckaert-Bellemans torsions...\n",
      "2023-05-15 22:10:21,982 - parmed.structure - INFO - Adding Urey-Bradleys...\n",
      "2023-05-15 22:10:21,983 - parmed.structure - INFO - Adding improper torsions...\n",
      "2023-05-15 22:10:21,983 - parmed.structure - INFO - Adding CMAP torsions...\n",
      "2023-05-15 22:10:21,983 - parmed.structure - INFO - Adding trigonal angle terms...\n",
      "2023-05-15 22:10:21,983 - parmed.structure - INFO - Adding out-of-plane bends...\n",
      "2023-05-15 22:10:21,983 - parmed.structure - INFO - Adding pi-torsions...\n",
      "2023-05-15 22:10:21,984 - parmed.structure - INFO - Adding stretch-bends...\n",
      "2023-05-15 22:10:21,984 - parmed.structure - INFO - Adding torsion-torsions...\n",
      "2023-05-15 22:10:21,984 - parmed.structure - INFO - Adding Nonbonded force...\n"
     ]
    },
    {
     "name": "stdout",
     "output_type": "stream",
     "text": [
      "True\n"
     ]
    },
    {
     "data": {
      "text/plain": [
       "{'bond': 3.0544656640484957,\n",
       " 'angle': 1.706726350474312,\n",
       " 'dihedral': 5.671557687208711,\n",
       " 'nonbonded': -105.55332978870399,\n",
       " 'total': -95.12058498754556}"
      ]
     },
     "execution_count": 4,
     "metadata": {},
     "output_type": "execute_result"
    }
   ],
   "source": [
    "class MyAmberParameterSet(parmed.amber.AmberParameterSet):\n",
    "    \"\"\"Inherited from AmberParameterSet to modify from_structure method.\"\"\"\n",
    "\n",
    "    @classmethod\n",
    "    def my_from_structure(cls, struct):\n",
    "        return super(parmed.amber.AmberParameterSet, cls).from_structure(struct, allow_unequal_duplicates=True)\n",
    "\n",
    "\n",
    "structure = parmed.load_file(prmtop_file)\n",
    "try:\n",
    "    prm = parmed.amber.AmberParameterSet().from_structure(structure)\n",
    "except:\n",
    "    print('wrong')\n",
    "    prm = MyAmberParameterSet.my_from_structure(structure)\n",
    "print(isinstance(structure, parmed.amber.AmberParm))\n",
    "\n",
    "a = unit.Quantity((box[0] * unit.angstrom, 0 * unit.angstrom, 0 * unit.angstrom))\n",
    "b = unit.Quantity((0 * unit.angstrom, box[1] * unit.angstrom, 0 * unit.angstrom))\n",
    "c = unit.Quantity((0 * unit.angstrom, 0 * unit.angstrom, box[2] * unit.angstrom))\n",
    "structure.box_vectors = (a, b, c)\n",
    "\n",
    "\n",
    "def disableDispersionCorrection(system):\n",
    "    # According to openMM:\n",
    "    # The long range dispersion correction is primarily useful when running simulations at constant pressure, since it\n",
    "    # produces a more accurate variation in system energy with respect to volume.\n",
    "    # So I will disable it to avoid implementing it for now.\n",
    "    from openmm import NonbondedForce\n",
    "\n",
    "    for f in system.getForces():\n",
    "        if isinstance(f, NonbondedForce):\n",
    "            f.setUseDispersionCorrection(False)\n",
    "\n",
    "\n",
    "system = structure.createSystem(nonbondedMethod=app.CutoffPeriodic,\n",
    "                                nonbondedCutoff=cutoff * unit.angstrom,\n",
    "                                switchDistance=0)\n",
    "system.setDefaultPeriodicBoxVectors(a, b, c)\n",
    "disableDispersionCorrection(system)\n",
    "\n",
    "integrator = openmm.LangevinIntegrator(T * unit.kelvin, 1 / unit.picoseconds, 2 * unit.femtoseconds)\n",
    "platform = openmm.Platform.getPlatformByName('OpenCL')\n",
    "properties = dict()\n",
    "\n",
    "context = openmm.Context(system, integrator, platform, properties)\n",
    "context.setPositions(mol.coords * unit.angstrom)\n",
    "energies = parmed.openmm.energy_decomposition(structure, context)\n",
    "energies"
   ]
  },
  {
   "cell_type": "code",
   "execution_count": 5,
   "metadata": {},
   "outputs": [
    {
     "name": "stdout",
     "output_type": "stream",
     "text": [
      "{'bonds': 3.0544779300689697, 'angles': 1.7067383527755737, 'dihedrals': 5.644763469696045, 'impropers': 0.026793889701366425, 'lj': 18.31438446044922, 'electrostatics': -73.98635864257812, 'external': 0.0}\n",
      "-45.23920053988695\n",
      "tensor(72.1620)\n",
      "tensor(0.1192)\n",
      "tensor(67.1751)\n",
      "tensor(-72.1620)\n"
     ]
    }
   ],
   "source": [
    "try:\n",
    "    ff = mymd.PrmtopMolForceField(mol, prmtop_file, allow_unequal_duplicates=False)\n",
    "except:\n",
    "    print('False causes error, use True.')\n",
    "    ff = mymd.PrmtopMolForceField(mol, prmtop_file, allow_unequal_duplicates=True)\n",
    "\n",
    "system = mymd.System(mol, ff, cutoff=cutoff)\n",
    "system.set_periodic_box_manual(box.reshape(3, 1))\n",
    "integrator = mymd.VelocityVerletIntegrator(2)\n",
    "\n",
    "simulation = mymd.Simulation(mol, system, integrator, device, precision, use_centered=use_centered)\n",
    "simulation.set_positions(mol.coords)\n",
    "simulation.set_velocities_to_temperature(T=T)\n",
    "simulation.update_potentials_and_forces()\n",
    "\n",
    "print(simulation.potentials)\n",
    "print(simulation.potentials_sum)\n",
    "print(torch.max(torch.abs(simulation.forces)))\n",
    "print(torch.min(torch.abs(simulation.forces)))\n",
    "print(torch.max(simulation.forces))\n",
    "print(torch.min(simulation.forces))"
   ]
  },
  {
   "cell_type": "code",
   "execution_count": 6,
   "metadata": {},
   "outputs": [
    {
     "name": "stdout",
     "output_type": "stream",
     "text": [
      "[-406757.59126402 -406757.03429293 -406755.65420705 -406753.83377324\n",
      " -406752.02145762 -406750.54737373 -406749.51483279 -406748.80367635\n",
      " -406748.1725602  -406747.38329599 -406746.26498811 -406744.73929505\n",
      " -406742.85736811 -406740.84565851 -406739.05751445]\n",
      "56.17724192114808 0.0026730380257048757 56.17724192114808 -48.17346319307507\n",
      "51.36705972152318 0.03814276481278168 51.36705972152318 -44.808529875306824\n",
      "51.0095611534444 0.010307566469301107 46.963941065728065 -51.0095611534444\n",
      "56.77521034843334 0.32637686012994876 44.01304762566052 -56.77521034843334\n",
      "61.37912908705054 0.27040312881624945 50.67915124132727 -61.37912908705054\n"
     ]
    }
   ],
   "source": [
    "dataset = np.load(os.path.join(data_path, 'md17_aspirin.npz'))\n",
    "print(dataset['E'][:15].flatten())\n",
    "for i in range(5):\n",
    "    f = dataset['F'][i]\n",
    "    print(np.max(np.abs(f)), np.min(np.abs(f)), np.max(f), np.min(f))"
   ]
  }
 ],
 "metadata": {
  "kernelspec": {
   "display_name": "temp",
   "language": "python",
   "name": "python3"
  },
  "language_info": {
   "codemirror_mode": {
    "name": "ipython",
    "version": 3
   },
   "file_extension": ".py",
   "mimetype": "text/x-python",
   "name": "python",
   "nbconvert_exporter": "python",
   "pygments_lexer": "ipython3",
   "version": "3.9.7"
  },
  "orig_nbformat": 4
 },
 "nbformat": 4,
 "nbformat_minor": 2
}
