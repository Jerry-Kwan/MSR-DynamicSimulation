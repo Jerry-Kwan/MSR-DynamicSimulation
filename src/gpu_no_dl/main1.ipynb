{
 "cells": [
  {
   "cell_type": "code",
   "execution_count": null,
   "metadata": {},
   "outputs": [],
   "source": [
    "from openmm.app import *\n",
    "from openmm import *\n",
    "from openmm.unit import *\n",
    "from sys import stdout"
   ]
  },
  {
   "cell_type": "code",
   "execution_count": null,
   "metadata": {},
   "outputs": [],
   "source": [
    "pdb0_file = '../../data/md_tutorial/villin_water.pdb'\n",
    "pdb1_file = '../../data/md_tutorial/polyALA.pdb'\n",
    "pdb2_file = '../../data/md_tutorial/polyGLY.pdb'\n",
    "pdb3_file = '../../data/md_tutorial/polyGV.pdb'"
   ]
  },
  {
   "cell_type": "code",
   "execution_count": null,
   "metadata": {},
   "outputs": [],
   "source": [
    "### 1.loading initial coordinates\n",
    "pdb = PDBFile(pdb0_file)\n",
    "\n",
    "### 2.choosing a forcefield parameters\n",
    "ff = ForceField('amber14/protein.ff14SB.xml', 'amber14/tip3pfb.xml')\n",
    "system = ff.createSystem(pdb.topology, nonbondedMethod=CutoffNonPeriodic)\n",
    "\n",
    "### 3. Choose parameters of the experiment: temperature, pressure, box size, solvation, boundary conditions, etc\n",
    "temperature = 300 * kelvin\n",
    "frictionCoeff = 1 / picosecond\n",
    "time_step = 0.002 * picoseconds\n",
    "total_steps = 400 * picoseconds / time_step\n",
    "\n",
    "### 4. Choose an algorithm (integrator)\n",
    "integrator = LangevinIntegrator(temperature, frictionCoeff, time_step)\n",
    "\n",
    "### 4.5 Platform\n",
    "# platform = Platform.getPlatformByName('CUDA')\n",
    "# platform = Platform.getPlatformByName('CPU')\n",
    "\n",
    "# 可以 index 超出 gpu 数量范围看看是不是真的在用多 GPU\n",
    "properties = {'Precision': 'mixed', 'DeviceIndex': '0,1'}\n",
    "\n",
    "### 5. Run simulation, saving coordinates time to time:\n",
    "\n",
    "### 5a. Create a simulation object\n",
    "simulation = Simulation(pdb.topology, system, integrator)\n",
    "# simulation = Simulation(pdb.topology, system, integrator, platform)\n",
    "# simulation = Simulation(pdb.topology, system, integrator, platform, properties)\n",
    "print(simulation.context.getPlatform().getName())\n",
    "\n",
    "simulation.context.setPositions(pdb.positions)\n",
    "\n",
    "### 5b. Minimize energy\n",
    "simulation.minimizeEnergy()\n",
    "\n",
    "### 5c. Save coordinates to dcd file and energies to a standard output console:\n",
    "simulation.reporters.append(DCDReporter('../tmp.dcd', 1000))\n",
    "simulation.reporters.append(StateDataReporter(stdout, 5000, step=True, potentialEnergy=True,\\\n",
    "                                              temperature=True, progress=True, totalSteps = total_steps))\n",
    "\n",
    "### 5d. Run!\n",
    "simulation.step(total_steps)"
   ]
  }
 ],
 "metadata": {
  "kernelspec": {
   "display_name": "temp",
   "language": "python",
   "name": "python3"
  },
  "language_info": {
   "codemirror_mode": {
    "name": "ipython",
    "version": 3
   },
   "file_extension": ".py",
   "mimetype": "text/x-python",
   "name": "python",
   "nbconvert_exporter": "python",
   "pygments_lexer": "ipython3",
   "version": "3.9.7"
  },
  "orig_nbformat": 4,
  "vscode": {
   "interpreter": {
    "hash": "fd45da1e2fac963d0613fe2a65a7c195c5a533c93e8d495d7f26b4e3004684a1"
   }
  }
 },
 "nbformat": 4,
 "nbformat_minor": 2
}
