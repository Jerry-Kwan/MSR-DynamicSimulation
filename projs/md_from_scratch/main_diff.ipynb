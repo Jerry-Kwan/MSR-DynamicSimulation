{
 "cells": [
  {
   "cell_type": "code",
   "execution_count": 1,
   "metadata": {},
   "outputs": [
    {
     "data": {
      "application/vnd.jupyter.widget-view+json": {
       "model_id": "c1bc9a73d159468f946614cabb15a0e9",
       "version_major": 2,
       "version_minor": 0
      },
      "text/plain": []
     },
     "metadata": {},
     "output_type": "display_data"
    }
   ],
   "source": [
    "import os\n",
    "from openmm import Platform, LangevinMiddleIntegrator, XmlSerializer\n",
    "import openmm.app as app\n",
    "from openmm.unit import picosecond, kelvin\n",
    "from openmm import unit\n",
    "import parmed\n",
    "import openmm\n",
    "import MDAnalysis as md\n",
    "from MDAnalysis.analysis import dihedrals\n",
    "import nglview as ng\n",
    "import numpy as np\n",
    "import matplotlib.pyplot as plt\n",
    "import sys\n",
    "import parmed\n",
    "import torch\n",
    "\n",
    "import mymd"
   ]
  },
  {
   "cell_type": "code",
   "execution_count": 2,
   "metadata": {},
   "outputs": [],
   "source": [
    "# mode = 'benzamidine'\n",
    "# mode = 'ala15'\n",
    "mode = '1ytc'\n",
    "\n",
    "if mode == 'ala15':\n",
    "    data_path = 'data/ala15/'\n",
    "    pdb_file = os.path.join(data_path, 'ala15_new.pdb')\n",
    "    prmtop_file = os.path.join(data_path, 'ala15.prmtop')\n",
    "elif mode == '1ytc':\n",
    "    data_path = 'data/1ytc/'\n",
    "    pdb_file = os.path.join(data_path, '1ytc_fixed_mymd.pdb')\n",
    "    prmtop_file = os.path.join(data_path, '1ytc_fixed_mymd.prmtop')\n",
    "elif mode == 'benzamidine':\n",
    "    data_path = 'data/benzamidine_torchmd/'\n",
    "    pdb_file = os.path.join(data_path, 'structure.pdb')\n",
    "    prmtop_file = os.path.join(data_path, 'structure.prmtop')\n",
    "\n",
    "cutoff = 9\n",
    "box = np.array([20., 20., 20.])\n",
    "if mode == '1ytc':\n",
    "    box = np.array([200., 200., 200.])\n",
    "T = 300\n",
    "device = 'cpu'\n",
    "precision = torch.float\n",
    "use_centered = True"
   ]
  },
  {
   "cell_type": "code",
   "execution_count": 3,
   "metadata": {},
   "outputs": [
    {
     "name": "stderr",
     "output_type": "stream",
     "text": [
      "2023-05-28 16:11:24,614 - numexpr.utils - INFO - NumExpr defaulting to 8 threads.\n"
     ]
    }
   ],
   "source": [
    "mol = mymd.get_molecule(prmtop_file=prmtop_file, pdb_file=pdb_file)"
   ]
  },
  {
   "cell_type": "code",
   "execution_count": 4,
   "metadata": {},
   "outputs": [
    {
     "name": "stderr",
     "output_type": "stream",
     "text": [
      "2023-05-28 16:11:24,920 - parmed.structure - INFO - Adding bonds...\n",
      "2023-05-28 16:11:24,924 - parmed.structure - INFO - Adding angles...\n",
      "2023-05-28 16:11:24,928 - parmed.structure - INFO - Adding dihedrals...\n",
      "2023-05-28 16:11:24,938 - parmed.structure - INFO - Adding Ryckaert-Bellemans torsions...\n",
      "2023-05-28 16:11:24,939 - parmed.structure - INFO - Adding Urey-Bradleys...\n",
      "2023-05-28 16:11:24,939 - parmed.structure - INFO - Adding improper torsions...\n",
      "2023-05-28 16:11:24,940 - parmed.structure - INFO - Adding CMAP torsions...\n",
      "2023-05-28 16:11:24,940 - parmed.structure - INFO - Adding trigonal angle terms...\n",
      "2023-05-28 16:11:24,940 - parmed.structure - INFO - Adding out-of-plane bends...\n",
      "2023-05-28 16:11:24,941 - parmed.structure - INFO - Adding pi-torsions...\n",
      "2023-05-28 16:11:24,941 - parmed.structure - INFO - Adding stretch-bends...\n",
      "2023-05-28 16:11:24,942 - parmed.structure - INFO - Adding torsion-torsions...\n",
      "2023-05-28 16:11:24,942 - parmed.structure - INFO - Adding Nonbonded force...\n"
     ]
    },
    {
     "name": "stdout",
     "output_type": "stream",
     "text": [
      "wrong\n",
      "True\n"
     ]
    },
    {
     "data": {
      "text/plain": [
       "{'bond': 9562.422509858987,\n",
       " 'angle': 4642.425945566443,\n",
       " 'dihedral': 2021.953983926864,\n",
       " 'nonbonded': 1602.1205690577199,\n",
       " 'total': 17828.92417543021}"
      ]
     },
     "execution_count": 4,
     "metadata": {},
     "output_type": "execute_result"
    }
   ],
   "source": [
    "class MyAmberParameterSet(parmed.amber.AmberParameterSet):\n",
    "    \"\"\"Inherited from AmberParameterSet to modify from_structure method.\"\"\"\n",
    "\n",
    "    @classmethod\n",
    "    def my_from_structure(cls, struct):\n",
    "        return super(parmed.amber.AmberParameterSet, cls).from_structure(struct, allow_unequal_duplicates=True)\n",
    "\n",
    "\n",
    "structure = parmed.load_file(prmtop_file)\n",
    "try:\n",
    "    prm = parmed.amber.AmberParameterSet().from_structure(structure)\n",
    "except:\n",
    "    print('wrong')\n",
    "    prm = MyAmberParameterSet.my_from_structure(structure)\n",
    "print(isinstance(structure, parmed.amber.AmberParm))\n",
    "\n",
    "a = unit.Quantity((box[0] * unit.angstrom, 0 * unit.angstrom, 0 * unit.angstrom))\n",
    "b = unit.Quantity((0 * unit.angstrom, box[1] * unit.angstrom, 0 * unit.angstrom))\n",
    "c = unit.Quantity((0 * unit.angstrom, 0 * unit.angstrom, box[2] * unit.angstrom))\n",
    "structure.box_vectors = (a, b, c)\n",
    "\n",
    "\n",
    "def disableDispersionCorrection(system):\n",
    "    # According to openMM:\n",
    "    # The long range dispersion correction is primarily useful when running simulations at constant pressure, since it\n",
    "    # produces a more accurate variation in system energy with respect to volume.\n",
    "    # So I will disable it to avoid implementing it for now.\n",
    "    from openmm import NonbondedForce\n",
    "\n",
    "    for f in system.getForces():\n",
    "        if isinstance(f, NonbondedForce):\n",
    "            f.setUseDispersionCorrection(False)\n",
    "\n",
    "\n",
    "system = structure.createSystem(nonbondedMethod=app.CutoffPeriodic,\n",
    "                                nonbondedCutoff=cutoff * unit.angstrom,\n",
    "                                switchDistance=0)\n",
    "system.setDefaultPeriodicBoxVectors(a, b, c)\n",
    "disableDispersionCorrection(system)\n",
    "\n",
    "integrator = openmm.LangevinIntegrator(T * unit.kelvin, 1 / unit.picoseconds, 2 * unit.femtoseconds)\n",
    "platform = openmm.Platform.getPlatformByName('OpenCL')\n",
    "properties = dict()\n",
    "\n",
    "context = openmm.Context(system, integrator, platform, properties)\n",
    "context.setPositions(mol.coords * unit.angstrom)\n",
    "energies = parmed.openmm.energy_decomposition(structure, context)\n",
    "energies"
   ]
  },
  {
   "cell_type": "code",
   "execution_count": 5,
   "metadata": {},
   "outputs": [
    {
     "name": "stdout",
     "output_type": "stream",
     "text": [
      "False causes error, use True.\n",
      "{'bonds': 9543.9296875, 'angles': 4640.02392578125, 'dihedrals': 2241.162109375, 'impropers': 68.10431671142578, 'lj': 288.13677978515625, 'electrostatics': -1567.444091796875, 'external': 0.0}\n",
      "15213.912727355957\n"
     ]
    }
   ],
   "source": [
    "try:\n",
    "    ff = mymd.PrmtopMolForceField(mol, prmtop_file, allow_unequal_duplicates=False)\n",
    "except:\n",
    "    print('False causes error, use True.')\n",
    "    ff = mymd.PrmtopMolForceField(mol, prmtop_file, allow_unequal_duplicates=True)\n",
    "\n",
    "system = mymd.System(mol, ff, cutoff=cutoff)\n",
    "system.set_periodic_box_manual(box.reshape(3, 1))\n",
    "integrator = mymd.VelocityVerletIntegrator(2)\n",
    "\n",
    "simulation = mymd.Simulation(mol, system, integrator, device, precision, use_centered=use_centered)\n",
    "simulation.set_positions(mol.coords)\n",
    "simulation.set_velocities_to_temperature(T=T)\n",
    "simulation.update_potentials_and_forces()\n",
    "\n",
    "print(simulation.potentials)\n",
    "print(simulation.potentials_sum)"
   ]
  }
 ],
 "metadata": {
  "kernelspec": {
   "display_name": "temp",
   "language": "python",
   "name": "python3"
  },
  "language_info": {
   "codemirror_mode": {
    "name": "ipython",
    "version": 3
   },
   "file_extension": ".py",
   "mimetype": "text/x-python",
   "name": "python",
   "nbconvert_exporter": "python",
   "pygments_lexer": "ipython3",
   "version": "3.9.7"
  },
  "orig_nbformat": 4
 },
 "nbformat": 4,
 "nbformat_minor": 2
}
