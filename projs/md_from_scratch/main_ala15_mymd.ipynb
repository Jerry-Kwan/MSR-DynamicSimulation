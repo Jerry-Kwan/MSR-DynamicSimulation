{
 "cells": [
  {
   "cell_type": "code",
   "execution_count": null,
   "metadata": {},
   "outputs": [],
   "source": [
    "import os\n",
    "import numpy as np\n",
    "import torch\n",
    "import random\n",
    "import parmed\n",
    "import nglview as ng\n",
    "import MDAnalysis as md\n",
    "from MDAnalysis.analysis import dihedrals\n",
    "import matplotlib.pyplot as plt\n",
    "\n",
    "import mymd"
   ]
  },
  {
   "cell_type": "code",
   "execution_count": null,
   "metadata": {},
   "outputs": [],
   "source": [
    "seed = 99\n",
    "random.seed(seed)\n",
    "np.random.seed(seed)\n",
    "torch.manual_seed(seed)\n",
    "\n",
    "if torch.cuda.is_available():\n",
    "    torch.cuda.manual_seed(seed)\n",
    "    torch.backends.cudnn.deterministic = True\n",
    "    torch.backends.cudnn.benchmark = False"
   ]
  },
  {
   "cell_type": "code",
   "execution_count": null,
   "metadata": {},
   "outputs": [],
   "source": [
    "data_path = 'data/ala15/'\n",
    "csv_path = 'data/ala15/rslt/'\n",
    "dcd_path = 'data/ala15/rslt/'\n",
    "\n",
    "old_pdb_file = os.path.join(data_path, 'ala15.pdb')\n",
    "pdb_file = os.path.join(data_path, 'ala15_new.pdb')\n",
    "psf_file = os.path.join(data_path, 'ala15.psf')\n",
    "prmtop_file = os.path.join(data_path, 'ala15.prmtop')\n",
    "coor_file = None\n",
    "xsc_file = None\n",
    "\n",
    "cutoff = None\n",
    "T = 300.15\n",
    "dt_fs = 2\n",
    "dcd_interval = 100\n",
    "csv_interval = 50\n",
    "steps = 50000\n",
    "min_energy_max_iter = 100\n",
    "box_size = 100  # can not be too small, e.g. 20 do not work, 100 is good\n",
    "device = 'cpu'\n",
    "precision = torch.float\n",
    "use_centered = True"
   ]
  },
  {
   "cell_type": "code",
   "execution_count": null,
   "metadata": {},
   "outputs": [],
   "source": [
    "# mymd.gen_files_from_pdb(old_pdb_file=old_pdb_file,\n",
    "#                         psf_file=psf_file,\n",
    "#                         prmtop_file=prmtop_file,\n",
    "#                         new_pdb_file=pdb_file)"
   ]
  },
  {
   "cell_type": "code",
   "execution_count": null,
   "metadata": {},
   "outputs": [],
   "source": [
    "mol = mymd.get_molecule(prmtop_file=prmtop_file, pdb_file=pdb_file, coor_file=coor_file, xsc_file=xsc_file)\n",
    "\n",
    "print('---coords---')\n",
    "print(mol.coords[:2])\n",
    "print('-----box-----')\n",
    "print(mol.box)\n",
    "print('---charge---')\n",
    "print(mol.charge[:3])\n",
    "print('---masses---')\n",
    "print(mol.masses[:3])\n",
    "print('----bonds----')\n",
    "print(mol.bonds[:4])\n",
    "print('---bonds.shape---')\n",
    "print(mol.bonds.shape)"
   ]
  },
  {
   "cell_type": "code",
   "execution_count": null,
   "metadata": {},
   "outputs": [],
   "source": [
    "try:\n",
    "    ff = mymd.PrmtopMolForceField(mol, prmtop_file, allow_unequal_duplicates=False)\n",
    "except:\n",
    "    print('False causes error, use True.')\n",
    "    ff = mymd.PrmtopMolForceField(mol, prmtop_file, allow_unequal_duplicates=True)\n",
    "\n",
    "print(ff.mol.atomtype[:10])\n",
    "print(ff.mol.charge[:10])  # same atomtype can have different charge ('C1')\n",
    "print(set(ff.mol.atomtype))\n",
    "print(set(ff.params.atom_types))"
   ]
  },
  {
   "cell_type": "code",
   "execution_count": null,
   "metadata": {},
   "outputs": [],
   "source": [
    "system = mymd.System(mol, ff, cutoff=cutoff)\n",
    "system.set_periodic_box_manual(np.array([box_size, box_size, box_size]).reshape(3, 1))\n",
    "\n",
    "print(system.bond_params[:5])\n",
    "print(system.improper_params[0]['params'][:5])\n",
    "print(system.uni_atom_types == np.unique(mol.atomtype))\n",
    "print(system.uni_atom_types[system.mapped_atom_types[:6]] == mol.atomtype[:6])\n",
    "print(system.box, mol.box)\n",
    "print(system.cutoff)\n",
    "print(system.external)\n",
    "print(np.array(system.get_exclusions(types=['bonds']))[:3])\n",
    "print(np.all(np.vstack((np.array(system.bonds), np.array(system.angles[:, [0, 2]]))) == np.array(system.get_exclusions(types=['bonds', 'angles']))))"
   ]
  },
  {
   "cell_type": "code",
   "execution_count": null,
   "metadata": {},
   "outputs": [],
   "source": [
    "integrator = mymd.VelocityVerletIntegrator(dt_fs)\n",
    "print(integrator.dt, integrator.dt_fs)"
   ]
  },
  {
   "cell_type": "code",
   "execution_count": null,
   "metadata": {},
   "outputs": [],
   "source": [
    "simulation = mymd.Simulation(mol, system, integrator, device, precision, use_centered=use_centered)\n",
    "simulation.set_positions(mol.coords)\n",
    "simulation.set_velocities_to_temperature(T=T)\n",
    "simulation.update_potentials_and_forces()\n",
    "\n",
    "csv_reporter = mymd.CSVReporter(csv_path, csv_interval)\n",
    "simulation.add_reporter(csv_reporter)\n",
    "\n",
    "print(torch.abs(simulation.vel).mean())\n",
    "print(simulation.forces.shape)\n",
    "print(simulation.forces[:5])\n",
    "print(simulation.forces[-3:])\n",
    "print(simulation.potentials)\n",
    "print(simulation.potentials_sum)"
   ]
  },
  {
   "cell_type": "code",
   "execution_count": null,
   "metadata": {},
   "outputs": [],
   "source": [
    "print(simulation.pos[:5])\n",
    "simulation.minimize_energy(min_energy_max_iter)\n",
    "print(simulation.pos[:5])\n",
    "\n",
    "print(simulation.forces[:5])\n",
    "print(simulation.potentials)\n",
    "print(simulation.potentials_sum)"
   ]
  },
  {
   "cell_type": "code",
   "execution_count": null,
   "metadata": {},
   "outputs": [],
   "source": [
    "simulation.step(steps, dcd_path, dcd_interval)"
   ]
  },
  {
   "cell_type": "code",
   "execution_count": null,
   "metadata": {},
   "outputs": [],
   "source": [
    "u = md.Universe(psf_file, os.path.join(dcd_path, 'traj.dcd'))\n",
    "# u = md.Universe(psf_file, os.path.join('data/ala15/rslt_in_report/', 'traj.dcd'))\n",
    "ng.show_mdanalysis(u, gui=True)"
   ]
  },
  {
   "cell_type": "code",
   "execution_count": null,
   "metadata": {},
   "outputs": [],
   "source": [
    "N_terminus = u.select_atoms('resid 1 and name N')\n",
    "C_terminus = u.select_atoms('resid 5 and name C')\n",
    "\n",
    "# go through the whole trajectory and compute distance between them for every frame\n",
    "dist = []\n",
    "for frame in u.trajectory:\n",
    "    dist.append(np.linalg.norm(N_terminus.positions - C_terminus.positions))\n",
    "\n",
    "# the result is in the dist array    \n",
    "dist = np.array(dist)\n",
    "plt.figure(figsize=(15,5))\n",
    "\n",
    "plt.plot(dist, '-k' )\n",
    "plt.xlabel('timesteps')\n",
    "plt.ylabel('end-to-end distance, A')\n",
    "\n",
    "plt.show()"
   ]
  },
  {
   "cell_type": "code",
   "execution_count": null,
   "metadata": {},
   "outputs": [],
   "source": [
    "ram1 = dihedrals.Ramachandran(u).run(0, 100) \n",
    "ram_mid = dihedrals.Ramachandran(u).run(200, 300)\n",
    "ram2 = dihedrals.Ramachandran(u).run(400, 500)  # maybe not include the last snapshot\n",
    "\n",
    "# ramachandran plot\n",
    "fig, ax = plt.subplots(figsize=(8,8))\n",
    "ram1.plot(ax=ax, color='r', marker='.', label='first 100 snapshots')\n",
    "ram_mid.plot(ax=ax, color='g', marker='.', label='middle 100 snapshots')\n",
    "ram2.plot(ax=ax, color='b', marker='.', label='last 100 snapshots')\n",
    "ax.arrow(20, 20, -40, -40, width=2, head_width=8, head_length=12, fc='b', ec='b')\n",
    "ax.text(30, 20, 'alpha region', color='blue', fontsize=20)\n",
    "ax.arrow(20, 150, -40, 0, width=2, head_width=8, head_length=12, fc='k', ec='k')\n",
    "ax.text(30, 150, 'beta region', fontsize=20)\n",
    "plt.legend()\n",
    "plt.show()"
   ]
  }
 ],
 "metadata": {
  "kernelspec": {
   "display_name": "temp",
   "language": "python",
   "name": "python3"
  },
  "language_info": {
   "codemirror_mode": {
    "name": "ipython",
    "version": 3
   },
   "file_extension": ".py",
   "mimetype": "text/x-python",
   "name": "python",
   "nbconvert_exporter": "python",
   "pygments_lexer": "ipython3",
   "version": "3.9.7"
  },
  "orig_nbformat": 4
 },
 "nbformat": 4,
 "nbformat_minor": 2
}
