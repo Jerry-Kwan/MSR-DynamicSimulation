{
 "cells": [
  {
   "attachments": {},
   "cell_type": "markdown",
   "metadata": {},
   "source": [
    "**This file is only used to compare the result of mymd with that of torchmd.**"
   ]
  },
  {
   "cell_type": "code",
   "execution_count": 1,
   "metadata": {},
   "outputs": [
    {
     "data": {
      "application/vnd.jupyter.widget-view+json": {
       "model_id": "540c2099c4f6451aa3d520401f1c99ea",
       "version_major": 2,
       "version_minor": 0
      },
      "text/plain": []
     },
     "metadata": {},
     "output_type": "display_data"
    }
   ],
   "source": [
    "import os\n",
    "import numpy as np\n",
    "import torch\n",
    "import random\n",
    "import parmed\n",
    "import nglview as ng\n",
    "import MDAnalysis as md\n",
    "from MDAnalysis.analysis import dihedrals\n",
    "import matplotlib.pyplot as plt\n",
    "\n",
    "import mymd"
   ]
  },
  {
   "cell_type": "code",
   "execution_count": 2,
   "metadata": {},
   "outputs": [
    {
     "data": {
      "text/plain": [
       "<torch._C.Generator at 0x10b06cf10>"
      ]
     },
     "execution_count": 2,
     "metadata": {},
     "output_type": "execute_result"
    }
   ],
   "source": [
    "seed = 1\n",
    "random.seed(seed)\n",
    "np.random.seed(seed)\n",
    "torch.manual_seed(seed)"
   ]
  },
  {
   "cell_type": "code",
   "execution_count": 3,
   "metadata": {},
   "outputs": [],
   "source": [
    "data_path = 'data/prod_alanine_dipeptide_amber_torchmd/'\n",
    "\n",
    "prmtop_file = os.path.join(data_path, 'structure.prmtop')\n",
    "pdb_file = os.path.join(data_path, 'structure.pdb')\n",
    "coor_file = os.path.join(data_path, 'input.coor')\n",
    "xsc_file = os.path.join(data_path, 'input.xsc')\n",
    "\n",
    "cutoff = 9\n",
    "T = 300\n",
    "min_energy_max_iter = 100\n",
    "device = 'cpu'\n",
    "precision = torch.float"
   ]
  },
  {
   "cell_type": "code",
   "execution_count": 4,
   "metadata": {},
   "outputs": [
    {
     "data": {
      "application/vnd.jupyter.widget-view+json": {
       "model_id": "2ae4bb828186417c8260863f67fe7810",
       "version_major": 2,
       "version_minor": 0
      },
      "text/plain": [
       "NGLWidget()"
      ]
     },
     "metadata": {},
     "output_type": "display_data"
    },
    {
     "data": {
      "application/vnd.jupyter.widget-view+json": {
       "model_id": "ec625a920e51475e9aff0864197989a2",
       "version_major": 2,
       "version_minor": 0
      },
      "text/plain": [
       "Tab(children=(Box(children=(Box(children=(Box(children=(Label(value='step'), IntSlider(value=1, min=-100)), la…"
      ]
     },
     "metadata": {},
     "output_type": "display_data"
    }
   ],
   "source": [
    "u = md.Universe(pdb_file)\n",
    "ng.show_mdanalysis(u, gui=True)"
   ]
  },
  {
   "cell_type": "code",
   "execution_count": 5,
   "metadata": {},
   "outputs": [
    {
     "name": "stdout",
     "output_type": "stream",
     "text": [
      "---coords---\n",
      "[[[ 8.487608 ]\n",
      "  [ 8.890593 ]\n",
      "  [13.186471 ]]\n",
      "\n",
      " [[ 8.638412 ]\n",
      "  [ 9.8404045]\n",
      "  [12.673427 ]]]\n",
      "-----box-----\n",
      "[[19.83881]\n",
      " [19.6193 ]\n",
      " [19.6342 ]]\n",
      "---charge---\n",
      "[ 0.1123 -0.3662  0.1123]\n",
      "---masses---\n",
      "[ 1.008 12.01   1.008]\n",
      "----bonds----\n",
      "[[ 1  2]\n",
      " [ 1  3]\n",
      " [ 0  1]\n",
      " [10 11]]\n",
      "---bonds.shape---\n",
      "(687, 2)\n"
     ]
    }
   ],
   "source": [
    "mol = mymd.get_molecule(prmtop_file=prmtop_file, coor_file=coor_file, xsc_file=xsc_file)\n",
    "\n",
    "print('---coords---')\n",
    "print(mol.coords[:2])\n",
    "print('-----box-----')\n",
    "print(mol.box)\n",
    "print('---charge---')\n",
    "print(mol.charge[:3])\n",
    "print('---masses---')\n",
    "print(mol.masses[:3])\n",
    "print('----bonds----')\n",
    "print(mol.bonds[:4])\n",
    "print('---bonds.shape---')\n",
    "print(mol.bonds.shape)"
   ]
  },
  {
   "cell_type": "code",
   "execution_count": 6,
   "metadata": {},
   "outputs": [
    {
     "name": "stdout",
     "output_type": "stream",
     "text": [
      "['HC' 'CT' 'HC' 'HC' 'C' 'O' 'N' 'H' 'CX' 'H1']\n",
      "[ 0.1123 -0.3662  0.1123  0.1123  0.5972 -0.5679 -0.4157  0.2719  0.0337\n",
      "  0.0823]\n",
      "{'HC', 'H', 'O', 'CT', 'OW', 'CX', 'HW', 'C', 'H1', 'N'}\n",
      "{'HC', 'H', 'O', 'CT', 'OW', 'CX', 'HW', 'C', 'H1', 'N'}\n"
     ]
    }
   ],
   "source": [
    "try:\n",
    "    ff = mymd.PrmtopMolForceField(mol, prmtop_file, allow_unequal_duplicates=False)\n",
    "except:\n",
    "    print('False causes error, use True.')\n",
    "    ff = mymd.PrmtopMolForceField(mol, prmtop_file, allow_unequal_duplicates=True)\n",
    "\n",
    "print(ff.mol.atomtype[:10])\n",
    "print(ff.mol.charge[:10])\n",
    "print(set(ff.mol.atomtype))\n",
    "print(set(ff.params.atom_types))"
   ]
  },
  {
   "cell_type": "code",
   "execution_count": 7,
   "metadata": {},
   "outputs": [
    {
     "name": "stdout",
     "output_type": "stream",
     "text": [
      "tensor([[340.0000,   1.0900],\n",
      "        [340.0000,   1.0900],\n",
      "        [340.0000,   1.0900],\n",
      "        [317.0000,   1.5220],\n",
      "        [570.0000,   1.2290]])\n",
      "tensor([[10.5000,  3.1416,  2.0000],\n",
      "        [ 1.1000,  3.1416,  2.0000],\n",
      "        [10.5000,  3.1416,  2.0000],\n",
      "        [ 1.1000,  3.1416,  2.0000]])\n",
      "[ True  True  True  True  True  True  True  True  True  True]\n",
      "[ True  True  True  True  True  True]\n",
      "tensor([19.8388, 19.6193, 19.6342]) [[19.83881]\n",
      " [19.6193 ]\n",
      " [19.6342 ]]\n",
      "9\n",
      "None\n",
      "[[0 1]\n",
      " [1 2]\n",
      " [1 3]]\n",
      "True\n"
     ]
    }
   ],
   "source": [
    "system = mymd.System(mol, ff, cutoff=cutoff)\n",
    "\n",
    "print(system.bond_params[:5])\n",
    "print(system.improper_params[0]['params'][:5])\n",
    "print(system.uni_atom_types == np.unique(mol.atomtype))\n",
    "print(system.uni_atom_types[system.mapped_atom_types[:6]] == mol.atomtype[:6])\n",
    "print(system.box, mol.box)\n",
    "print(system.cutoff)\n",
    "print(system.external)\n",
    "print(np.array(system.get_exclusions(types=['bonds']))[:3])\n",
    "print(np.all(np.vstack((np.array(system.bonds), np.array(system.angles[:, [0, 2]]))) == np.array(system.get_exclusions(types=['bonds', 'angles']))))"
   ]
  },
  {
   "cell_type": "code",
   "execution_count": 8,
   "metadata": {},
   "outputs": [
    {
     "name": "stdout",
     "output_type": "stream",
     "text": [
      "0.02045482949774598 1\n"
     ]
    }
   ],
   "source": [
    "integrator = mymd.VelocityVerletIntegrator(1)\n",
    "print(integrator.dt, integrator.dt_fs)"
   ]
  },
  {
   "cell_type": "code",
   "execution_count": 9,
   "metadata": {},
   "outputs": [
    {
     "name": "stdout",
     "output_type": "stream",
     "text": [
      "tensor(0.4706)\n",
      "torch.Size([688, 3])\n",
      "tensor([[  2.1204,   1.6945,   3.8852],\n",
      "        [-14.4477, -15.9356,   2.9400],\n",
      "        [  2.2896,   2.8798,  -3.1538],\n",
      "        [  1.4504,   9.1638,  -0.7600],\n",
      "        [-16.9996,  23.9501, -24.9862]])\n",
      "tensor([[-28.8178,   7.0773,  34.4423],\n",
      "        [  1.8655,  -8.3980, -16.7160],\n",
      "        [ 20.7306,  -3.3352,  -9.9856]])\n",
      "{'bonds': 3.957749366760254, 'angles': 2.8445701599121094, 'dihedrals': 10.579872131347656, 'impropers': 1.2417112588882446, 'lj': 358.54205322265625, 'electrostatics': -2686.371337890625}\n",
      "-2309.2053817510605\n"
     ]
    }
   ],
   "source": [
    "simulation = mymd.Simulation(mol, system, integrator, device, precision)\n",
    "simulation.set_positions(mol.coords)\n",
    "simulation.set_velocities_to_temperature(T=T)\n",
    "simulation.update_potentials_and_forces()\n",
    "\n",
    "print(torch.abs(simulation.vel).mean())\n",
    "print(simulation.forces.shape)\n",
    "\n",
    "# compared with torchmd (in its github repo, examples/tutorial.ipynb)\n",
    "# need some modifications in its code:\n",
    "# forces = Forces(parameters, cutoff=9, rfa=False, switch_dist=None, terms=[\"bonds\", \"angles\", \"dihedrals\", \"impropers\", \"electrostatics\", \"lj\"], exclusions=('bonds', 'angles'))\n",
    "print(simulation.forces[:5])\n",
    "print(simulation.forces[-3:])\n",
    "print(simulation.potentials)\n",
    "print(simulation.potentials_sum)"
   ]
  },
  {
   "cell_type": "code",
   "execution_count": 10,
   "metadata": {},
   "outputs": [
    {
     "name": "stdout",
     "output_type": "stream",
     "text": [
      "tensor([[ 8.4876,  8.8906, 13.1865],\n",
      "        [ 8.6384,  9.8404, 12.6734],\n",
      "        [ 8.3185, 10.6384, 13.3434],\n",
      "        [ 8.0228,  9.7510, 11.7783],\n",
      "        [10.0775,  9.9498, 12.2872]])\n",
      "num_fun_eval\tE_pot    \tnorm_F_max\trms      \tmax_abs_f_1d\n",
      "     0      \t-2309.205382\t64.178003\t14.611752\t62.617146\n",
      "     1      \t-1631.939162\t160.349691\t37.092344\t130.381134\n",
      "     2      \t-2561.768508\t42.287161\t9.231950\t41.672520\n",
      "     3      \t-2339.988267\t25.866915\t5.810489\t23.489002\n",
      "     4      \t-2529.503574\t39.209721\t8.682197\t38.655632\n",
      "     5      \t-2543.182295\t42.131685\t9.202882\t41.520260\n",
      "     6      \t-2561.771691\t42.286224\t9.231783\t41.671604\n",
      "     7      \t-2530.127932\t42.183849\t9.211232\t41.571285\n",
      "     8      \t-2561.773317\t42.285812\t9.231745\t41.671238\n",
      "     9      \t-2561.773656\t42.285812\t9.231732\t41.671238\n",
      "     10     \t-2561.989436\t42.235690\t9.222435\t41.622070\n",
      "     11     \t-2530.055249\t42.201907\t9.214392\t41.588936\n",
      "     12     \t-2561.989464\t42.235690\t9.222433\t41.622070\n",
      "     13     \t-2536.421184\t42.212627\t9.217343\t41.599491\n",
      "     14     \t-2561.989939\t42.235690\t9.222431\t41.622070\n",
      "     15     \t-2561.989939\t42.235690\t9.222431\t41.622070\n",
      "     16     \t-2536.373994\t42.224219\t9.219361\t41.610828\n",
      "     17     \t-2561.989939\t42.235690\t9.222431\t41.622070\n",
      "     18     \t-2561.989934\t42.235125\t9.222428\t41.621574\n",
      "     19     \t-2561.989939\t42.235690\t9.222431\t41.622070\n",
      "     20     \t-2079.572963\t22.895132\t4.893567\t17.182976\n",
      "     21     \t-2443.876591\t38.849506\t8.576294\t38.264366\n",
      "     22     \t-2543.149714\t42.159223\t9.207171\t41.546482\n",
      "     23     \t-2536.328374\t42.234171\t9.221346\t41.620632\n",
      "     24     \t-2561.989939\t42.235690\t9.222431\t41.622070\n",
      "     25     \t-2561.989939\t42.235690\t9.222431\t41.622070\n",
      "     26     \t-2561.989939\t42.235690\t9.222431\t41.622070\n",
      "     27     \t-2561.989939\t42.235690\t9.222431\t41.622070\n",
      "     28     \t-2561.989939\t42.235690\t9.222431\t41.622070\n",
      "     29     \t-2561.989939\t42.235690\t9.222431\t41.622070\n",
      "     30     \t-2561.989939\t42.235690\t9.222431\t41.622070\n",
      "     31     \t-2561.989939\t42.235690\t9.222431\t41.622070\n",
      "tensor([[ 8.4882,  8.8910, 13.1875],\n",
      "        [ 8.6347,  9.8363, 12.6742],\n",
      "        [ 8.3191, 10.6392, 13.3426],\n",
      "        [ 8.0232,  9.7533, 11.7781],\n",
      "        [10.0732,  9.9560, 12.2808]])\n",
      "tensor([[  1.7206,  -1.0589,   4.9590],\n",
      "        [-11.0344,  -7.5046,   1.8536],\n",
      "        [  1.8685,   1.7439,  -3.5410],\n",
      "        [  0.1614,   8.6510,  -1.0664],\n",
      "        [ -4.7462,  -0.9472, -17.4423]])\n",
      "{'bonds': 28.386192321777344, 'angles': 2.778073787689209, 'dihedrals': 10.445865631103516, 'impropers': 1.0824850797653198, 'lj': 352.61480712890625, 'electrostatics': -2957.29736328125}\n",
      "-2561.9899393320084\n"
     ]
    }
   ],
   "source": [
    "# compared with torchmd (in its github repo, examples/tutorial.ipynb)\n",
    "# need to use the modification of code mentioned in the previous block\n",
    "print(simulation.pos[:5])\n",
    "simulation.minimize_energy(min_energy_max_iter)\n",
    "print(simulation.pos[:5])\n",
    "\n",
    "print(simulation.forces[:5])\n",
    "print(simulation.potentials)\n",
    "print(simulation.potentials_sum)"
   ]
  }
 ],
 "metadata": {
  "kernelspec": {
   "display_name": "temp",
   "language": "python",
   "name": "python3"
  },
  "language_info": {
   "codemirror_mode": {
    "name": "ipython",
    "version": 3
   },
   "file_extension": ".py",
   "mimetype": "text/x-python",
   "name": "python",
   "nbconvert_exporter": "python",
   "pygments_lexer": "ipython3",
   "version": "3.9.7"
  },
  "orig_nbformat": 4
 },
 "nbformat": 4,
 "nbformat_minor": 2
}
