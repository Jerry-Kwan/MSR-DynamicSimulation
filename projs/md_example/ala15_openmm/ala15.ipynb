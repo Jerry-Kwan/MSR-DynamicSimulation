{
 "cells": [
  {
   "cell_type": "code",
   "execution_count": null,
   "metadata": {},
   "outputs": [],
   "source": [
    "import os\n",
    "from openmm import Platform, LangevinMiddleIntegrator, XmlSerializer\n",
    "import openmm.app as app\n",
    "from openmm.unit import picosecond, kelvin\n",
    "import parmed\n",
    "import MDAnalysis as md\n",
    "from MDAnalysis.analysis import dihedrals\n",
    "import nglview as ng\n",
    "import numpy as np\n",
    "import matplotlib.pyplot as plt\n",
    "import sys"
   ]
  },
  {
   "cell_type": "code",
   "execution_count": null,
   "metadata": {},
   "outputs": [],
   "source": [
    "data_path = 'data/'"
   ]
  },
  {
   "cell_type": "code",
   "execution_count": null,
   "metadata": {},
   "outputs": [],
   "source": [
    "# Input and options\n",
    "pdbfile = 'ala15.pdb'\n",
    "psffile = 'ala15.psf'\n",
    "pdb = app.PDBFile(os.path.join(data_path, pdbfile))\n",
    "print(pdb.topology)\n",
    "\n",
    "# 感觉用 amber14/protein.ff14SB.xml 似乎会更好\n",
    "# 但实际上看过 amber14-all 就知道它包含了 amber14/protein.ff14SB.xml\n",
    "forcefield = app.ForceField('amber14-all.xml')\n",
    "\n",
    "nonbondedMethod = app.NoCutoff\n",
    "constraints = None\n",
    "rigidWater = False\n",
    "\n",
    "dt = 0.002*picosecond\n",
    "temperature = 300.15*kelvin\n",
    "friction = 1/picosecond\n",
    "\n",
    "steps = 50000\n",
    "logInterval = 100\n",
    "platform = Platform.getPlatformByName('OpenCL')\n",
    "# platform = Platform.getPlatformByName('CPU')\n",
    "# platformProperties = {'Precision': 'mixed'} # use this for CUDA\n",
    "platformProperties = dict() # use this for CPU"
   ]
  },
  {
   "cell_type": "code",
   "execution_count": null,
   "metadata": {},
   "outputs": [],
   "source": [
    "# Prepare the Simulation\n",
    "print('Building system...')\n",
    "topology = pdb.topology\n",
    "print(topology.getPeriodicBoxVectors())\n",
    "positions = pdb.positions\n",
    "system = forcefield.createSystem(topology, nonbondedMethod=nonbondedMethod, constraints=constraints, rigidWater=rigidWater)\n",
    "print(system.getDefaultPeriodicBoxVectors())\n",
    "print(system.getForce(0))\n",
    "print(system.getForce(1))\n",
    "print(system.getForce(2))\n",
    "print(dir(system.getForce(0)))\n",
    "print(system.getForce(0).getBondParameters(0))\n",
    "\n",
    "# modified by jk\n",
    "# from openmm import unit\n",
    "# edge = 1e20 * unit.nanometers\n",
    "# system.setDefaultPeriodicBoxVectors([edge,0,0], [0,edge,0], [0,0,edge])\n",
    "# print(system.getDefaultPeriodicBoxVectors())\n",
    "\n",
    "# save the system\n",
    "integrator = LangevinMiddleIntegrator(temperature, friction, dt)\n",
    "simulation = app.Simulation(topology, system, integrator, platform, platformProperties)\n",
    "# save the topology and the contex\n",
    "simulation.context.setPositions(positions)\n",
    "simulation.context.setVelocitiesToTemperature(temperature, 2023)\n",
    "\n",
    "# save psf file for future visualization\n",
    "parmed_structure = parmed.openmm.load_topology(topology, system, positions)\n",
    "parmed_structure.save(os.path.join(data_path, psffile), overwrite=True)"
   ]
  },
  {
   "cell_type": "code",
   "execution_count": null,
   "metadata": {},
   "outputs": [],
   "source": [
    "with open(os.path.join(data_path, 'state_before_min.xml'), 'w') as f:\n",
    "    f.write(\n",
    "        XmlSerializer.serialize(\n",
    "            simulation.context.getState(getPositions=True,\n",
    "                                        getVelocities=True,\n",
    "                                        getForces=True,\n",
    "                                        getEnergy=True,\n",
    "                                        getParameters=True,\n",
    "                                        getParameterDerivatives=True,\n",
    "                                        getIntegratorParameters=True,\n",
    "                                        enforcePeriodicBox=True)))"
   ]
  },
  {
   "cell_type": "code",
   "execution_count": null,
   "metadata": {},
   "outputs": [],
   "source": [
    "# Minimize\n",
    "print(\"\\nInitial system energy\")\n",
    "print(simulation.context.getState(getEnergy=True).getPotentialEnergy())\n",
    "print('Performing energy minimization...')\n",
    "simulation.minimizeEnergy()\n",
    "print(\"\\nMinimized system energy\")\n",
    "print(simulation.context.getState(getEnergy=True).getPotentialEnergy())"
   ]
  },
  {
   "cell_type": "code",
   "execution_count": null,
   "metadata": {},
   "outputs": [],
   "source": [
    "# save file for future use\n",
    "with open(os.path.join(data_path, 'system.xml'), 'w') as f:\n",
    "    f.write(XmlSerializer.serialize(system))\n",
    "with open(os.path.join(data_path, 'state.xml'), 'w') as f:\n",
    "    f.write(XmlSerializer.serialize(\n",
    "            simulation.context.getState(\n",
    "            getPositions=True, getVelocities=True, getForces=True, \n",
    "            getEnergy=True, getParameters=True, getParameterDerivatives=True, \n",
    "            getIntegratorParameters=True, enforcePeriodicBox=True)))"
   ]
  },
  {
   "cell_type": "code",
   "execution_count": null,
   "metadata": {},
   "outputs": [],
   "source": [
    "# topology from pdbfile, system and state from xml\n",
    "# use the following code to load simulation to run\n",
    "\n",
    "# integrator = LangevinMiddleIntegrator(temperature, friction, dt)\n",
    "# system = XmlSerializer.deserialize(open('system.xml').read())\n",
    "# simulation = app.Simulation(topology, system, integrator, platform, platformProperties)\n",
    "# simulation.context.setState(XmlSerializer.deserialize(open('state.xml').read()))"
   ]
  },
  {
   "cell_type": "code",
   "execution_count": null,
   "metadata": {},
   "outputs": [],
   "source": [
    "print('Simulating...')\n",
    "simulation.currentStep = 0\n",
    "dcdReporter = app.DCDReporter(os.path.join(data_path, 'traj-nocutoff.dcd'), logInterval)\n",
    "dataReporter = app.StateDataReporter(os.path.join(data_path, 'traj-nocutoff.log'), logInterval, totalSteps=steps,\n",
    "    step=True, time=True, speed=True, progress=True, elapsedTime=True, remainingTime=True, potentialEnergy=True, temperature=True, separator='\\t')\n",
    "stdoutReporter = app.StateDataReporter(sys.stdout, logInterval*10, totalSteps=steps,\n",
    "    step=True, time=True, speed=True, progress=True, elapsedTime=True, remainingTime=True, potentialEnergy=True, temperature=True, separator='\\t')\n",
    "simulation.reporters.append(dataReporter)\n",
    "simulation.reporters.append(stdoutReporter)\n",
    "simulation.reporters.append(dcdReporter)\n",
    "simulation.step(steps)\n",
    "\n",
    "# Write file with final simulation state\n",
    "simulation.saveState(os.path.join(data_path, 'final_state_nocutoff.xml'))"
   ]
  },
  {
   "cell_type": "code",
   "execution_count": null,
   "metadata": {},
   "outputs": [],
   "source": [
    "u = md.Universe(os.path.join(data_path, psffile), os.path.join(data_path, 'traj-nocutoff.dcd'))\n",
    "ng.show_mdanalysis(u, gui=True)"
   ]
  },
  {
   "cell_type": "code",
   "execution_count": null,
   "metadata": {},
   "outputs": [],
   "source": [
    "N_terminus = u.select_atoms('resid 1 and name N')\n",
    "C_terminus = u.select_atoms('resid 5 and name C')\n",
    "\n",
    "## go through the whole trajectory and compute distance between them for every frame\n",
    "dist = []\n",
    "for frame in u.trajectory:\n",
    "    dist.append(np.linalg.norm(N_terminus.positions - C_terminus.positions))\n",
    "\n",
    "## the result is in the dist array    \n",
    "dist = np.array(dist)\n",
    "plt.figure(figsize=(15,5))\n",
    "\n",
    "plt.plot( dist, '-k' )\n",
    "plt.xlabel('timesteps')\n",
    "plt.ylabel('end-to-end distance, A')\n",
    "\n",
    "plt.show()\n"
   ]
  },
  {
   "cell_type": "code",
   "execution_count": null,
   "metadata": {},
   "outputs": [],
   "source": [
    "ram1 = dihedrals.Ramachandran(u).run(0, 100) \n",
    "ram_mid = dihedrals.Ramachandran(u).run(200, 300)\n",
    "ram2 = dihedrals.Ramachandran(u).run(400, 500) \n",
    "\n",
    "## ramachandran plot\n",
    "fig, ax = plt.subplots(figsize=(8,8))\n",
    "ram1.plot(ax=ax, color='r', marker='.', label='first 100 snapshots')\n",
    "ram_mid.plot(ax=ax, color='g', marker='.', label='middle 100 snapshots')\n",
    "ram2.plot(ax=ax, color='b', marker='.', label='last 100 snapshots')\n",
    "ax.arrow(20, 20, -40, -40, width=2, head_width=8, head_length=12, fc='b', ec='b')\n",
    "ax.text(30, 20, 'alpha region', color='blue', fontsize=20)\n",
    "ax.arrow(20, 150, -40, 0, width=2, head_width=8, head_length=12, fc='k', ec='k')\n",
    "ax.text(30, 150, 'beta region', fontsize=20)\n",
    "plt.legend()\n",
    "plt.show()"
   ]
  }
 ],
 "metadata": {
  "kernelspec": {
   "display_name": "md",
   "language": "python",
   "name": "python3"
  },
  "language_info": {
   "codemirror_mode": {
    "name": "ipython",
    "version": 3
   },
   "file_extension": ".py",
   "mimetype": "text/x-python",
   "name": "python",
   "nbconvert_exporter": "python",
   "pygments_lexer": "ipython3",
   "version": "3.9.7"
  },
  "orig_nbformat": 4
 },
 "nbformat": 4,
 "nbformat_minor": 2
}
