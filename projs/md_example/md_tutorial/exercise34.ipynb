{
 "cells": [
  {
   "cell_type": "code",
   "execution_count": 1,
   "metadata": {},
   "outputs": [
    {
     "data": {
      "application/vnd.jupyter.widget-view+json": {
       "model_id": "81e3a6da709147ccaaf37166037ce34a",
       "version_major": 2,
       "version_minor": 0
      },
      "text/plain": []
     },
     "metadata": {},
     "output_type": "display_data"
    }
   ],
   "source": [
    "from openmm.app import *\n",
    "from openmm import *\n",
    "from simtk.unit import *\n",
    "import MDAnalysis as md\n",
    "import nglview as ng\n",
    "from sys import stdout\n",
    "import numpy as np\n",
    "import matplotlib.pyplot as plt"
   ]
  },
  {
   "cell_type": "code",
   "execution_count": 2,
   "metadata": {},
   "outputs": [],
   "source": [
    "pdb0_file = 'data/villin_water.pdb'\n",
    "pdb1_file = 'data/polyALA.pdb'\n",
    "pdb2_file = 'data/polyGLY.pdb'\n",
    "pdb3_file = 'data/polyGV.pdb'"
   ]
  },
  {
   "cell_type": "code",
   "execution_count": 3,
   "metadata": {},
   "outputs": [
    {
     "data": {
      "application/vnd.jupyter.widget-view+json": {
       "model_id": "8cf19d8c3e194fff9576618bdf58e2aa",
       "version_major": 2,
       "version_minor": 0
      },
      "text/plain": [
       "NGLWidget()"
      ]
     },
     "metadata": {},
     "output_type": "display_data"
    },
    {
     "data": {
      "application/vnd.jupyter.widget-view+json": {
       "model_id": "14a00892c05b413fa18a651251899740",
       "version_major": 2,
       "version_minor": 0
      },
      "text/plain": [
       "Tab(children=(Box(children=(Box(children=(Box(children=(Label(value='step'), IntSlider(value=1, min=-100)), la…"
      ]
     },
     "metadata": {},
     "output_type": "display_data"
    }
   ],
   "source": [
    "# show original polyGLY\n",
    "ng.show_mdanalysis(md.Universe(pdb2_file), gui=True)"
   ]
  },
  {
   "cell_type": "code",
   "execution_count": 4,
   "metadata": {},
   "outputs": [
    {
     "name": "stdout",
     "output_type": "stream",
     "text": [
      "#\"Progress (%)\",\"Step\",\"Potential Energy (kJ/mole)\",\"Temperature (K)\"\n",
      "1.0%,5000,3413.596923828125,106.69677978762348\n",
      "2.0%,10000,3411.552978515625,95.02973325969229\n",
      "3.0%,15000,3423.279296875,99.72601983775043\n",
      "4.0%,20000,3419.425048828125,106.12247789631621\n",
      "5.0%,25000,3422.0029296875,101.338643492245\n",
      "6.0%,30000,3418.992919921875,95.58275987152498\n",
      "7.0%,35000,3423.19775390625,93.92072354721897\n",
      "8.0%,40000,3418.42626953125,99.43657540802994\n",
      "9.0%,45000,3411.65380859375,97.067320479036\n",
      "10.0%,50000,3422.252685546875,90.64262707100075\n",
      "11.0%,55000,3417.3134765625,95.28685496380803\n",
      "12.0%,60000,3400.228271484375,88.65042836164929\n",
      "13.0%,65000,3439.283447265625,90.67398220937564\n",
      "14.0%,70000,3432.13525390625,85.3879551353745\n",
      "15.0%,75000,3419.959228515625,108.5221793287076\n",
      "16.0%,80000,3399.7548828125,96.99057406474407\n",
      "17.0%,85000,3428.171875,95.9269209144818\n",
      "18.0%,90000,3396.94921875,99.43513908219474\n",
      "19.0%,95000,3433.84423828125,94.28970284335891\n",
      "20.0%,100000,3430.66455078125,109.55259216879003\n",
      "21.0%,105000,3406.370361328125,104.33265855803448\n",
      "22.0%,110000,3402.321044921875,92.43152601638242\n",
      "23.0%,115000,3433.743408203125,98.09416755353159\n",
      "24.0%,120000,3455.68798828125,94.3443497228896\n",
      "25.0%,125000,3402.4404296875,94.2008009684911\n",
      "26.0%,130000,3419.78271484375,95.33660778414573\n",
      "27.0%,135000,3435.118408203125,94.63373510205682\n",
      "28.0%,140000,3428.154052734375,102.51361083958314\n",
      "29.0%,145000,3397.5400390625,105.42504283079711\n",
      "30.0%,150000,3397.76171875,104.55031816197533\n",
      "31.0%,155000,3431.822998046875,94.93433345504211\n",
      "32.0%,160000,3427.614501953125,92.89535353561845\n",
      "33.0%,165000,3400.32568359375,99.4134857920164\n",
      "34.0%,170000,3434.3798828125,91.66754621218216\n",
      "35.0%,175000,3418.03662109375,98.85096488308403\n",
      "36.0%,180000,3441.3896484375,98.2253495477458\n",
      "37.0%,185000,3409.409423828125,104.4960930442056\n",
      "38.0%,190000,3394.8330078125,95.16266073849432\n",
      "39.0%,195000,3412.30859375,97.65466544912942\n",
      "40.0%,200000,3396.9970703125,107.01970297167159\n",
      "41.0%,205000,3409.3388671875,104.7376697832041\n",
      "42.0%,210000,3406.34619140625,101.03326072054855\n",
      "43.0%,215000,3415.71533203125,100.94489900682595\n",
      "44.0%,220000,3394.69287109375,99.60117375872639\n",
      "45.0%,225000,3404.596923828125,95.02655254365743\n",
      "46.0%,230000,3366.451171875,101.5914651152944\n",
      "47.0%,235000,3424.022705078125,105.93434518864686\n",
      "48.0%,240000,3427.26611328125,101.6612536846505\n",
      "49.0%,245000,3433.44482421875,90.8520772119183\n",
      "50.0%,250000,3373.374267578125,99.43098329878266\n",
      "51.0%,255000,3392.382568359375,109.01345323192612\n",
      "52.0%,260000,3424.03759765625,88.18965545299326\n",
      "53.0%,265000,3436.55224609375,93.57145388845355\n",
      "54.0%,270000,3401.72802734375,97.45926302395056\n",
      "55.0%,275000,3396.0498046875,105.81844200173026\n",
      "56.0%,280000,3387.326904296875,105.95567617686717\n",
      "57.0%,285000,3406.62255859375,100.33847793261371\n",
      "58.0%,290000,3407.8349609375,108.08071814480509\n",
      "59.0%,295000,3415.637939453125,102.92598623990125\n",
      "60.0%,300000,3420.05029296875,93.192588428729\n",
      "61.0%,305000,3397.6611328125,92.15879329719489\n",
      "62.0%,310000,3404.012939453125,89.02605404930114\n",
      "63.0%,315000,3390.38720703125,87.95468288127704\n",
      "64.0%,320000,3425.42626953125,107.0306800343822\n",
      "65.0%,325000,3381.410400390625,98.67144404083494\n",
      "66.0%,330000,3392.3447265625,96.71668575749997\n",
      "67.0%,335000,3391.42236328125,101.29072516349876\n",
      "68.0%,340000,3427.50537109375,97.43129289717679\n",
      "69.0%,345000,3413.18603515625,102.57914630935812\n",
      "70.0%,350000,3427.62060546875,100.86991293827197\n",
      "71.0%,355000,3421.31591796875,90.8859618526281\n",
      "72.0%,360000,3391.380615234375,111.16438437558101\n",
      "73.0%,365000,3406.07275390625,106.00451235387109\n",
      "74.0%,370000,3397.685302734375,94.46277799493052\n",
      "75.0%,375000,3382.41259765625,99.60572939546323\n",
      "76.0%,380000,3380.31640625,103.17013825568648\n",
      "77.0%,385000,3422.3701171875,99.27386113053136\n",
      "78.0%,390000,3406.940673828125,98.77684513794622\n",
      "79.0%,395000,3392.73193359375,109.1215662423393\n",
      "80.0%,400000,3436.784423828125,91.58795428126662\n",
      "81.0%,405000,3414.075439453125,102.49945514709422\n",
      "82.0%,410000,3378.18310546875,104.19012079934662\n",
      "83.0%,415000,3404.894775390625,106.990397705881\n",
      "84.0%,420000,3400.93701171875,98.45156910454651\n",
      "85.0%,425000,3407.505859375,113.0044076777947\n",
      "86.0%,430000,3406.615478515625,98.65871471837086\n",
      "87.0%,435000,3415.866943359375,97.3267610452956\n",
      "88.0%,440000,3378.163330078125,108.04984999271376\n",
      "89.0%,445000,3394.865234375,100.86883193251631\n",
      "90.0%,450000,3421.057861328125,99.75764191908618\n",
      "91.0%,455000,3407.74169921875,97.44800528231526\n",
      "92.0%,460000,3419.213623046875,111.03520001906514\n",
      "93.0%,465000,3448.543212890625,101.85341699021286\n",
      "94.0%,470000,3402.94140625,108.76503346171488\n",
      "95.0%,475000,3397.435302734375,103.20169714517588\n",
      "96.0%,480000,3408.04345703125,102.50398128682123\n",
      "97.0%,485000,3391.515380859375,106.19488090501751\n",
      "98.0%,490000,3400.62109375,94.50047127777358\n",
      "99.0%,495000,3432.791015625,95.30568795912875\n",
      "100.0%,500000,3419.2294921875,101.89530222612372\n"
     ]
    }
   ],
   "source": [
    "### 1.loading initial coordinates\n",
    "pdb = PDBFile(pdb2_file)\n",
    "\n",
    "### 2.choosing a forcefield parameters\n",
    "ff = ForceField('amber10.xml')\n",
    "system = ff.createSystem(pdb.topology, nonbondedMethod=CutoffNonPeriodic)\n",
    "\n",
    "### 3. Choose parameters of the experiment: temperature, pressure, box size, solvation, boundary conditions, etc\n",
    "temperature = 100 * kelvin\n",
    "frictionCoeff = 1 / picosecond\n",
    "time_step = 0.002 * picoseconds\n",
    "total_steps = 1000 * picoseconds / time_step\n",
    "\n",
    "### 4. Choose an algorithm (integrator)\n",
    "integrator = LangevinIntegrator(temperature, frictionCoeff, time_step)\n",
    "\n",
    "### 5. Run simulation, saving coordinates time to time:\n",
    "\n",
    "### 5a. Create a simulation object\n",
    "simulation = Simulation(pdb.topology, system, integrator)\n",
    "simulation.context.setPositions(pdb.positions)\n",
    "\n",
    "### 5b. Minimize energy\n",
    "simulation.minimizeEnergy()\n",
    "\n",
    "### 5c. Save coordinates to dcd file and energies to a standard output console:\n",
    "out_file1 = 'data/output/polyGLY_traj_100K.dcd' \n",
    "if os.path.exists(out_file1):\n",
    "    os.remove(out_file1)\n",
    "\n",
    "fp = open(out_file1, 'w')\n",
    "fp.close()\n",
    "simulation.reporters.append(DCDReporter(out_file1, 1000))\n",
    "simulation.reporters.append(StateDataReporter(stdout, 5000, step=True, potentialEnergy=True,\\\n",
    "                                              temperature=True, progress=True, totalSteps = total_steps))\n",
    "\n",
    "### 5d. Run!\n",
    "simulation.step(total_steps)"
   ]
  },
  {
   "cell_type": "code",
   "execution_count": 5,
   "metadata": {},
   "outputs": [
    {
     "name": "stdout",
     "output_type": "stream",
     "text": [
      "#\"Progress (%)\",\"Step\",\"Potential Energy (kJ/mole)\",\"Temperature (K)\"\n",
      "1.0%,5000,4427.19189453125,471.3791654379156\n",
      "2.0%,10000,4144.43310546875,545.1352578313589\n",
      "3.0%,15000,4135.466796875,516.6255634454365\n",
      "4.0%,20000,4212.32421875,474.7913480327491\n",
      "5.0%,25000,3973.5009765625,495.7276669396095\n",
      "6.0%,30000,4082.563232421875,505.65111436666933\n",
      "7.0%,35000,3781.37255859375,465.63177502208043\n",
      "8.0%,40000,3700.07861328125,529.2457944376097\n",
      "9.0%,45000,3676.88623046875,502.98540063200556\n",
      "10.0%,50000,3672.74169921875,465.7298691939609\n",
      "11.0%,55000,3769.363037109375,494.66071440391715\n",
      "12.0%,60000,3659.763427734375,466.1521364458132\n",
      "13.0%,65000,3645.603271484375,468.59312131706207\n",
      "14.0%,70000,3574.271484375,503.07155255999635\n",
      "15.0%,75000,3409.084716796875,494.1904238346193\n",
      "16.0%,80000,3532.24755859375,495.4552380985618\n",
      "17.0%,85000,3631.31396484375,489.266090693801\n",
      "18.0%,90000,3538.09716796875,534.4738824802016\n",
      "19.0%,95000,3656.73583984375,505.7007870102056\n",
      "20.0%,100000,3620.700439453125,518.6694102963894\n",
      "21.0%,105000,3619.790283203125,491.60133576618983\n",
      "22.0%,110000,3491.231689453125,499.4422599284522\n",
      "23.0%,115000,3452.778076171875,498.6450098318863\n",
      "24.0%,120000,3653.892578125,520.0931032266649\n",
      "25.0%,125000,3618.22509765625,518.979233994885\n",
      "26.0%,130000,3499.0517578125,527.9210409890278\n",
      "27.0%,135000,3549.13671875,413.3026053339524\n",
      "28.0%,140000,3564.29052734375,492.9819054965838\n",
      "29.0%,145000,3683.4990234375,532.5143479270018\n",
      "30.0%,150000,3592.292236328125,482.4251537383833\n",
      "31.0%,155000,3597.274658203125,515.2851601852157\n",
      "32.0%,160000,3673.13525390625,488.794948447494\n",
      "33.0%,165000,3657.8544921875,498.219156692724\n",
      "34.0%,170000,3664.751953125,455.8012138292482\n",
      "35.0%,175000,3609.30322265625,498.1216506384667\n",
      "36.0%,180000,3581.53857421875,458.5871967099284\n",
      "37.0%,185000,3588.78173828125,473.25289916850176\n",
      "38.0%,190000,3535.62353515625,411.29856998495114\n",
      "39.0%,195000,3579.91650390625,497.20832453784413\n",
      "40.0%,200000,3556.3681640625,499.34314067346116\n",
      "41.0%,205000,3544.00732421875,523.7643322966359\n",
      "42.0%,210000,3528.2861328125,475.512177862106\n",
      "43.0%,215000,3404.3232421875,490.40187879263334\n",
      "44.0%,220000,3535.57861328125,506.56106243948204\n",
      "45.0%,225000,3552.719970703125,575.8977004009056\n",
      "46.0%,230000,3597.95361328125,510.91228750195285\n",
      "47.0%,235000,3625.789794921875,467.88974655212365\n",
      "48.0%,240000,3676.2587890625,507.7316511169543\n",
      "49.0%,245000,3489.755859375,474.7556359291707\n",
      "50.0%,250000,3541.963623046875,497.09452705755956\n",
      "51.0%,255000,3487.02392578125,500.37386569009055\n",
      "52.0%,260000,3432.435791015625,541.365478929136\n",
      "53.0%,265000,3560.367919921875,546.3310470215936\n",
      "54.0%,270000,3556.966552734375,533.5013037281826\n",
      "55.0%,275000,3546.342529296875,498.0577093986241\n",
      "56.0%,280000,3538.12060546875,561.9340715729702\n",
      "57.0%,285000,3584.485107421875,471.49023612223175\n",
      "58.0%,290000,3521.83251953125,480.4630484142047\n",
      "59.0%,295000,3581.700439453125,483.3939039509925\n",
      "60.0%,300000,3530.237548828125,510.6373220226869\n",
      "61.0%,305000,3521.394287109375,475.70574503396716\n",
      "62.0%,310000,3533.688232421875,518.2529379050145\n",
      "63.0%,315000,3751.281982421875,558.1866730489712\n",
      "64.0%,320000,3445.2294921875,527.0042650629935\n",
      "65.0%,325000,3500.76806640625,488.9651344691326\n",
      "66.0%,330000,3508.91845703125,480.22128068801607\n",
      "67.0%,335000,3423.9365234375,531.8937731706167\n",
      "68.0%,340000,3613.93798828125,476.7530017956602\n",
      "69.0%,345000,3465.03857421875,488.8448186685973\n",
      "70.0%,350000,3581.52490234375,493.5393916107042\n",
      "71.0%,355000,3451.13232421875,507.30733020223886\n",
      "72.0%,360000,3445.24267578125,456.4209905935535\n",
      "73.0%,365000,3705.19287109375,498.83609642992997\n",
      "74.0%,370000,3547.8154296875,486.96761221398236\n",
      "75.0%,375000,3469.410888671875,517.7715656791978\n",
      "76.0%,380000,3492.325927734375,501.06074385864207\n",
      "77.0%,385000,3493.01171875,538.1325483063874\n",
      "78.0%,390000,3598.1396484375,548.4592439735219\n",
      "79.0%,395000,3521.527099609375,498.5287816969043\n",
      "80.0%,400000,3430.970703125,507.5424601519527\n",
      "81.0%,405000,3673.293212890625,495.8178572021511\n",
      "82.0%,410000,3546.42333984375,542.7018987716602\n",
      "83.0%,415000,3339.8740234375,504.46530335722315\n",
      "84.0%,420000,3606.65380859375,516.3035775689983\n",
      "85.0%,425000,3345.726806640625,516.2681929364003\n",
      "86.0%,430000,3429.716552734375,522.1066358357143\n",
      "87.0%,435000,3495.9794921875,555.694258430689\n",
      "88.0%,440000,3542.228515625,522.9002004986795\n",
      "89.0%,445000,3495.52001953125,510.27150458020674\n",
      "90.0%,450000,3653.8974609375,567.2808531210568\n",
      "91.0%,455000,3612.01171875,530.0064724051866\n",
      "92.0%,460000,3471.916748046875,496.44366514896416\n",
      "93.0%,465000,3461.5029296875,548.3122652622993\n",
      "94.0%,470000,3645.061279296875,492.81335283452853\n",
      "95.0%,475000,3679.21728515625,460.9387379765693\n",
      "96.0%,480000,3456.896240234375,506.77991338536043\n",
      "97.0%,485000,3646.26513671875,585.032829887618\n",
      "98.0%,490000,3479.94873046875,489.9151399892868\n",
      "99.0%,495000,3612.12548828125,491.8823935162559\n",
      "100.0%,500000,3511.89208984375,467.9348270319247\n"
     ]
    }
   ],
   "source": [
    "### 1.loading initial coordinates\n",
    "pdb = PDBFile(pdb2_file)\n",
    "\n",
    "### 2.choosing a forcefield parameters\n",
    "ff = ForceField('amber10.xml')\n",
    "system = ff.createSystem(pdb.topology, nonbondedMethod=CutoffNonPeriodic)\n",
    "\n",
    "### 3. Choose parameters of the experiment: temperature, pressure, box size, solvation, boundary conditions, etc\n",
    "temperature = 500 * kelvin\n",
    "frictionCoeff = 1 / picosecond\n",
    "time_step = 0.002 * picoseconds\n",
    "total_steps = 1000 * picoseconds / time_step\n",
    "\n",
    "### 4. Choose an algorithm (integrator)\n",
    "integrator = LangevinIntegrator(temperature, frictionCoeff, time_step)\n",
    "\n",
    "### 5. Run simulation, saving coordinates time to time:\n",
    "\n",
    "### 5a. Create a simulation object\n",
    "simulation = Simulation(pdb.topology, system, integrator)\n",
    "simulation.context.setPositions(pdb.positions)\n",
    "\n",
    "### 5b. Minimize energy\n",
    "simulation.minimizeEnergy()\n",
    "\n",
    "### 5c. Save coordinates to dcd file and energies to a standard output console:\n",
    "out_file2 = 'data/output/polyGLY_traj_500K.dcd' \n",
    "if os.path.exists(out_file2):\n",
    "    os.remove(out_file2)\n",
    "\n",
    "fp = open(out_file2, 'w')\n",
    "fp.close()\n",
    "simulation.reporters.append(DCDReporter(out_file2, 1000))\n",
    "simulation.reporters.append(StateDataReporter(stdout, 5000, step=True, potentialEnergy=True,\\\n",
    "                                              temperature=True, progress=True, totalSteps = total_steps))\n",
    "\n",
    "### 5d. Run!\n",
    "simulation.step(total_steps)"
   ]
  },
  {
   "cell_type": "code",
   "execution_count": 6,
   "metadata": {},
   "outputs": [],
   "source": [
    "### 6. Visualization\n",
    "sys_100 = md.Universe(pdb2_file, out_file1)\n",
    "sys_500 = md.Universe(pdb2_file, out_file2)"
   ]
  },
  {
   "cell_type": "code",
   "execution_count": 7,
   "metadata": {},
   "outputs": [
    {
     "data": {
      "application/vnd.jupyter.widget-view+json": {
       "model_id": "3bca0598b2cb40f19466b4a6af4d29f5",
       "version_major": 2,
       "version_minor": 0
      },
      "text/plain": [
       "NGLWidget(max_frame=499)"
      ]
     },
     "metadata": {},
     "output_type": "display_data"
    },
    {
     "data": {
      "application/vnd.jupyter.widget-view+json": {
       "model_id": "8e90cbec2af744bc9213f3d6527eb305",
       "version_major": 2,
       "version_minor": 0
      },
      "text/plain": [
       "Tab(children=(Box(children=(Box(children=(Box(children=(Label(value='step'), IntSlider(value=1, min=-100)), la…"
      ]
     },
     "metadata": {},
     "output_type": "display_data"
    }
   ],
   "source": [
    "ng.show_mdanalysis(sys_100, gui=True)"
   ]
  },
  {
   "cell_type": "code",
   "execution_count": 8,
   "metadata": {},
   "outputs": [
    {
     "data": {
      "application/vnd.jupyter.widget-view+json": {
       "model_id": "eed44b9a852243f58ffa9406f19dcf32",
       "version_major": 2,
       "version_minor": 0
      },
      "text/plain": [
       "NGLWidget(max_frame=499)"
      ]
     },
     "metadata": {},
     "output_type": "display_data"
    },
    {
     "data": {
      "application/vnd.jupyter.widget-view+json": {
       "model_id": "a52531c46f1747f69b9869237bb5d90d",
       "version_major": 2,
       "version_minor": 0
      },
      "text/plain": [
       "Tab(children=(Box(children=(Box(children=(Box(children=(Label(value='step'), IntSlider(value=1, min=-100)), la…"
      ]
     },
     "metadata": {},
     "output_type": "display_data"
    }
   ],
   "source": [
    "ng.show_mdanalysis(sys_500, gui=True)"
   ]
  },
  {
   "cell_type": "code",
   "execution_count": 11,
   "metadata": {},
   "outputs": [
    {
     "name": "stdout",
     "output_type": "stream",
     "text": [
      "frame = 0: d = 90.23779296875 Angstroem, Rgyr = 26.395299307154392 Angstroem\n",
      "frame = 1: d = 89.52339172363281 Angstroem, Rgyr = 26.249090209259275 Angstroem\n",
      "frame = 2: d = 89.02169036865234 Angstroem, Rgyr = 26.242942015702212 Angstroem\n",
      "frame = 3: d = 88.66883087158203 Angstroem, Rgyr = 25.97937179832769 Angstroem\n",
      "frame = 4: d = 89.49602508544922 Angstroem, Rgyr = 26.260849776095306 Angstroem\n",
      "frame = 5: d = 89.00785064697266 Angstroem, Rgyr = 26.290628640705116 Angstroem\n",
      "frame = 6: d = 89.28889465332031 Angstroem, Rgyr = 26.286765963222813 Angstroem\n",
      "frame = 7: d = 88.98086547851562 Angstroem, Rgyr = 26.15533379446754 Angstroem\n",
      "frame = 8: d = 88.8668441772461 Angstroem, Rgyr = 26.162245238311833 Angstroem\n",
      "frame = 9: d = 88.3416748046875 Angstroem, Rgyr = 26.07284600680428 Angstroem\n",
      "frame = 10: d = 87.66120147705078 Angstroem, Rgyr = 26.13001533051673 Angstroem\n"
     ]
    }
   ],
   "source": [
    "# ref: https://docs.mdanalysis.org/stable/documentation_pages/overview.html\n",
    "# analysis of sys_100\n",
    "nterm = sys_100.select_atoms('resid 1 and name N')[0]\n",
    "cterm = sys_100.select_atoms('resid 25 and name C')[-1]\n",
    "bb = sys_100.select_atoms('protein and backbone')\n",
    "\n",
    "cnt = 0\n",
    "\n",
    "for ts in sys_100.trajectory:  # iterate through all frames\n",
    "    r = cterm.position - nterm.position  # end-to-end vector from atom positions\n",
    "    d = numpy.linalg.norm(r)  # end-to-end distance\n",
    "    rgyr = bb.radius_of_gyration()  # method of a AtomGroup; updates with each frame\n",
    "    print(f\"frame = {ts.frame}: d = {d} Angstroem, Rgyr = {rgyr} Angstroem\")\n",
    "\n",
    "    cnt += 1\n",
    "    if cnt > 10:\n",
    "        break"
   ]
  },
  {
   "cell_type": "code",
   "execution_count": 12,
   "metadata": {},
   "outputs": [
    {
     "name": "stdout",
     "output_type": "stream",
     "text": [
      "frame = 0: d = 81.83446502685547 Angstroem, Rgyr = 25.06171131000667 Angstroem\n",
      "frame = 1: d = 78.64447021484375 Angstroem, Rgyr = 23.557580048720443 Angstroem\n",
      "frame = 2: d = 80.19430541992188 Angstroem, Rgyr = 23.820166930694906 Angstroem\n",
      "frame = 3: d = 72.12089538574219 Angstroem, Rgyr = 22.478113814267214 Angstroem\n",
      "frame = 4: d = 69.38362121582031 Angstroem, Rgyr = 22.45897357569416 Angstroem\n",
      "frame = 5: d = 66.39521026611328 Angstroem, Rgyr = 21.50446513298726 Angstroem\n",
      "frame = 6: d = 60.26494598388672 Angstroem, Rgyr = 20.46344039706694 Angstroem\n",
      "frame = 7: d = 56.843929290771484 Angstroem, Rgyr = 19.77111873908417 Angstroem\n",
      "frame = 8: d = 52.74828338623047 Angstroem, Rgyr = 18.405226474745795 Angstroem\n",
      "frame = 9: d = 53.53314208984375 Angstroem, Rgyr = 18.981331981001905 Angstroem\n",
      "frame = 10: d = 53.7266845703125 Angstroem, Rgyr = 18.603406676489254 Angstroem\n"
     ]
    }
   ],
   "source": [
    "# ref: https://docs.mdanalysis.org/stable/documentation_pages/overview.html\n",
    "# analysis of sys_500\n",
    "nterm = sys_500.select_atoms('resid 1 and name N')[0]\n",
    "cterm = sys_500.select_atoms('resid 25 and name C')[-1]\n",
    "bb = sys_500.select_atoms('protein and backbone')\n",
    "\n",
    "cnt = 0\n",
    "\n",
    "for ts in sys_500.trajectory:  # iterate through all frames\n",
    "    r = cterm.position - nterm.position  # end-to-end vector from atom positions\n",
    "    d = numpy.linalg.norm(r)  # end-to-end distance\n",
    "    rgyr = bb.radius_of_gyration()  # method of a AtomGroup; updates with each frame\n",
    "    print(f\"frame = {ts.frame}: d = {d} Angstroem, Rgyr = {rgyr} Angstroem\")\n",
    "\n",
    "    cnt += 1\n",
    "    if cnt > 10:\n",
    "        break"
   ]
  }
 ],
 "metadata": {
  "kernelspec": {
   "display_name": "temp",
   "language": "python",
   "name": "python3"
  },
  "language_info": {
   "codemirror_mode": {
    "name": "ipython",
    "version": 3
   },
   "file_extension": ".py",
   "mimetype": "text/x-python",
   "name": "python",
   "nbconvert_exporter": "python",
   "pygments_lexer": "ipython3",
   "version": "3.9.7"
  },
  "orig_nbformat": 4
 },
 "nbformat": 4,
 "nbformat_minor": 2
}
