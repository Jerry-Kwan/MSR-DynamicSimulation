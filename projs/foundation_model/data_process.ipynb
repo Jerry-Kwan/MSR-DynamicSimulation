{
 "cells": [
  {
   "cell_type": "code",
   "execution_count": 1,
   "metadata": {},
   "outputs": [],
   "source": [
    "import os\n",
    "import collections\n",
    "import numpy as np\n",
    "import pandas as pd\n",
    "import pickle\n",
    "import shutil\n",
    "import torch\n",
    "import matplotlib.pyplot as plt"
   ]
  },
  {
   "cell_type": "code",
   "execution_count": 2,
   "metadata": {},
   "outputs": [],
   "source": [
    "ibm_path = 'data/finetune_datasets_from_molformer/qm9/'\n",
    "ori_path = 'data/dsgdb9nsd.xyz/'\n",
    "save_path = 'data/qm9_z_and_pos/'\n",
    "\n",
    "ibm_all = 'qm9.csv'\n",
    "ibm_train = 'qm9_train.csv'\n",
    "ibm_valid = 'qm9_valid.csv'\n",
    "ibm_test = 'qm9_test.csv'\n",
    "\n",
    "ori_file = sorted(os.listdir(ori_path))\n",
    "\n",
    "ele2num = {'H': 1, 'C': 6, 'N': 7, 'O': 8, 'F': 9, 'S': 16}"
   ]
  },
  {
   "cell_type": "code",
   "execution_count": 3,
   "metadata": {},
   "outputs": [
    {
     "data": {
      "text/plain": [
       "176"
      ]
     },
     "execution_count": 3,
     "metadata": {},
     "output_type": "execute_result"
    }
   ],
   "source": [
    "cnt = 0\n",
    "\n",
    "for i in range(len(ori_file)):\n",
    "    with open(os.path.join(ori_path, ori_file[i]), 'r') as f:\n",
    "        s = f.readlines()\n",
    "        s = ''.join(s)\n",
    "        if '*^' in s:\n",
    "            cnt += 1\n",
    "\n",
    "cnt  # 176, just a little"
   ]
  },
  {
   "cell_type": "code",
   "execution_count": 4,
   "metadata": {},
   "outputs": [
    {
     "name": "stdout",
     "output_type": "stream",
     "text": [
      "[[-0.0126981359, 1.0858041578, 0.0080009958], [0.002150416, -0.0060313176, 0.0019761204], [1.0117308433, 1.4637511618, 0.0002765748], [-0.540815069, 1.4475266138, -0.8766437152], [-0.5238136345, 1.4379326443, 0.9063972942]]\n",
      "[[2.1997e-06, 1.4462618059, 0.0098312216], [-0.0395853465, -0.0001481182, 0.0022628164], [-0.0102031441, -0.7914294915, -1.1197711939], [0.0424480479, -2.1071237431, -0.7205292439], [0.051416093, -2.1148079393, 0.7011850782], [0.0029673515, -0.8035395846, 1.1152367693], [1.027926131, 1.828132226, 0.0028554018], [-0.5211791052, 1.8337374247, -0.8690329378], [-0.5054481987, 1.8237838058, 0.9020802045], [-0.0304306812, -0.3464381728, -2.1023011685], [0.0571095205, -2.9656370805, -1.3743309873], [0.0741869784, -2.9803348886, 1.3454340259], [-0.0055890963, -0.3691945839, 2.1026885337]]\n",
      "[[0.0133507793, 1.5040546487, 0.006989626], [1.6733e-06, 0.0133769095, -0.0262146453], [-0.078210901, -0.8319277405, -1.0873479499], [-0.056644575, -2.1143654586, -0.6279941804], [0.0359071051, -1.9841840524, 0.7247487779], [0.0727384938, -0.747601428, 1.131007927], [0.0795842133, -3.162692291, 1.4985512314], [0.1166200722, -4.1699132639, 2.154583076], [0.9306757954, 1.87414991, 0.4760326155], [-0.0509630084, 1.9205241896, -1.0013502077], [-0.8278007938, 1.8872772656, 0.5935661695], [-0.1495174189, -0.7053544633, -2.1541679617], [0.1496713549, -5.0559914656, 2.7397186319]]\n",
      "[[-1.0119e-06, 1.2678451805, 0.4712431153], [-0.0853709536, -0.0951758987, 0.11288545], [-1.5472702639, -0.5294926311, -0.1110743443], [-1.7623036591, -2.0698408115, -0.0085715196], [-2.2840348643, -1.7907808105, 1.4240115701], [-2.4155843947, -0.3554522114, 1.072616103], [-2.0547875594, 0.1454388987, -1.31601718], [-2.4034274765, 0.6974679709, -2.2703191564], [-0.2587339185, 1.7964763082, -0.293079169], [0.5167350759, -0.3335760434, -0.7765340549], [0.3201019561, -0.6599202743, 0.9586103717], [-2.5318661864, -2.4352484942, -0.6878642872], [-0.8633243283, -2.6793127317, -0.1120496258], [-3.2288592709, -2.263874216, 1.7053975659], [-1.5389959069, -2.0096052587, 2.1993359059], [-2.0575286378, 0.3240500432, 1.7369025552]]\n",
      "[[0.0043540212, 1.3675955194, 0.0222419447], [0.0210248924, -0.0464014868, -0.019526599], [-1.2359462743, -0.6152589726, 2.6555e-06], [-2.1571818073, -0.5492829514, 1.2595760634], [-2.6940612532, -1.8950688368, 0.7745063908], [-2.7382901802, -1.850244806, -0.7626773433], [-2.2278116868, -0.4776515309, -1.1986656353], [-1.4552985502, -2.1780502375, -0.0392670466], [1.044202175, 1.700536843, 0.0027566325], [-0.5225008453, 1.7940772691, -0.8433949931], [-0.4724017209, 1.7420126858, 0.9394654252], [-1.5688253797, -0.6644197217, 2.1742690356], [-2.8477822105, 0.2966093824, 1.3555726918], [-3.294131156, -2.6061855291, 1.3267944879], [-3.3702994835, -2.5290036776, -1.3200313125], [-2.921320048, 0.3712746028, -1.205516978], [-1.6931014135, -0.5384296578, -2.1507564495], [-0.7775456191, -3.0169440343, -0.08322912]]\n"
     ]
    }
   ],
   "source": [
    "def get_u0(s):\n",
    "    return float(s[1].split()[12])\n",
    "\n",
    "\n",
    "def get_smile(s):\n",
    "    return s[-2].split()[0]\n",
    "\n",
    "\n",
    "def get_z(s):\n",
    "    num_atoms = int(s[0].split()[0])\n",
    "    ret = []\n",
    "\n",
    "    for i in range(num_atoms):\n",
    "        ret.append(ele2num[s[i + 2].split()[0]])\n",
    "\n",
    "    return ret\n",
    "\n",
    "\n",
    "def get_pos(s):\n",
    "    num_atoms = int(s[0].split()[0])\n",
    "    ret = []\n",
    "\n",
    "    def process(s):\n",
    "        \"\"\"不太清楚 *^ 表示什么, 这里处理为 e, 原因是下面这个 torch_geometric qm9 数据集用的数据链接\n",
    "        中的数据把含 *^ 的项都处理为 0.0 了, 所以处理为 * 表示省略后面的数字且 ^ 表示指数的话就不太合适,\n",
    "        因为这样的话比如 gdb_10422 的 -1.0119*^-6 就会是 -0.9 左右, 就比较大了.\n",
    "\n",
    "        Link:\n",
    "            https://deepchemdata.s3-us-west-1.amazonaws.com/datasets/molnet_publish/qm9.zip\n",
    "\n",
    "        关于链接中 sdf 的文件说明:\n",
    "            https://blog.csdn.net/weixin_43135178/article/details/128566390\n",
    "        \"\"\"\n",
    "        if '*^' not in s:\n",
    "            return float(s)\n",
    "\n",
    "        s = s.split('*^')\n",
    "        a, b = float(s[0]), int(s[1])\n",
    "        return a * (10**b)\n",
    "\n",
    "    for i in range(num_atoms):\n",
    "        line = s[i + 2].split()[1:]\n",
    "        pos = []\n",
    "        pos.append(process(line[0]))\n",
    "        pos.append(process(line[1]))\n",
    "        pos.append(process(line[2]))\n",
    "        ret.append(pos)\n",
    "\n",
    "    return ret\n",
    "\n",
    "\n",
    "with open(os.path.join(ori_path, ori_file[0]), 'r') as f:\n",
    "    s = f.readlines()\n",
    "    print(get_pos(s))\n",
    "\n",
    "with open(os.path.join(ori_path, ori_file[211]), 'r') as f:  # *^ exists\n",
    "    s = f.readlines()\n",
    "    print(get_pos(s))\n",
    "\n",
    "with open(os.path.join(ori_path, ori_file[4723]), 'r') as f:  # *^ exists\n",
    "    s = f.readlines()\n",
    "    print(get_pos(s))\n",
    "\n",
    "with open(os.path.join(ori_path, ori_file[10421]), 'r') as f:  # *^ exists\n",
    "    s = f.readlines()\n",
    "    print(get_pos(s))\n",
    "\n",
    "with open(os.path.join(ori_path, ori_file[17521]), 'r') as f:  # *^ exists\n",
    "    s = f.readlines()\n",
    "    print(get_pos(s))"
   ]
  },
  {
   "cell_type": "code",
   "execution_count": 5,
   "metadata": {},
   "outputs": [
    {
     "name": "stdout",
     "output_type": "stream",
     "text": [
      "all\n",
      "total: ibm 133885, ori 133885\n",
      "0 u0 diff, 26059 smile diff\n",
      "u0: ibm[], ori[]\n",
      "smile head 3: ibm['C(=O)N', 'CC(=O)C', 'CC(=O)N'], ori['NC=O', 'CC(C)=O', 'CC(N)=O']\n",
      "smile tail 3: ibm['C(CCO)CC(F)(F)F', 'C(CO)NCC(F)(F)F', 'C(COCC(F)(F)F)O'], ori['OCCCCC(F)(F)F', 'OCCNCC(F)(F)F', 'OCCOCC(F)(F)F']\n"
     ]
    }
   ],
   "source": [
    "# inspect ibm all\n",
    "df = pd.read_csv(os.path.join(ibm_path, ibm_all))\n",
    "ibm_smile = df['smiles'].tolist()\n",
    "ibm_u0 = df['u0'].tolist()\n",
    "\n",
    "diff_smile_ibm = []\n",
    "diff_smile_ori = []\n",
    "diff_u0_ibm = []\n",
    "diff_u0_ori = []\n",
    "\n",
    "for i in range(len(ori_file)):\n",
    "    with open(os.path.join(ori_path, ori_file[i]), 'r') as f:\n",
    "        s = f.readlines()\n",
    "        u0 = get_u0(s)\n",
    "        smile = get_smile(s)\n",
    "\n",
    "        if u0 != ibm_u0[i]:\n",
    "            diff_u0_ori.append(u0)\n",
    "            diff_u0_ibm.append(ibm_u0[i])\n",
    "\n",
    "        if smile != ibm_smile[i]:\n",
    "            diff_smile_ori.append(smile)\n",
    "            diff_smile_ibm.append(ibm_smile[i])\n",
    "\n",
    "print('all')\n",
    "print(f'total: ibm {len(df)}, ori {len(ori_file)}')  # total: ibm 133885, ori 133885\n",
    "print(f'{len(diff_u0_ibm)} u0 diff, {len(diff_smile_ibm)} smile diff')  # u0: 0, smile: 26059\n",
    "print(f'u0: ibm{diff_u0_ibm}, ori{diff_u0_ori}')\n",
    "print(f'smile head 3: ibm{diff_smile_ibm[:3]}, ori{diff_smile_ori[:3]}')\n",
    "print(f'smile tail 3: ibm{diff_smile_ibm[-3:]}, ori{diff_smile_ori[-3:]}')"
   ]
  },
  {
   "cell_type": "code",
   "execution_count": 6,
   "metadata": {},
   "outputs": [
    {
     "name": "stdout",
     "output_type": "stream",
     "text": [
      "train\n",
      "total: ibm 108446, ori 108446\n",
      "0 u0 diff, 21152 smile diff\n",
      "u0: ibm[], ori[]\n",
      "smile head 3: ibm['Cc1c2c(c[nH]1)CC=C2', 'C1CC1CC2CC2', 'c1(noc(=O)o1)N'], ori['CC1=C2C=CCC2=CN1', 'C(C1CC1)C1CC1', 'NC1=NOC(=O)O1']\n",
      "smile tail 3: ibm['c1nc(c2n1CCO2)O', 'c1c(oc(n1)CO)C#N', 'C(#CC#N)C#CC(=O)N'], ori['OC1=C2OCCN2C=N1', 'OCC1=NC=C(O1)C#N', 'NC(=O)C#CC#CC#N']\n"
     ]
    }
   ],
   "source": [
    "# inspect ibm train\n",
    "df = pd.read_csv(os.path.join(ibm_path, ibm_train))\n",
    "ibm_smile = df['smiles'].tolist()\n",
    "ibm_u0 = df['u0'].tolist()\n",
    "ibm_id = df['mol_id']\n",
    "\n",
    "diff_smile_ibm = []\n",
    "diff_smile_ori = []\n",
    "diff_u0_ibm = []\n",
    "diff_u0_ori = []\n",
    "\n",
    "for i in range(len(df)):\n",
    "    id = int(ibm_id[i][4:])\n",
    "    with open(os.path.join(ori_path, ori_file[id - 1]), 'r') as f:\n",
    "        s = f.readlines()\n",
    "        u0 = get_u0(s)\n",
    "        smile = get_smile(s)\n",
    "\n",
    "        if u0 != ibm_u0[i]:\n",
    "            diff_u0_ori.append(u0)\n",
    "            diff_u0_ibm.append(ibm_u0[i])\n",
    "\n",
    "        if smile != ibm_smile[i]:\n",
    "            diff_smile_ori.append(smile)\n",
    "            diff_smile_ibm.append(ibm_smile[i])\n",
    "\n",
    "print('train')\n",
    "print(f'total: ibm {len(df)}, ori {len(df)}')  # ibm 108446, ori 108446\n",
    "print(f'{len(diff_u0_ibm)} u0 diff, {len(diff_smile_ibm)} smile diff')  # u0: 0, smile: 21152\n",
    "print(f'u0: ibm{diff_u0_ibm}, ori{diff_u0_ori}')\n",
    "print(f'smile head 3: ibm{diff_smile_ibm[:3]}, ori{diff_smile_ori[:3]}')\n",
    "print(f'smile tail 3: ibm{diff_smile_ibm[-3:]}, ori{diff_smile_ori[-3:]}')"
   ]
  },
  {
   "cell_type": "code",
   "execution_count": 7,
   "metadata": {},
   "outputs": [
    {
     "name": "stdout",
     "output_type": "stream",
     "text": [
      "valid\n",
      "total: ibm 12050, ori 12050\n",
      "0 u0 diff, 2311 smile diff\n",
      "u0: ibm[], ori[]\n",
      "smile head 3: ibm['c1([nH]c(=O)nc(n1)O)N', 'c1noc(=NCCO)o1', 'CCC(CC)OCC'], ori['NC1=NC(O)=NC(=O)N1', 'OCCN=C1OC=NO1', 'CCOC(CC)CC']\n",
      "smile tail 3: ibm['Cc1c(ncnc1F)N', 'c1c(c(c[nH]1)C=O)CO', 'C#Cc1c([nH]nn1)CO'], ori['CC1=C(N)N=CN=C1F', 'OCC1=CNC=C1C=O', 'OCC1=C(N=NN1)C#C']\n"
     ]
    }
   ],
   "source": [
    "# inspect ibm valid\n",
    "df = pd.read_csv(os.path.join(ibm_path, ibm_valid))\n",
    "ibm_smile = df['smiles'].tolist()\n",
    "ibm_u0 = df['u0'].tolist()\n",
    "ibm_id = df['mol_id']\n",
    "\n",
    "diff_smile_ibm = []\n",
    "diff_smile_ori = []\n",
    "diff_u0_ibm = []\n",
    "diff_u0_ori = []\n",
    "\n",
    "for i in range(len(df)):\n",
    "    id = int(ibm_id[i][4:])\n",
    "    with open(os.path.join(ori_path, ori_file[id - 1]), 'r') as f:\n",
    "        s = f.readlines()\n",
    "        u0 = get_u0(s)\n",
    "        smile = get_smile(s)\n",
    "\n",
    "        if u0 != ibm_u0[i]:\n",
    "            diff_u0_ori.append(u0)\n",
    "            diff_u0_ibm.append(ibm_u0[i])\n",
    "\n",
    "        if smile != ibm_smile[i]:\n",
    "            diff_smile_ori.append(smile)\n",
    "            diff_smile_ibm.append(ibm_smile[i])\n",
    "\n",
    "print('valid')\n",
    "print(f'total: ibm {len(df)}, ori {len(df)}')  # ibm 12050, ori 12050\n",
    "print(f'{len(diff_u0_ibm)} u0 diff, {len(diff_smile_ibm)} smile diff')  # u0: 0, smile: 2311\n",
    "print(f'u0: ibm{diff_u0_ibm}, ori{diff_u0_ori}')\n",
    "print(f'smile head 3: ibm{diff_smile_ibm[:3]}, ori{diff_smile_ori[:3]}')\n",
    "print(f'smile tail 3: ibm{diff_smile_ibm[-3:]}, ori{diff_smile_ori[-3:]}')"
   ]
  },
  {
   "cell_type": "code",
   "execution_count": 8,
   "metadata": {},
   "outputs": [
    {
     "name": "stdout",
     "output_type": "stream",
     "text": [
      "test\n",
      "total: ibm 13389, ori 13389\n",
      "0 u0 diff, 2596 smile diff\n",
      "u0: ibm[], ori[]\n",
      "smile head 3: ibm['CC(C)COC=NC', 'CN=C(C(=O)N)N1CC1', 'CC1(CC(=O)CO1)C'], ori['CN=COCC(C)C', 'CN=C(N1CC1)C(N)=O', 'CC1(C)CC(=O)CO1']\n",
      "smile tail 3: ibm['C1CC(=NO)C(=C1)C=O', 'CCOc1c(nno1)N', 'CNc1ncnn1C'], ori['ON=C1CCC=C1C=O', 'CCOC1=C(N)N=NO1', 'CNC1=NC=NN1C']\n"
     ]
    }
   ],
   "source": [
    "# inspect ibm test\n",
    "df = pd.read_csv(os.path.join(ibm_path, ibm_test))\n",
    "ibm_smile = df['smiles'].tolist()\n",
    "ibm_u0 = df['u0'].tolist()\n",
    "ibm_id = df['mol_id']\n",
    "\n",
    "diff_smile_ibm = []\n",
    "diff_smile_ori = []\n",
    "diff_u0_ibm = []\n",
    "diff_u0_ori = []\n",
    "\n",
    "for i in range(len(df)):\n",
    "    id = int(ibm_id[i][4:])\n",
    "    with open(os.path.join(ori_path, ori_file[id - 1]), 'r') as f:\n",
    "        s = f.readlines()\n",
    "        u0 = get_u0(s)\n",
    "        smile = get_smile(s)\n",
    "\n",
    "        if u0 != ibm_u0[i]:\n",
    "            diff_u0_ori.append(u0)\n",
    "            diff_u0_ibm.append(ibm_u0[i])\n",
    "\n",
    "        if smile != ibm_smile[i]:\n",
    "            diff_smile_ori.append(smile)\n",
    "            diff_smile_ibm.append(ibm_smile[i])\n",
    "\n",
    "print('test')\n",
    "print(f'total: ibm {len(df)}, ori {len(df)}')  # ibm 13389, ori 13389\n",
    "print(f'{len(diff_u0_ibm)} u0 diff, {len(diff_smile_ibm)} smile diff')  # u0: 0, smile: 2596\n",
    "print(f'u0: ibm{diff_u0_ibm}, ori{diff_u0_ori}')\n",
    "print(f'smile head 3: ibm{diff_smile_ibm[:3]}, ori{diff_smile_ori[:3]}')\n",
    "print(f'smile tail 3: ibm{diff_smile_ibm[-3:]}, ori{diff_smile_ori[-3:]}')"
   ]
  },
  {
   "cell_type": "code",
   "execution_count": 9,
   "metadata": {},
   "outputs": [],
   "source": [
    "def process_and_save(mode):\n",
    "    \"\"\"Process data and save to file.\n",
    "\n",
    "    Returns\n",
    "    -------\n",
    "    save_dict: dict\n",
    "        A dict containing z and pos.\n",
    "        z is a 2D list, z[0] represents the first molecule, z[0][0] is the atomic number of\n",
    "        one of the atoms in z[0].\n",
    "        pos is a 3D list, pos[0] represents the first molecule, pos[0][0] is the xyz-coordinate of one of\n",
    "        the atoms in the first molecule, pos[0][0][0] is x-coordinate (unit: Angstrom).\n",
    "    \"\"\"\n",
    "    if mode == 'train':\n",
    "        f = ibm_train\n",
    "    elif mode == 'valid':\n",
    "        f = ibm_valid\n",
    "    elif mode == 'test':\n",
    "        f = ibm_test\n",
    "    else:\n",
    "        raise RuntimeError('No {mode} mode.')\n",
    "\n",
    "    df = pd.read_csv(os.path.join(ibm_path, f))\n",
    "    ibm_id = df['mol_id']\n",
    "\n",
    "    z = []\n",
    "    pos = []\n",
    "\n",
    "    for i in range(len(df)):\n",
    "        id = int(ibm_id[i][4:])\n",
    "        with open(os.path.join(ori_path, ori_file[id - 1]), 'r') as f:\n",
    "            s = f.readlines()\n",
    "            zz = get_z(s)\n",
    "            pp = get_pos(s)\n",
    "            z.append(zz)\n",
    "            pos.append(pp)\n",
    "\n",
    "    save_dict = {'z': z, 'pos': pos}\n",
    "    with open(os.path.join(save_path, f'qm9_{mode}.pkl'), 'wb') as pkl_file:\n",
    "        pickle.dump(save_dict, pkl_file)"
   ]
  },
  {
   "cell_type": "code",
   "execution_count": 10,
   "metadata": {},
   "outputs": [
    {
     "name": "stdout",
     "output_type": "stream",
     "text": [
      "Remove the original save file and regenerate.\n"
     ]
    }
   ],
   "source": [
    "if os.path.exists(save_path):\n",
    "    print('Remove the original save file and regenerate.')\n",
    "    shutil.rmtree(save_path)\n",
    "\n",
    "os.mkdir(save_path)\n",
    "\n",
    "process_and_save('train')\n",
    "process_and_save('valid')\n",
    "process_and_save('test')"
   ]
  },
  {
   "cell_type": "code",
   "execution_count": 13,
   "metadata": {},
   "outputs": [
    {
     "name": "stdout",
     "output_type": "stream",
     "text": [
      "[6, 8, 6, 6, 6, 8, 6, 6, 6, 1, 1, 1, 1, 1, 1, 1, 1, 1, 1, 1, 1]\n",
      "[[0.0963776586, 1.2907754001, 0.3875361606], [-0.0134906138, -0.0040809446, -0.1752918024], [-1.3039041799, -0.5175242395, -0.142579665], [-1.8554497207, -1.0766970244, 1.155527066], [-1.5133211443, -1.9900183774, -0.0054290001], [-2.5815626996, -2.390722721, -0.8174030835], [-2.7793779018, -1.387405183, -1.8331084743], [-4.2243363016, -1.4381600614, -2.2933760041], [-2.3216309068, -0.0561030174, -1.1923438233], [1.1515541068, 1.5694953214, 0.3413062617], [-0.490824695, 2.0322110605, -0.1732546198], [-0.2357921833, 1.3055387235, 1.435057744], [-1.1758583873, -1.0972006743, 2.0016471808], [-2.9036424929, -0.9302694912, 1.3944811698], [-0.6875244151, -2.6899992002, 0.0729807649], [-2.1127372941, -1.6177672702, -2.6794364372], [-4.8991139651, -1.20951188, -1.4624383976], [-4.3961202888, -0.7111189737, -3.0933997854], [-4.4724655925, -2.432956593, -2.6737181517], [-3.1687904259, 0.4807952524, -0.7509536733], [-1.8425652369, 0.6003772733, -1.9232628101]]\n",
      "[6, 6, 7, 6, 6, 6, 8, 6, 7, 1, 1, 1, 1, 1, 1, 1, 1, 1, 1]\n",
      "[[0.0880258839, 1.5160424156, -0.1534812665], [-0.0233564481, -0.0116482207, 0.044319761], [0.8119216686, -0.5890847536, 1.0942343429], [2.2461181639, -0.5793433299, 0.8281599439], [2.96256389, -1.278226792, 1.9553365404], [4.2905292694, -0.853568291, 2.4093925225], [3.1212935752, -0.5070959167, 3.1530298445], [-1.4279331302, -0.3766919833, 0.3053594284], [-2.5356403133, -0.6315869113, 0.5112573898], [1.1152735453, 1.7898527689, -0.4062907498], [-0.5666096208, 1.8520882127, -0.9623690622], [-0.1998391772, 2.0415538355, 0.7617109957], [0.2601687817, -0.5059944926, -0.8946004063], [0.6242113169, -0.1350104824, 1.9832253118], [2.4251189389, -1.1244078719, -0.1085281595], [2.6794982595, 0.4281142029, 0.7106918323], [2.652246556, -2.3083923374, 2.1295946411], [4.9519684089, -1.5755043456, 2.8853711934], [4.7911321412, -0.0236197573, 1.9121354568]]\n",
      "[6, 6, 6, 6, 6, 6, 6, 7, 6, 1, 1, 1, 1, 1, 1, 1, 1, 1, 1, 1]\n",
      "[[0.1888912199, 1.5281609224, -0.1444260311], [-0.0788842039, 0.033429117, 0.1103125717], [0.6402261025, -0.4954222182, 1.3065894621], [0.1981058272, -1.0096270811, 2.4594786088], [1.4681783885, -1.3719198977, 3.192217262], [2.5299915594, -0.2546782128, 2.9437329763], [3.5730312712, -1.3713106276, 2.8531436985], [2.3984402515, -2.0057594636, 2.1043638028], [2.1496579114, -0.5990651305, 1.4706775592], [1.2556112785, 1.7212206101, -0.2983234532], [-0.3445116225, 1.871781505, -1.0358678271], [-0.140089876, 2.1336025222, 0.7056992707], [-1.1549829957, -0.1329110609, 0.2316469477], [0.2262266141, -0.5363509503, -0.7784561678], [-0.815301079, -1.178714076, 2.7959021724], [1.4308042329, -1.9083032199, 4.1414912699], [2.5934268813, 0.736090365, 3.4129133525], [4.4532128433, -1.2071540151, 2.2245725495], [3.843171605, -1.9025344962, 3.7706252897], [2.8131012602, -0.3387665518, 0.6434809054]]\n"
     ]
    }
   ],
   "source": [
    "# inspect pkl\n",
    "with open(os.path.join(save_path, 'qm9_train.pkl'), 'rb') as f:\n",
    "    data = pickle.load(f)\n",
    "    print(data['z'][0])\n",
    "    print(data['pos'][0])\n",
    "    print(data['z'][1])\n",
    "    print(data['pos'][1])\n",
    "    print(data['z'][-1])\n",
    "    print(data['pos'][-1])"
   ]
  }
 ],
 "metadata": {
  "kernelspec": {
   "display_name": "temp",
   "language": "python",
   "name": "python3"
  },
  "language_info": {
   "codemirror_mode": {
    "name": "ipython",
    "version": 3
   },
   "file_extension": ".py",
   "mimetype": "text/x-python",
   "name": "python",
   "nbconvert_exporter": "python",
   "pygments_lexer": "ipython3",
   "version": "3.9.7"
  },
  "orig_nbformat": 4
 },
 "nbformat": 4,
 "nbformat_minor": 2
}
